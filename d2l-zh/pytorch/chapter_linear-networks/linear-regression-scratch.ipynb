{
 "cells": [
  {
   "cell_type": "markdown",
   "id": "d90261b4",
   "metadata": {
    "origin_pos": 0
   },
   "source": [
    "# 线性回归的从零开始实现\n",
    ":label:`sec_linear_scratch`\n",
    "\n",
    "在了解线性回归的关键思想之后，我们可以开始通过代码来动手实现线性回归了。\n",
    "在这一节中，(**我们将从零开始实现整个方法，\n",
    "包括数据流水线、模型、损失函数和小批量随机梯度下降优化器**)。\n",
    "虽然现代的深度学习框架几乎可以自动化地进行所有这些工作，但从零开始实现可以确保我们真正知道自己在做什么。\n",
    "同时，了解更细致的工作原理将方便我们自定义模型、自定义层或自定义损失函数。\n",
    "在这一节中，我们将只使用张量和自动求导。\n",
    "在之后的章节中，我们会充分利用深度学习框架的优势，介绍更简洁的实现方式。\n"
   ]
  },
  {
   "cell_type": "code",
   "execution_count": 1,
   "id": "5afac710",
   "metadata": {
    "execution": {
     "iopub.execute_input": "2022-12-07T16:43:03.768491Z",
     "iopub.status.busy": "2022-12-07T16:43:03.768163Z",
     "iopub.status.idle": "2022-12-07T16:43:06.309758Z",
     "shell.execute_reply": "2022-12-07T16:43:06.308920Z"
    },
    "origin_pos": 2,
    "tab": [
     "pytorch"
    ],
    "ExecuteTime": {
     "end_time": "2023-06-27T14:12:07.272421300Z",
     "start_time": "2023-06-27T14:12:05.415914Z"
    }
   },
   "outputs": [],
   "source": [
    "%matplotlib inline\n",
    "import random\n",
    "import torch\n",
    "from d2l import torch as d2l"
   ]
  },
  {
   "cell_type": "markdown",
   "id": "9737c61d",
   "metadata": {
    "origin_pos": 5
   },
   "source": [
    "## 生成数据集\n",
    "\n",
    "为了简单起见，我们将[**根据带有噪声的线性模型构造一个人造数据集。**]\n",
    "我们的任务是使用这个有限样本的数据集来恢复这个模型的参数。\n",
    "我们将使用低维数据，这样可以很容易地将其可视化。\n",
    "在下面的代码中，我们生成一个包含1000个样本的数据集，\n",
    "每个样本包含从标准正态分布中采样的2个特征。\n",
    "我们的合成数据集是一个矩阵$\\mathbf{X}\\in \\mathbb{R}^{1000 \\times 2}$。\n",
    "\n",
    "(**我们使用线性模型参数$\\mathbf{w} = [2, -3.4]^\\top$、$b = 4.2$\n",
    "和噪声项$\\epsilon$生成数据集及其标签：\n",
    "\n",
    "$$\\mathbf{y}= \\mathbf{X} \\mathbf{w} + b + \\mathbf\\epsilon.$$\n",
    "**)\n",
    "\n",
    "$\\epsilon$可以视为模型预测和标签时的潜在观测误差。\n",
    "在这里我们认为标准假设成立，即$\\epsilon$服从均值为0的正态分布。\n",
    "为了简化问题，我们将标准差设为0.01。\n",
    "下面的代码生成合成数据集。\n"
   ]
  },
  {
   "cell_type": "code",
   "execution_count": 4,
   "id": "a12aa0dc",
   "metadata": {
    "execution": {
     "iopub.execute_input": "2022-12-07T16:43:06.314470Z",
     "iopub.status.busy": "2022-12-07T16:43:06.313919Z",
     "iopub.status.idle": "2022-12-07T16:43:06.319119Z",
     "shell.execute_reply": "2022-12-07T16:43:06.318364Z"
    },
    "origin_pos": 6,
    "tab": [
     "pytorch"
    ],
    "ExecuteTime": {
     "end_time": "2023-06-27T14:13:58.735815400Z",
     "start_time": "2023-06-27T14:13:58.718364100Z"
    }
   },
   "outputs": [],
   "source": [
    "def synthetic_data(w, b, num_examples):  #@save\n",
    "    \"\"\"生成y=Xw+b+噪声\"\"\"\n",
    "    X = torch.normal(0, 1, (num_examples, len(w))) #生成一个 1000*2 的数据集\n",
    "    y = torch.matmul(X, w) + b\n",
    "    y += torch.normal(0, 0.01, y.shape) #生成一个 1000*1 的数据集\n",
    "    return X, y.reshape((-1, 1))"
   ]
  },
  {
   "cell_type": "code",
   "execution_count": 32,
   "id": "c825e9f2",
   "metadata": {
    "execution": {
     "iopub.execute_input": "2022-12-07T16:43:06.322894Z",
     "iopub.status.busy": "2022-12-07T16:43:06.322362Z",
     "iopub.status.idle": "2022-12-07T16:43:06.346342Z",
     "shell.execute_reply": "2022-12-07T16:43:06.345545Z"
    },
    "origin_pos": 8,
    "tab": [
     "pytorch"
    ],
    "ExecuteTime": {
     "end_time": "2023-06-28T00:53:24.475260Z",
     "start_time": "2023-06-28T00:53:24.456126800Z"
    }
   },
   "outputs": [],
   "source": [
    "true_w = torch.tensor([2, 1.5])\n",
    "true_b = 0\n",
    "features, labels = synthetic_data(true_w, true_b, 1000)"
   ]
  },
  {
   "cell_type": "markdown",
   "id": "8f793e73",
   "metadata": {
    "origin_pos": 9
   },
   "source": [
    "注意，[**`features`中的每一行都包含一个二维数据样本，\n",
    "`labels`中的每一行都包含一维标签值（一个标量）**]。\n"
   ]
  },
  {
   "cell_type": "code",
   "execution_count": 33,
   "id": "ff9bf839",
   "metadata": {
    "execution": {
     "iopub.execute_input": "2022-12-07T16:43:06.350058Z",
     "iopub.status.busy": "2022-12-07T16:43:06.349622Z",
     "iopub.status.idle": "2022-12-07T16:43:06.356271Z",
     "shell.execute_reply": "2022-12-07T16:43:06.355499Z"
    },
    "origin_pos": 10,
    "tab": [
     "pytorch"
    ],
    "ExecuteTime": {
     "end_time": "2023-06-28T00:53:27.401114700Z",
     "start_time": "2023-06-28T00:53:27.393611600Z"
    }
   },
   "outputs": [
    {
     "name": "stdout",
     "output_type": "stream",
     "text": [
      "features: tensor([0.5592, 0.5674]) \n",
      "label: tensor([1.9663])\n"
     ]
    }
   ],
   "source": [
    "print('features:', features[0],'\\nlabel:', labels[0])"
   ]
  },
  {
   "cell_type": "markdown",
   "id": "fceaa9b1",
   "metadata": {
    "origin_pos": 11
   },
   "source": [
    "通过生成第二个特征`features[:, 1]`和`labels`的散点图，\n",
    "可以直观观察到两者之间的线性关系。\n"
   ]
  },
  {
   "cell_type": "code",
   "execution_count": 34,
   "id": "ec27cda9",
   "metadata": {
    "execution": {
     "iopub.execute_input": "2022-12-07T16:43:06.360566Z",
     "iopub.status.busy": "2022-12-07T16:43:06.360291Z",
     "iopub.status.idle": "2022-12-07T16:43:06.547379Z",
     "shell.execute_reply": "2022-12-07T16:43:06.546494Z"
    },
    "origin_pos": 12,
    "tab": [
     "pytorch"
    ],
    "ExecuteTime": {
     "end_time": "2023-06-28T00:53:29.918564400Z",
     "start_time": "2023-06-28T00:53:29.833775300Z"
    }
   },
   "outputs": [
    {
     "data": {
      "text/plain": "<Figure size 350x250 with 1 Axes>",
      "image/svg+xml": "<?xml version=\"1.0\" encoding=\"utf-8\" standalone=\"no\"?>\n<!DOCTYPE svg PUBLIC \"-//W3C//DTD SVG 1.1//EN\"\n  \"http://www.w3.org/Graphics/SVG/1.1/DTD/svg11.dtd\">\n<svg xmlns:xlink=\"http://www.w3.org/1999/xlink\" width=\"231.442187pt\" height=\"169.678125pt\" viewBox=\"0 0 231.442187 169.678125\" xmlns=\"http://www.w3.org/2000/svg\" version=\"1.1\">\n <metadata>\n  <rdf:RDF xmlns:dc=\"http://purl.org/dc/elements/1.1/\" xmlns:cc=\"http://creativecommons.org/ns#\" xmlns:rdf=\"http://www.w3.org/1999/02/22-rdf-syntax-ns#\">\n   <cc:Work>\n    <dc:type rdf:resource=\"http://purl.org/dc/dcmitype/StillImage\"/>\n    <dc:date>2023-06-28T08:53:29.877421</dc:date>\n    <dc:format>image/svg+xml</dc:format>\n    <dc:creator>\n     <cc:Agent>\n      <dc:title>Matplotlib v3.5.1, https://matplotlib.org/</dc:title>\n     </cc:Agent>\n    </dc:creator>\n   </cc:Work>\n  </rdf:RDF>\n </metadata>\n <defs>\n  <style type=\"text/css\">*{stroke-linejoin: round; stroke-linecap: butt}</style>\n </defs>\n <g id=\"figure_1\">\n  <g id=\"patch_1\">\n   <path d=\"M 0 169.678125 \nL 231.442187 169.678125 \nL 231.442187 0 \nL 0 0 \nz\n\" style=\"fill: #ffffff\"/>\n  </g>\n  <g id=\"axes_1\">\n   <g id=\"patch_2\">\n    <path d=\"M 28.942188 145.8 \nL 224.242188 145.8 \nL 224.242188 7.2 \nL 28.942188 7.2 \nz\n\" style=\"fill: #ffffff\"/>\n   </g>\n   <g id=\"PathCollection_1\">\n    <defs>\n     <path id=\"m135d6afed7\" d=\"M 0 0.5 \nC 0.132602 0.5 0.25979 0.447317 0.353553 0.353553 \nC 0.447317 0.25979 0.5 0.132602 0.5 0 \nC 0.5 -0.132602 0.447317 -0.25979 0.353553 -0.353553 \nC 0.25979 -0.447317 0.132602 -0.5 0 -0.5 \nC -0.132602 -0.5 -0.25979 -0.447317 -0.353553 -0.353553 \nC -0.447317 -0.25979 -0.5 -0.132602 -0.5 0 \nC -0.5 0.132602 -0.447317 0.25979 -0.353553 0.353553 \nC -0.25979 0.447317 -0.132602 0.5 0 0.5 \nz\n\" style=\"stroke: #1f77b4\"/>\n    </defs>\n    <g clip-path=\"url(#p12a735cf27)\">\n     <use xlink:href=\"#m135d6afed7\" x=\"150.267131\" y=\"56.856091\" style=\"fill: #1f77b4; stroke: #1f77b4\"/>\n     <use xlink:href=\"#m135d6afed7\" x=\"143.000533\" y=\"69.909365\" style=\"fill: #1f77b4; stroke: #1f77b4\"/>\n     <use xlink:href=\"#m135d6afed7\" x=\"96.92138\" y=\"100.151504\" style=\"fill: #1f77b4; stroke: #1f77b4\"/>\n     <use xlink:href=\"#m135d6afed7\" x=\"154.914318\" y=\"54.988681\" style=\"fill: #1f77b4; stroke: #1f77b4\"/>\n     <use xlink:href=\"#m135d6afed7\" x=\"116.994257\" y=\"105.530806\" style=\"fill: #1f77b4; stroke: #1f77b4\"/>\n     <use xlink:href=\"#m135d6afed7\" x=\"89.422144\" y=\"73.036743\" style=\"fill: #1f77b4; stroke: #1f77b4\"/>\n     <use xlink:href=\"#m135d6afed7\" x=\"170.662102\" y=\"62.993719\" style=\"fill: #1f77b4; stroke: #1f77b4\"/>\n     <use xlink:href=\"#m135d6afed7\" x=\"146.605222\" y=\"68.078426\" style=\"fill: #1f77b4; stroke: #1f77b4\"/>\n     <use xlink:href=\"#m135d6afed7\" x=\"102.793403\" y=\"56.067879\" style=\"fill: #1f77b4; stroke: #1f77b4\"/>\n     <use xlink:href=\"#m135d6afed7\" x=\"106.076323\" y=\"76.432876\" style=\"fill: #1f77b4; stroke: #1f77b4\"/>\n     <use xlink:href=\"#m135d6afed7\" x=\"116.776449\" y=\"78.05756\" style=\"fill: #1f77b4; stroke: #1f77b4\"/>\n     <use xlink:href=\"#m135d6afed7\" x=\"120.270788\" y=\"80.91808\" style=\"fill: #1f77b4; stroke: #1f77b4\"/>\n     <use xlink:href=\"#m135d6afed7\" x=\"142.654336\" y=\"72.344863\" style=\"fill: #1f77b4; stroke: #1f77b4\"/>\n     <use xlink:href=\"#m135d6afed7\" x=\"146.726059\" y=\"97.164028\" style=\"fill: #1f77b4; stroke: #1f77b4\"/>\n     <use xlink:href=\"#m135d6afed7\" x=\"146.7161\" y=\"72.146445\" style=\"fill: #1f77b4; stroke: #1f77b4\"/>\n     <use xlink:href=\"#m135d6afed7\" x=\"78.129348\" y=\"100.39153\" style=\"fill: #1f77b4; stroke: #1f77b4\"/>\n     <use xlink:href=\"#m135d6afed7\" x=\"97.592661\" y=\"77.308739\" style=\"fill: #1f77b4; stroke: #1f77b4\"/>\n     <use xlink:href=\"#m135d6afed7\" x=\"105.465\" y=\"69.248542\" style=\"fill: #1f77b4; stroke: #1f77b4\"/>\n     <use xlink:href=\"#m135d6afed7\" x=\"113.908355\" y=\"97.075719\" style=\"fill: #1f77b4; stroke: #1f77b4\"/>\n     <use xlink:href=\"#m135d6afed7\" x=\"135.98737\" y=\"84.427538\" style=\"fill: #1f77b4; stroke: #1f77b4\"/>\n     <use xlink:href=\"#m135d6afed7\" x=\"132.369941\" y=\"71.190412\" style=\"fill: #1f77b4; stroke: #1f77b4\"/>\n     <use xlink:href=\"#m135d6afed7\" x=\"115.929979\" y=\"91.11711\" style=\"fill: #1f77b4; stroke: #1f77b4\"/>\n     <use xlink:href=\"#m135d6afed7\" x=\"109.993059\" y=\"86.601665\" style=\"fill: #1f77b4; stroke: #1f77b4\"/>\n     <use xlink:href=\"#m135d6afed7\" x=\"115.811853\" y=\"65.819902\" style=\"fill: #1f77b4; stroke: #1f77b4\"/>\n     <use xlink:href=\"#m135d6afed7\" x=\"140.64671\" y=\"68.127315\" style=\"fill: #1f77b4; stroke: #1f77b4\"/>\n     <use xlink:href=\"#m135d6afed7\" x=\"182.247658\" y=\"65.825361\" style=\"fill: #1f77b4; stroke: #1f77b4\"/>\n     <use xlink:href=\"#m135d6afed7\" x=\"144.970251\" y=\"82.260962\" style=\"fill: #1f77b4; stroke: #1f77b4\"/>\n     <use xlink:href=\"#m135d6afed7\" x=\"150.192187\" y=\"62.938747\" style=\"fill: #1f77b4; stroke: #1f77b4\"/>\n     <use xlink:href=\"#m135d6afed7\" x=\"145.00958\" y=\"80.531848\" style=\"fill: #1f77b4; stroke: #1f77b4\"/>\n     <use xlink:href=\"#m135d6afed7\" x=\"79.523484\" y=\"105.728107\" style=\"fill: #1f77b4; stroke: #1f77b4\"/>\n     <use xlink:href=\"#m135d6afed7\" x=\"121.652142\" y=\"79.620028\" style=\"fill: #1f77b4; stroke: #1f77b4\"/>\n     <use xlink:href=\"#m135d6afed7\" x=\"173.038596\" y=\"69.428942\" style=\"fill: #1f77b4; stroke: #1f77b4\"/>\n     <use xlink:href=\"#m135d6afed7\" x=\"139.337385\" y=\"60.096293\" style=\"fill: #1f77b4; stroke: #1f77b4\"/>\n     <use xlink:href=\"#m135d6afed7\" x=\"117.281565\" y=\"61.406401\" style=\"fill: #1f77b4; stroke: #1f77b4\"/>\n     <use xlink:href=\"#m135d6afed7\" x=\"102.909393\" y=\"84.305739\" style=\"fill: #1f77b4; stroke: #1f77b4\"/>\n     <use xlink:href=\"#m135d6afed7\" x=\"118.475925\" y=\"105.179341\" style=\"fill: #1f77b4; stroke: #1f77b4\"/>\n     <use xlink:href=\"#m135d6afed7\" x=\"149.885583\" y=\"55.370499\" style=\"fill: #1f77b4; stroke: #1f77b4\"/>\n     <use xlink:href=\"#m135d6afed7\" x=\"122.17354\" y=\"65.149898\" style=\"fill: #1f77b4; stroke: #1f77b4\"/>\n     <use xlink:href=\"#m135d6afed7\" x=\"161.39751\" y=\"61.875755\" style=\"fill: #1f77b4; stroke: #1f77b4\"/>\n     <use xlink:href=\"#m135d6afed7\" x=\"119.463353\" y=\"112.911796\" style=\"fill: #1f77b4; stroke: #1f77b4\"/>\n     <use xlink:href=\"#m135d6afed7\" x=\"115.794321\" y=\"72.823148\" style=\"fill: #1f77b4; stroke: #1f77b4\"/>\n     <use xlink:href=\"#m135d6afed7\" x=\"143.246966\" y=\"64.586623\" style=\"fill: #1f77b4; stroke: #1f77b4\"/>\n     <use xlink:href=\"#m135d6afed7\" x=\"86.730828\" y=\"77.376772\" style=\"fill: #1f77b4; stroke: #1f77b4\"/>\n     <use xlink:href=\"#m135d6afed7\" x=\"108.964943\" y=\"113.077845\" style=\"fill: #1f77b4; stroke: #1f77b4\"/>\n     <use xlink:href=\"#m135d6afed7\" x=\"118.890274\" y=\"55.416342\" style=\"fill: #1f77b4; stroke: #1f77b4\"/>\n     <use xlink:href=\"#m135d6afed7\" x=\"133.868321\" y=\"62.228825\" style=\"fill: #1f77b4; stroke: #1f77b4\"/>\n     <use xlink:href=\"#m135d6afed7\" x=\"143.959255\" y=\"48.904546\" style=\"fill: #1f77b4; stroke: #1f77b4\"/>\n     <use xlink:href=\"#m135d6afed7\" x=\"210.416106\" y=\"52.562797\" style=\"fill: #1f77b4; stroke: #1f77b4\"/>\n     <use xlink:href=\"#m135d6afed7\" x=\"135.106606\" y=\"80.759414\" style=\"fill: #1f77b4; stroke: #1f77b4\"/>\n     <use xlink:href=\"#m135d6afed7\" x=\"175.318332\" y=\"37.293812\" style=\"fill: #1f77b4; stroke: #1f77b4\"/>\n     <use xlink:href=\"#m135d6afed7\" x=\"164.24441\" y=\"70.564922\" style=\"fill: #1f77b4; stroke: #1f77b4\"/>\n     <use xlink:href=\"#m135d6afed7\" x=\"105.497521\" y=\"100.548379\" style=\"fill: #1f77b4; stroke: #1f77b4\"/>\n     <use xlink:href=\"#m135d6afed7\" x=\"126.292783\" y=\"70.071202\" style=\"fill: #1f77b4; stroke: #1f77b4\"/>\n     <use xlink:href=\"#m135d6afed7\" x=\"164.985266\" y=\"98.247896\" style=\"fill: #1f77b4; stroke: #1f77b4\"/>\n     <use xlink:href=\"#m135d6afed7\" x=\"129.712209\" y=\"76.58581\" style=\"fill: #1f77b4; stroke: #1f77b4\"/>\n     <use xlink:href=\"#m135d6afed7\" x=\"138.395336\" y=\"60.694484\" style=\"fill: #1f77b4; stroke: #1f77b4\"/>\n     <use xlink:href=\"#m135d6afed7\" x=\"87.86934\" y=\"85.060255\" style=\"fill: #1f77b4; stroke: #1f77b4\"/>\n     <use xlink:href=\"#m135d6afed7\" x=\"154.65255\" y=\"29.453882\" style=\"fill: #1f77b4; stroke: #1f77b4\"/>\n     <use xlink:href=\"#m135d6afed7\" x=\"175.822848\" y=\"67.498837\" style=\"fill: #1f77b4; stroke: #1f77b4\"/>\n     <use xlink:href=\"#m135d6afed7\" x=\"110.449927\" y=\"93.250772\" style=\"fill: #1f77b4; stroke: #1f77b4\"/>\n     <use xlink:href=\"#m135d6afed7\" x=\"127.174679\" y=\"76.525613\" style=\"fill: #1f77b4; stroke: #1f77b4\"/>\n     <use xlink:href=\"#m135d6afed7\" x=\"119.860024\" y=\"89.304648\" style=\"fill: #1f77b4; stroke: #1f77b4\"/>\n     <use xlink:href=\"#m135d6afed7\" x=\"133.82712\" y=\"58.979047\" style=\"fill: #1f77b4; stroke: #1f77b4\"/>\n     <use xlink:href=\"#m135d6afed7\" x=\"162.877927\" y=\"66.205777\" style=\"fill: #1f77b4; stroke: #1f77b4\"/>\n     <use xlink:href=\"#m135d6afed7\" x=\"175.552035\" y=\"49.010937\" style=\"fill: #1f77b4; stroke: #1f77b4\"/>\n     <use xlink:href=\"#m135d6afed7\" x=\"170.328111\" y=\"82.876145\" style=\"fill: #1f77b4; stroke: #1f77b4\"/>\n     <use xlink:href=\"#m135d6afed7\" x=\"177.577943\" y=\"40.435938\" style=\"fill: #1f77b4; stroke: #1f77b4\"/>\n     <use xlink:href=\"#m135d6afed7\" x=\"110.342951\" y=\"90.361954\" style=\"fill: #1f77b4; stroke: #1f77b4\"/>\n     <use xlink:href=\"#m135d6afed7\" x=\"126.263815\" y=\"99.476773\" style=\"fill: #1f77b4; stroke: #1f77b4\"/>\n     <use xlink:href=\"#m135d6afed7\" x=\"108.479469\" y=\"78.938561\" style=\"fill: #1f77b4; stroke: #1f77b4\"/>\n     <use xlink:href=\"#m135d6afed7\" x=\"131.892131\" y=\"80.819059\" style=\"fill: #1f77b4; stroke: #1f77b4\"/>\n     <use xlink:href=\"#m135d6afed7\" x=\"144.065829\" y=\"70.275261\" style=\"fill: #1f77b4; stroke: #1f77b4\"/>\n     <use xlink:href=\"#m135d6afed7\" x=\"123.639944\" y=\"100.071901\" style=\"fill: #1f77b4; stroke: #1f77b4\"/>\n     <use xlink:href=\"#m135d6afed7\" x=\"163.135135\" y=\"63.847144\" style=\"fill: #1f77b4; stroke: #1f77b4\"/>\n     <use xlink:href=\"#m135d6afed7\" x=\"129.382255\" y=\"49.707994\" style=\"fill: #1f77b4; stroke: #1f77b4\"/>\n     <use xlink:href=\"#m135d6afed7\" x=\"152.014469\" y=\"66.286136\" style=\"fill: #1f77b4; stroke: #1f77b4\"/>\n     <use xlink:href=\"#m135d6afed7\" x=\"108.364349\" y=\"68.373678\" style=\"fill: #1f77b4; stroke: #1f77b4\"/>\n     <use xlink:href=\"#m135d6afed7\" x=\"161.995867\" y=\"68.800346\" style=\"fill: #1f77b4; stroke: #1f77b4\"/>\n     <use xlink:href=\"#m135d6afed7\" x=\"146.887637\" y=\"58.211866\" style=\"fill: #1f77b4; stroke: #1f77b4\"/>\n     <use xlink:href=\"#m135d6afed7\" x=\"146.729392\" y=\"53.945769\" style=\"fill: #1f77b4; stroke: #1f77b4\"/>\n     <use xlink:href=\"#m135d6afed7\" x=\"164.362045\" y=\"53.509689\" style=\"fill: #1f77b4; stroke: #1f77b4\"/>\n     <use xlink:href=\"#m135d6afed7\" x=\"130.035168\" y=\"99.491673\" style=\"fill: #1f77b4; stroke: #1f77b4\"/>\n     <use xlink:href=\"#m135d6afed7\" x=\"139.785868\" y=\"71.382891\" style=\"fill: #1f77b4; stroke: #1f77b4\"/>\n     <use xlink:href=\"#m135d6afed7\" x=\"101.498895\" y=\"99.83395\" style=\"fill: #1f77b4; stroke: #1f77b4\"/>\n     <use xlink:href=\"#m135d6afed7\" x=\"128.129595\" y=\"80.232066\" style=\"fill: #1f77b4; stroke: #1f77b4\"/>\n     <use xlink:href=\"#m135d6afed7\" x=\"162.391424\" y=\"63.939384\" style=\"fill: #1f77b4; stroke: #1f77b4\"/>\n     <use xlink:href=\"#m135d6afed7\" x=\"134.205182\" y=\"66.031748\" style=\"fill: #1f77b4; stroke: #1f77b4\"/>\n     <use xlink:href=\"#m135d6afed7\" x=\"88.862353\" y=\"103.910128\" style=\"fill: #1f77b4; stroke: #1f77b4\"/>\n     <use xlink:href=\"#m135d6afed7\" x=\"190.49868\" y=\"63.261408\" style=\"fill: #1f77b4; stroke: #1f77b4\"/>\n     <use xlink:href=\"#m135d6afed7\" x=\"105.142112\" y=\"62.384664\" style=\"fill: #1f77b4; stroke: #1f77b4\"/>\n     <use xlink:href=\"#m135d6afed7\" x=\"154.575037\" y=\"76.763146\" style=\"fill: #1f77b4; stroke: #1f77b4\"/>\n     <use xlink:href=\"#m135d6afed7\" x=\"100.250275\" y=\"88.233787\" style=\"fill: #1f77b4; stroke: #1f77b4\"/>\n     <use xlink:href=\"#m135d6afed7\" x=\"180.759987\" y=\"35.148692\" style=\"fill: #1f77b4; stroke: #1f77b4\"/>\n     <use xlink:href=\"#m135d6afed7\" x=\"154.72999\" y=\"66.003752\" style=\"fill: #1f77b4; stroke: #1f77b4\"/>\n     <use xlink:href=\"#m135d6afed7\" x=\"110.683625\" y=\"71.432114\" style=\"fill: #1f77b4; stroke: #1f77b4\"/>\n     <use xlink:href=\"#m135d6afed7\" x=\"158.891041\" y=\"55.821793\" style=\"fill: #1f77b4; stroke: #1f77b4\"/>\n     <use xlink:href=\"#m135d6afed7\" x=\"136.599379\" y=\"48.353614\" style=\"fill: #1f77b4; stroke: #1f77b4\"/>\n     <use xlink:href=\"#m135d6afed7\" x=\"177.31829\" y=\"54.54105\" style=\"fill: #1f77b4; stroke: #1f77b4\"/>\n     <use xlink:href=\"#m135d6afed7\" x=\"82.019355\" y=\"78.241009\" style=\"fill: #1f77b4; stroke: #1f77b4\"/>\n     <use xlink:href=\"#m135d6afed7\" x=\"156.989912\" y=\"56.198977\" style=\"fill: #1f77b4; stroke: #1f77b4\"/>\n     <use xlink:href=\"#m135d6afed7\" x=\"107.59288\" y=\"83.216456\" style=\"fill: #1f77b4; stroke: #1f77b4\"/>\n     <use xlink:href=\"#m135d6afed7\" x=\"161.973693\" y=\"25.686814\" style=\"fill: #1f77b4; stroke: #1f77b4\"/>\n     <use xlink:href=\"#m135d6afed7\" x=\"171.234218\" y=\"53.139781\" style=\"fill: #1f77b4; stroke: #1f77b4\"/>\n     <use xlink:href=\"#m135d6afed7\" x=\"165.633086\" y=\"50.520793\" style=\"fill: #1f77b4; stroke: #1f77b4\"/>\n     <use xlink:href=\"#m135d6afed7\" x=\"185.745634\" y=\"39.530294\" style=\"fill: #1f77b4; stroke: #1f77b4\"/>\n     <use xlink:href=\"#m135d6afed7\" x=\"134.54354\" y=\"53.320189\" style=\"fill: #1f77b4; stroke: #1f77b4\"/>\n     <use xlink:href=\"#m135d6afed7\" x=\"180.139769\" y=\"60.41819\" style=\"fill: #1f77b4; stroke: #1f77b4\"/>\n     <use xlink:href=\"#m135d6afed7\" x=\"127.747403\" y=\"89.627368\" style=\"fill: #1f77b4; stroke: #1f77b4\"/>\n     <use xlink:href=\"#m135d6afed7\" x=\"124.125499\" y=\"100.495142\" style=\"fill: #1f77b4; stroke: #1f77b4\"/>\n     <use xlink:href=\"#m135d6afed7\" x=\"117.417417\" y=\"87.090216\" style=\"fill: #1f77b4; stroke: #1f77b4\"/>\n     <use xlink:href=\"#m135d6afed7\" x=\"149.325541\" y=\"56.653295\" style=\"fill: #1f77b4; stroke: #1f77b4\"/>\n     <use xlink:href=\"#m135d6afed7\" x=\"147.837797\" y=\"44.595026\" style=\"fill: #1f77b4; stroke: #1f77b4\"/>\n     <use xlink:href=\"#m135d6afed7\" x=\"171.918797\" y=\"71.698956\" style=\"fill: #1f77b4; stroke: #1f77b4\"/>\n     <use xlink:href=\"#m135d6afed7\" x=\"131.663727\" y=\"56.852536\" style=\"fill: #1f77b4; stroke: #1f77b4\"/>\n     <use xlink:href=\"#m135d6afed7\" x=\"97.835981\" y=\"81.262969\" style=\"fill: #1f77b4; stroke: #1f77b4\"/>\n     <use xlink:href=\"#m135d6afed7\" x=\"124.002977\" y=\"70.38963\" style=\"fill: #1f77b4; stroke: #1f77b4\"/>\n     <use xlink:href=\"#m135d6afed7\" x=\"144.343277\" y=\"74.820127\" style=\"fill: #1f77b4; stroke: #1f77b4\"/>\n     <use xlink:href=\"#m135d6afed7\" x=\"98.970362\" y=\"125.878309\" style=\"fill: #1f77b4; stroke: #1f77b4\"/>\n     <use xlink:href=\"#m135d6afed7\" x=\"146.823675\" y=\"63.436167\" style=\"fill: #1f77b4; stroke: #1f77b4\"/>\n     <use xlink:href=\"#m135d6afed7\" x=\"93.313639\" y=\"57.315435\" style=\"fill: #1f77b4; stroke: #1f77b4\"/>\n     <use xlink:href=\"#m135d6afed7\" x=\"160.203057\" y=\"63.203971\" style=\"fill: #1f77b4; stroke: #1f77b4\"/>\n     <use xlink:href=\"#m135d6afed7\" x=\"123.949353\" y=\"66.504171\" style=\"fill: #1f77b4; stroke: #1f77b4\"/>\n     <use xlink:href=\"#m135d6afed7\" x=\"140.256612\" y=\"76.158367\" style=\"fill: #1f77b4; stroke: #1f77b4\"/>\n     <use xlink:href=\"#m135d6afed7\" x=\"112.159221\" y=\"50.533838\" style=\"fill: #1f77b4; stroke: #1f77b4\"/>\n     <use xlink:href=\"#m135d6afed7\" x=\"155.619876\" y=\"53.36523\" style=\"fill: #1f77b4; stroke: #1f77b4\"/>\n     <use xlink:href=\"#m135d6afed7\" x=\"146.088855\" y=\"77.615966\" style=\"fill: #1f77b4; stroke: #1f77b4\"/>\n     <use xlink:href=\"#m135d6afed7\" x=\"154.943668\" y=\"70.338525\" style=\"fill: #1f77b4; stroke: #1f77b4\"/>\n     <use xlink:href=\"#m135d6afed7\" x=\"90.047595\" y=\"103.090332\" style=\"fill: #1f77b4; stroke: #1f77b4\"/>\n     <use xlink:href=\"#m135d6afed7\" x=\"110.287565\" y=\"93.507624\" style=\"fill: #1f77b4; stroke: #1f77b4\"/>\n     <use xlink:href=\"#m135d6afed7\" x=\"151.833209\" y=\"53.773035\" style=\"fill: #1f77b4; stroke: #1f77b4\"/>\n     <use xlink:href=\"#m135d6afed7\" x=\"84.853917\" y=\"104.875697\" style=\"fill: #1f77b4; stroke: #1f77b4\"/>\n     <use xlink:href=\"#m135d6afed7\" x=\"90.437414\" y=\"109.211924\" style=\"fill: #1f77b4; stroke: #1f77b4\"/>\n     <use xlink:href=\"#m135d6afed7\" x=\"115.741702\" y=\"62.219447\" style=\"fill: #1f77b4; stroke: #1f77b4\"/>\n     <use xlink:href=\"#m135d6afed7\" x=\"72.879144\" y=\"121.147671\" style=\"fill: #1f77b4; stroke: #1f77b4\"/>\n     <use xlink:href=\"#m135d6afed7\" x=\"157.460253\" y=\"18.517457\" style=\"fill: #1f77b4; stroke: #1f77b4\"/>\n     <use xlink:href=\"#m135d6afed7\" x=\"141.971002\" y=\"38.588943\" style=\"fill: #1f77b4; stroke: #1f77b4\"/>\n     <use xlink:href=\"#m135d6afed7\" x=\"91.463703\" y=\"81.755627\" style=\"fill: #1f77b4; stroke: #1f77b4\"/>\n     <use xlink:href=\"#m135d6afed7\" x=\"153.454121\" y=\"57.653384\" style=\"fill: #1f77b4; stroke: #1f77b4\"/>\n     <use xlink:href=\"#m135d6afed7\" x=\"165.930532\" y=\"89.472676\" style=\"fill: #1f77b4; stroke: #1f77b4\"/>\n     <use xlink:href=\"#m135d6afed7\" x=\"93.666276\" y=\"66.834859\" style=\"fill: #1f77b4; stroke: #1f77b4\"/>\n     <use xlink:href=\"#m135d6afed7\" x=\"108.457241\" y=\"107.943049\" style=\"fill: #1f77b4; stroke: #1f77b4\"/>\n     <use xlink:href=\"#m135d6afed7\" x=\"136.966484\" y=\"77.74363\" style=\"fill: #1f77b4; stroke: #1f77b4\"/>\n     <use xlink:href=\"#m135d6afed7\" x=\"148.650167\" y=\"86.199846\" style=\"fill: #1f77b4; stroke: #1f77b4\"/>\n     <use xlink:href=\"#m135d6afed7\" x=\"88.889626\" y=\"92.826129\" style=\"fill: #1f77b4; stroke: #1f77b4\"/>\n     <use xlink:href=\"#m135d6afed7\" x=\"155.028796\" y=\"35.136501\" style=\"fill: #1f77b4; stroke: #1f77b4\"/>\n     <use xlink:href=\"#m135d6afed7\" x=\"149.92082\" y=\"86.340757\" style=\"fill: #1f77b4; stroke: #1f77b4\"/>\n     <use xlink:href=\"#m135d6afed7\" x=\"93.053538\" y=\"78.842552\" style=\"fill: #1f77b4; stroke: #1f77b4\"/>\n     <use xlink:href=\"#m135d6afed7\" x=\"152.912464\" y=\"71.624446\" style=\"fill: #1f77b4; stroke: #1f77b4\"/>\n     <use xlink:href=\"#m135d6afed7\" x=\"110.154494\" y=\"77.206381\" style=\"fill: #1f77b4; stroke: #1f77b4\"/>\n     <use xlink:href=\"#m135d6afed7\" x=\"113.871428\" y=\"104.729564\" style=\"fill: #1f77b4; stroke: #1f77b4\"/>\n     <use xlink:href=\"#m135d6afed7\" x=\"166.34119\" y=\"67.480082\" style=\"fill: #1f77b4; stroke: #1f77b4\"/>\n     <use xlink:href=\"#m135d6afed7\" x=\"100.067488\" y=\"95.618519\" style=\"fill: #1f77b4; stroke: #1f77b4\"/>\n     <use xlink:href=\"#m135d6afed7\" x=\"182.446432\" y=\"60.493202\" style=\"fill: #1f77b4; stroke: #1f77b4\"/>\n     <use xlink:href=\"#m135d6afed7\" x=\"116.081157\" y=\"68.594213\" style=\"fill: #1f77b4; stroke: #1f77b4\"/>\n     <use xlink:href=\"#m135d6afed7\" x=\"107.32029\" y=\"101.906459\" style=\"fill: #1f77b4; stroke: #1f77b4\"/>\n     <use xlink:href=\"#m135d6afed7\" x=\"137.875655\" y=\"36.721293\" style=\"fill: #1f77b4; stroke: #1f77b4\"/>\n     <use xlink:href=\"#m135d6afed7\" x=\"159.584452\" y=\"61.618455\" style=\"fill: #1f77b4; stroke: #1f77b4\"/>\n     <use xlink:href=\"#m135d6afed7\" x=\"180.243017\" y=\"75.468458\" style=\"fill: #1f77b4; stroke: #1f77b4\"/>\n     <use xlink:href=\"#m135d6afed7\" x=\"132.95661\" y=\"71.322566\" style=\"fill: #1f77b4; stroke: #1f77b4\"/>\n     <use xlink:href=\"#m135d6afed7\" x=\"100.886189\" y=\"92.292294\" style=\"fill: #1f77b4; stroke: #1f77b4\"/>\n     <use xlink:href=\"#m135d6afed7\" x=\"153.818791\" y=\"83.047144\" style=\"fill: #1f77b4; stroke: #1f77b4\"/>\n     <use xlink:href=\"#m135d6afed7\" x=\"99.885469\" y=\"74.575456\" style=\"fill: #1f77b4; stroke: #1f77b4\"/>\n     <use xlink:href=\"#m135d6afed7\" x=\"97.091848\" y=\"74.817467\" style=\"fill: #1f77b4; stroke: #1f77b4\"/>\n     <use xlink:href=\"#m135d6afed7\" x=\"162.79185\" y=\"59.55026\" style=\"fill: #1f77b4; stroke: #1f77b4\"/>\n     <use xlink:href=\"#m135d6afed7\" x=\"114.887832\" y=\"74.14875\" style=\"fill: #1f77b4; stroke: #1f77b4\"/>\n     <use xlink:href=\"#m135d6afed7\" x=\"157.41949\" y=\"45.48454\" style=\"fill: #1f77b4; stroke: #1f77b4\"/>\n     <use xlink:href=\"#m135d6afed7\" x=\"121.902959\" y=\"70.515845\" style=\"fill: #1f77b4; stroke: #1f77b4\"/>\n     <use xlink:href=\"#m135d6afed7\" x=\"144.962337\" y=\"58.970984\" style=\"fill: #1f77b4; stroke: #1f77b4\"/>\n     <use xlink:href=\"#m135d6afed7\" x=\"107.891459\" y=\"81.049931\" style=\"fill: #1f77b4; stroke: #1f77b4\"/>\n     <use xlink:href=\"#m135d6afed7\" x=\"160.508066\" y=\"76.566094\" style=\"fill: #1f77b4; stroke: #1f77b4\"/>\n     <use xlink:href=\"#m135d6afed7\" x=\"154.282234\" y=\"80.766129\" style=\"fill: #1f77b4; stroke: #1f77b4\"/>\n     <use xlink:href=\"#m135d6afed7\" x=\"155.80238\" y=\"79.148471\" style=\"fill: #1f77b4; stroke: #1f77b4\"/>\n     <use xlink:href=\"#m135d6afed7\" x=\"142.904226\" y=\"69.220198\" style=\"fill: #1f77b4; stroke: #1f77b4\"/>\n     <use xlink:href=\"#m135d6afed7\" x=\"114.383155\" y=\"62.228942\" style=\"fill: #1f77b4; stroke: #1f77b4\"/>\n     <use xlink:href=\"#m135d6afed7\" x=\"109.309715\" y=\"70.92914\" style=\"fill: #1f77b4; stroke: #1f77b4\"/>\n     <use xlink:href=\"#m135d6afed7\" x=\"101.424042\" y=\"63.138779\" style=\"fill: #1f77b4; stroke: #1f77b4\"/>\n     <use xlink:href=\"#m135d6afed7\" x=\"119.154113\" y=\"38.655079\" style=\"fill: #1f77b4; stroke: #1f77b4\"/>\n     <use xlink:href=\"#m135d6afed7\" x=\"101.572896\" y=\"111.589665\" style=\"fill: #1f77b4; stroke: #1f77b4\"/>\n     <use xlink:href=\"#m135d6afed7\" x=\"160.510081\" y=\"69.59599\" style=\"fill: #1f77b4; stroke: #1f77b4\"/>\n     <use xlink:href=\"#m135d6afed7\" x=\"180.632308\" y=\"77.813746\" style=\"fill: #1f77b4; stroke: #1f77b4\"/>\n     <use xlink:href=\"#m135d6afed7\" x=\"181.144659\" y=\"49.525459\" style=\"fill: #1f77b4; stroke: #1f77b4\"/>\n     <use xlink:href=\"#m135d6afed7\" x=\"127.185412\" y=\"74.889431\" style=\"fill: #1f77b4; stroke: #1f77b4\"/>\n     <use xlink:href=\"#m135d6afed7\" x=\"135.451079\" y=\"73.40025\" style=\"fill: #1f77b4; stroke: #1f77b4\"/>\n     <use xlink:href=\"#m135d6afed7\" x=\"91.669525\" y=\"126.05236\" style=\"fill: #1f77b4; stroke: #1f77b4\"/>\n     <use xlink:href=\"#m135d6afed7\" x=\"165.363389\" y=\"80.069333\" style=\"fill: #1f77b4; stroke: #1f77b4\"/>\n     <use xlink:href=\"#m135d6afed7\" x=\"112.302505\" y=\"98.963587\" style=\"fill: #1f77b4; stroke: #1f77b4\"/>\n     <use xlink:href=\"#m135d6afed7\" x=\"117.811604\" y=\"74.797621\" style=\"fill: #1f77b4; stroke: #1f77b4\"/>\n     <use xlink:href=\"#m135d6afed7\" x=\"125.692833\" y=\"71.092818\" style=\"fill: #1f77b4; stroke: #1f77b4\"/>\n     <use xlink:href=\"#m135d6afed7\" x=\"99.66767\" y=\"91.01801\" style=\"fill: #1f77b4; stroke: #1f77b4\"/>\n     <use xlink:href=\"#m135d6afed7\" x=\"162.322269\" y=\"52.003031\" style=\"fill: #1f77b4; stroke: #1f77b4\"/>\n     <use xlink:href=\"#m135d6afed7\" x=\"138.868515\" y=\"62.946311\" style=\"fill: #1f77b4; stroke: #1f77b4\"/>\n     <use xlink:href=\"#m135d6afed7\" x=\"170.609288\" y=\"41.475573\" style=\"fill: #1f77b4; stroke: #1f77b4\"/>\n     <use xlink:href=\"#m135d6afed7\" x=\"164.744013\" y=\"55.822731\" style=\"fill: #1f77b4; stroke: #1f77b4\"/>\n     <use xlink:href=\"#m135d6afed7\" x=\"85.387885\" y=\"108.03012\" style=\"fill: #1f77b4; stroke: #1f77b4\"/>\n     <use xlink:href=\"#m135d6afed7\" x=\"147.359328\" y=\"89.653978\" style=\"fill: #1f77b4; stroke: #1f77b4\"/>\n     <use xlink:href=\"#m135d6afed7\" x=\"102.474205\" y=\"64.319817\" style=\"fill: #1f77b4; stroke: #1f77b4\"/>\n     <use xlink:href=\"#m135d6afed7\" x=\"96.705973\" y=\"89.617017\" style=\"fill: #1f77b4; stroke: #1f77b4\"/>\n     <use xlink:href=\"#m135d6afed7\" x=\"111.911836\" y=\"50.362871\" style=\"fill: #1f77b4; stroke: #1f77b4\"/>\n     <use xlink:href=\"#m135d6afed7\" x=\"124.761841\" y=\"90.074406\" style=\"fill: #1f77b4; stroke: #1f77b4\"/>\n     <use xlink:href=\"#m135d6afed7\" x=\"141.0583\" y=\"89.051062\" style=\"fill: #1f77b4; stroke: #1f77b4\"/>\n     <use xlink:href=\"#m135d6afed7\" x=\"102.833612\" y=\"87.630825\" style=\"fill: #1f77b4; stroke: #1f77b4\"/>\n     <use xlink:href=\"#m135d6afed7\" x=\"165.20639\" y=\"77.96234\" style=\"fill: #1f77b4; stroke: #1f77b4\"/>\n     <use xlink:href=\"#m135d6afed7\" x=\"129.387521\" y=\"56.475311\" style=\"fill: #1f77b4; stroke: #1f77b4\"/>\n     <use xlink:href=\"#m135d6afed7\" x=\"202.183609\" y=\"27.340156\" style=\"fill: #1f77b4; stroke: #1f77b4\"/>\n     <use xlink:href=\"#m135d6afed7\" x=\"112.015978\" y=\"71.36313\" style=\"fill: #1f77b4; stroke: #1f77b4\"/>\n     <use xlink:href=\"#m135d6afed7\" x=\"153.762118\" y=\"44.441516\" style=\"fill: #1f77b4; stroke: #1f77b4\"/>\n     <use xlink:href=\"#m135d6afed7\" x=\"127.805375\" y=\"84.251022\" style=\"fill: #1f77b4; stroke: #1f77b4\"/>\n     <use xlink:href=\"#m135d6afed7\" x=\"150.61129\" y=\"53.302436\" style=\"fill: #1f77b4; stroke: #1f77b4\"/>\n     <use xlink:href=\"#m135d6afed7\" x=\"169.1\" y=\"59.591157\" style=\"fill: #1f77b4; stroke: #1f77b4\"/>\n     <use xlink:href=\"#m135d6afed7\" x=\"121.877219\" y=\"75.212496\" style=\"fill: #1f77b4; stroke: #1f77b4\"/>\n     <use xlink:href=\"#m135d6afed7\" x=\"111.183375\" y=\"73.505965\" style=\"fill: #1f77b4; stroke: #1f77b4\"/>\n     <use xlink:href=\"#m135d6afed7\" x=\"121.435896\" y=\"84.780098\" style=\"fill: #1f77b4; stroke: #1f77b4\"/>\n     <use xlink:href=\"#m135d6afed7\" x=\"188.79516\" y=\"43.282892\" style=\"fill: #1f77b4; stroke: #1f77b4\"/>\n     <use xlink:href=\"#m135d6afed7\" x=\"126.130711\" y=\"70.111409\" style=\"fill: #1f77b4; stroke: #1f77b4\"/>\n     <use xlink:href=\"#m135d6afed7\" x=\"109.720225\" y=\"97.147785\" style=\"fill: #1f77b4; stroke: #1f77b4\"/>\n     <use xlink:href=\"#m135d6afed7\" x=\"144.080427\" y=\"78.982522\" style=\"fill: #1f77b4; stroke: #1f77b4\"/>\n     <use xlink:href=\"#m135d6afed7\" x=\"137.640815\" y=\"81.268489\" style=\"fill: #1f77b4; stroke: #1f77b4\"/>\n     <use xlink:href=\"#m135d6afed7\" x=\"103.668402\" y=\"76.978569\" style=\"fill: #1f77b4; stroke: #1f77b4\"/>\n     <use xlink:href=\"#m135d6afed7\" x=\"143.801883\" y=\"60.003498\" style=\"fill: #1f77b4; stroke: #1f77b4\"/>\n     <use xlink:href=\"#m135d6afed7\" x=\"168.400881\" y=\"42.50929\" style=\"fill: #1f77b4; stroke: #1f77b4\"/>\n     <use xlink:href=\"#m135d6afed7\" x=\"151.83627\" y=\"50.551045\" style=\"fill: #1f77b4; stroke: #1f77b4\"/>\n     <use xlink:href=\"#m135d6afed7\" x=\"115.544307\" y=\"64.066825\" style=\"fill: #1f77b4; stroke: #1f77b4\"/>\n     <use xlink:href=\"#m135d6afed7\" x=\"117.80552\" y=\"101.594651\" style=\"fill: #1f77b4; stroke: #1f77b4\"/>\n     <use xlink:href=\"#m135d6afed7\" x=\"147.14376\" y=\"69.751698\" style=\"fill: #1f77b4; stroke: #1f77b4\"/>\n     <use xlink:href=\"#m135d6afed7\" x=\"115.897809\" y=\"46.964373\" style=\"fill: #1f77b4; stroke: #1f77b4\"/>\n     <use xlink:href=\"#m135d6afed7\" x=\"111.186406\" y=\"76.621095\" style=\"fill: #1f77b4; stroke: #1f77b4\"/>\n     <use xlink:href=\"#m135d6afed7\" x=\"124.377769\" y=\"74.917114\" style=\"fill: #1f77b4; stroke: #1f77b4\"/>\n     <use xlink:href=\"#m135d6afed7\" x=\"183.295164\" y=\"54.601522\" style=\"fill: #1f77b4; stroke: #1f77b4\"/>\n     <use xlink:href=\"#m135d6afed7\" x=\"71.702118\" y=\"72.457893\" style=\"fill: #1f77b4; stroke: #1f77b4\"/>\n     <use xlink:href=\"#m135d6afed7\" x=\"119.460343\" y=\"77.209046\" style=\"fill: #1f77b4; stroke: #1f77b4\"/>\n     <use xlink:href=\"#m135d6afed7\" x=\"131.515561\" y=\"66.445518\" style=\"fill: #1f77b4; stroke: #1f77b4\"/>\n     <use xlink:href=\"#m135d6afed7\" x=\"132.079346\" y=\"56.299966\" style=\"fill: #1f77b4; stroke: #1f77b4\"/>\n     <use xlink:href=\"#m135d6afed7\" x=\"132.148355\" y=\"64.918733\" style=\"fill: #1f77b4; stroke: #1f77b4\"/>\n     <use xlink:href=\"#m135d6afed7\" x=\"140.262727\" y=\"65.911425\" style=\"fill: #1f77b4; stroke: #1f77b4\"/>\n     <use xlink:href=\"#m135d6afed7\" x=\"140.521311\" y=\"81.838555\" style=\"fill: #1f77b4; stroke: #1f77b4\"/>\n     <use xlink:href=\"#m135d6afed7\" x=\"119.677321\" y=\"69.659711\" style=\"fill: #1f77b4; stroke: #1f77b4\"/>\n     <use xlink:href=\"#m135d6afed7\" x=\"133.184357\" y=\"60.956197\" style=\"fill: #1f77b4; stroke: #1f77b4\"/>\n     <use xlink:href=\"#m135d6afed7\" x=\"171.525582\" y=\"55.453567\" style=\"fill: #1f77b4; stroke: #1f77b4\"/>\n     <use xlink:href=\"#m135d6afed7\" x=\"133.591577\" y=\"74.145479\" style=\"fill: #1f77b4; stroke: #1f77b4\"/>\n     <use xlink:href=\"#m135d6afed7\" x=\"192.060573\" y=\"47.190239\" style=\"fill: #1f77b4; stroke: #1f77b4\"/>\n     <use xlink:href=\"#m135d6afed7\" x=\"185.917155\" y=\"50.400674\" style=\"fill: #1f77b4; stroke: #1f77b4\"/>\n     <use xlink:href=\"#m135d6afed7\" x=\"91.569647\" y=\"78.496625\" style=\"fill: #1f77b4; stroke: #1f77b4\"/>\n     <use xlink:href=\"#m135d6afed7\" x=\"130.707231\" y=\"54.574888\" style=\"fill: #1f77b4; stroke: #1f77b4\"/>\n     <use xlink:href=\"#m135d6afed7\" x=\"158.469594\" y=\"46.905196\" style=\"fill: #1f77b4; stroke: #1f77b4\"/>\n     <use xlink:href=\"#m135d6afed7\" x=\"158.945786\" y=\"58.510191\" style=\"fill: #1f77b4; stroke: #1f77b4\"/>\n     <use xlink:href=\"#m135d6afed7\" x=\"130.91247\" y=\"93.195377\" style=\"fill: #1f77b4; stroke: #1f77b4\"/>\n     <use xlink:href=\"#m135d6afed7\" x=\"186.260133\" y=\"67.845212\" style=\"fill: #1f77b4; stroke: #1f77b4\"/>\n     <use xlink:href=\"#m135d6afed7\" x=\"117.210591\" y=\"78.759149\" style=\"fill: #1f77b4; stroke: #1f77b4\"/>\n     <use xlink:href=\"#m135d6afed7\" x=\"144.013744\" y=\"60.367613\" style=\"fill: #1f77b4; stroke: #1f77b4\"/>\n     <use xlink:href=\"#m135d6afed7\" x=\"118.210404\" y=\"67.310832\" style=\"fill: #1f77b4; stroke: #1f77b4\"/>\n     <use xlink:href=\"#m135d6afed7\" x=\"126.360043\" y=\"56.509817\" style=\"fill: #1f77b4; stroke: #1f77b4\"/>\n     <use xlink:href=\"#m135d6afed7\" x=\"142.157196\" y=\"56.983973\" style=\"fill: #1f77b4; stroke: #1f77b4\"/>\n     <use xlink:href=\"#m135d6afed7\" x=\"153.722088\" y=\"38.204013\" style=\"fill: #1f77b4; stroke: #1f77b4\"/>\n     <use xlink:href=\"#m135d6afed7\" x=\"138.726508\" y=\"72.490316\" style=\"fill: #1f77b4; stroke: #1f77b4\"/>\n     <use xlink:href=\"#m135d6afed7\" x=\"110.503321\" y=\"77.536194\" style=\"fill: #1f77b4; stroke: #1f77b4\"/>\n     <use xlink:href=\"#m135d6afed7\" x=\"201.677279\" y=\"66.048663\" style=\"fill: #1f77b4; stroke: #1f77b4\"/>\n     <use xlink:href=\"#m135d6afed7\" x=\"181.978077\" y=\"88.580499\" style=\"fill: #1f77b4; stroke: #1f77b4\"/>\n     <use xlink:href=\"#m135d6afed7\" x=\"133.799825\" y=\"83.137547\" style=\"fill: #1f77b4; stroke: #1f77b4\"/>\n     <use xlink:href=\"#m135d6afed7\" x=\"159.322714\" y=\"69.106199\" style=\"fill: #1f77b4; stroke: #1f77b4\"/>\n     <use xlink:href=\"#m135d6afed7\" x=\"170.074136\" y=\"58.254372\" style=\"fill: #1f77b4; stroke: #1f77b4\"/>\n     <use xlink:href=\"#m135d6afed7\" x=\"125.505017\" y=\"75.404574\" style=\"fill: #1f77b4; stroke: #1f77b4\"/>\n     <use xlink:href=\"#m135d6afed7\" x=\"167.55582\" y=\"42.950489\" style=\"fill: #1f77b4; stroke: #1f77b4\"/>\n     <use xlink:href=\"#m135d6afed7\" x=\"107.828266\" y=\"72.476244\" style=\"fill: #1f77b4; stroke: #1f77b4\"/>\n     <use xlink:href=\"#m135d6afed7\" x=\"78.786517\" y=\"92.198128\" style=\"fill: #1f77b4; stroke: #1f77b4\"/>\n     <use xlink:href=\"#m135d6afed7\" x=\"144.953279\" y=\"92.927652\" style=\"fill: #1f77b4; stroke: #1f77b4\"/>\n     <use xlink:href=\"#m135d6afed7\" x=\"125.178287\" y=\"68.783053\" style=\"fill: #1f77b4; stroke: #1f77b4\"/>\n     <use xlink:href=\"#m135d6afed7\" x=\"89.597166\" y=\"104.61293\" style=\"fill: #1f77b4; stroke: #1f77b4\"/>\n     <use xlink:href=\"#m135d6afed7\" x=\"134.864232\" y=\"79.059912\" style=\"fill: #1f77b4; stroke: #1f77b4\"/>\n     <use xlink:href=\"#m135d6afed7\" x=\"149.104772\" y=\"69.376653\" style=\"fill: #1f77b4; stroke: #1f77b4\"/>\n     <use xlink:href=\"#m135d6afed7\" x=\"37.81946\" y=\"110.539628\" style=\"fill: #1f77b4; stroke: #1f77b4\"/>\n     <use xlink:href=\"#m135d6afed7\" x=\"160.107093\" y=\"55.070596\" style=\"fill: #1f77b4; stroke: #1f77b4\"/>\n     <use xlink:href=\"#m135d6afed7\" x=\"126.406428\" y=\"56.217365\" style=\"fill: #1f77b4; stroke: #1f77b4\"/>\n     <use xlink:href=\"#m135d6afed7\" x=\"147.710398\" y=\"36.117873\" style=\"fill: #1f77b4; stroke: #1f77b4\"/>\n     <use xlink:href=\"#m135d6afed7\" x=\"104.939545\" y=\"66.266828\" style=\"fill: #1f77b4; stroke: #1f77b4\"/>\n     <use xlink:href=\"#m135d6afed7\" x=\"110.280426\" y=\"83.907966\" style=\"fill: #1f77b4; stroke: #1f77b4\"/>\n     <use xlink:href=\"#m135d6afed7\" x=\"154.877926\" y=\"58.860593\" style=\"fill: #1f77b4; stroke: #1f77b4\"/>\n     <use xlink:href=\"#m135d6afed7\" x=\"150.602875\" y=\"66.100233\" style=\"fill: #1f77b4; stroke: #1f77b4\"/>\n     <use xlink:href=\"#m135d6afed7\" x=\"190.913141\" y=\"59.545498\" style=\"fill: #1f77b4; stroke: #1f77b4\"/>\n     <use xlink:href=\"#m135d6afed7\" x=\"119.488073\" y=\"98.817908\" style=\"fill: #1f77b4; stroke: #1f77b4\"/>\n     <use xlink:href=\"#m135d6afed7\" x=\"141.42059\" y=\"80.531033\" style=\"fill: #1f77b4; stroke: #1f77b4\"/>\n     <use xlink:href=\"#m135d6afed7\" x=\"136.46722\" y=\"64.272929\" style=\"fill: #1f77b4; stroke: #1f77b4\"/>\n     <use xlink:href=\"#m135d6afed7\" x=\"137.588341\" y=\"77.22953\" style=\"fill: #1f77b4; stroke: #1f77b4\"/>\n     <use xlink:href=\"#m135d6afed7\" x=\"138.300982\" y=\"53.561098\" style=\"fill: #1f77b4; stroke: #1f77b4\"/>\n     <use xlink:href=\"#m135d6afed7\" x=\"128.806116\" y=\"95.596396\" style=\"fill: #1f77b4; stroke: #1f77b4\"/>\n     <use xlink:href=\"#m135d6afed7\" x=\"110.970665\" y=\"81.64475\" style=\"fill: #1f77b4; stroke: #1f77b4\"/>\n     <use xlink:href=\"#m135d6afed7\" x=\"103.799932\" y=\"89.5737\" style=\"fill: #1f77b4; stroke: #1f77b4\"/>\n     <use xlink:href=\"#m135d6afed7\" x=\"173.380831\" y=\"38.420578\" style=\"fill: #1f77b4; stroke: #1f77b4\"/>\n     <use xlink:href=\"#m135d6afed7\" x=\"177.552511\" y=\"70.226119\" style=\"fill: #1f77b4; stroke: #1f77b4\"/>\n     <use xlink:href=\"#m135d6afed7\" x=\"157.28003\" y=\"81.199036\" style=\"fill: #1f77b4; stroke: #1f77b4\"/>\n     <use xlink:href=\"#m135d6afed7\" x=\"105.157827\" y=\"88.307518\" style=\"fill: #1f77b4; stroke: #1f77b4\"/>\n     <use xlink:href=\"#m135d6afed7\" x=\"124.502997\" y=\"72.948509\" style=\"fill: #1f77b4; stroke: #1f77b4\"/>\n     <use xlink:href=\"#m135d6afed7\" x=\"130.960274\" y=\"81.811977\" style=\"fill: #1f77b4; stroke: #1f77b4\"/>\n     <use xlink:href=\"#m135d6afed7\" x=\"130.275188\" y=\"71.363706\" style=\"fill: #1f77b4; stroke: #1f77b4\"/>\n     <use xlink:href=\"#m135d6afed7\" x=\"112.090723\" y=\"72.050524\" style=\"fill: #1f77b4; stroke: #1f77b4\"/>\n     <use xlink:href=\"#m135d6afed7\" x=\"143.977713\" y=\"51.036347\" style=\"fill: #1f77b4; stroke: #1f77b4\"/>\n     <use xlink:href=\"#m135d6afed7\" x=\"122.637163\" y=\"93.050639\" style=\"fill: #1f77b4; stroke: #1f77b4\"/>\n     <use xlink:href=\"#m135d6afed7\" x=\"140.61489\" y=\"65.236266\" style=\"fill: #1f77b4; stroke: #1f77b4\"/>\n     <use xlink:href=\"#m135d6afed7\" x=\"193.975174\" y=\"13.5\" style=\"fill: #1f77b4; stroke: #1f77b4\"/>\n     <use xlink:href=\"#m135d6afed7\" x=\"162.621411\" y=\"75.812985\" style=\"fill: #1f77b4; stroke: #1f77b4\"/>\n     <use xlink:href=\"#m135d6afed7\" x=\"95.575497\" y=\"64.11307\" style=\"fill: #1f77b4; stroke: #1f77b4\"/>\n     <use xlink:href=\"#m135d6afed7\" x=\"137.756831\" y=\"47.411318\" style=\"fill: #1f77b4; stroke: #1f77b4\"/>\n     <use xlink:href=\"#m135d6afed7\" x=\"98.493951\" y=\"101.902855\" style=\"fill: #1f77b4; stroke: #1f77b4\"/>\n     <use xlink:href=\"#m135d6afed7\" x=\"96.779366\" y=\"128.072157\" style=\"fill: #1f77b4; stroke: #1f77b4\"/>\n     <use xlink:href=\"#m135d6afed7\" x=\"109.696734\" y=\"91.621112\" style=\"fill: #1f77b4; stroke: #1f77b4\"/>\n     <use xlink:href=\"#m135d6afed7\" x=\"117.826194\" y=\"72.621255\" style=\"fill: #1f77b4; stroke: #1f77b4\"/>\n     <use xlink:href=\"#m135d6afed7\" x=\"119.500733\" y=\"93.589523\" style=\"fill: #1f77b4; stroke: #1f77b4\"/>\n     <use xlink:href=\"#m135d6afed7\" x=\"132.616649\" y=\"91.9466\" style=\"fill: #1f77b4; stroke: #1f77b4\"/>\n     <use xlink:href=\"#m135d6afed7\" x=\"135.682216\" y=\"76.565132\" style=\"fill: #1f77b4; stroke: #1f77b4\"/>\n     <use xlink:href=\"#m135d6afed7\" x=\"181.525753\" y=\"28.615277\" style=\"fill: #1f77b4; stroke: #1f77b4\"/>\n     <use xlink:href=\"#m135d6afed7\" x=\"161.182941\" y=\"46.019801\" style=\"fill: #1f77b4; stroke: #1f77b4\"/>\n     <use xlink:href=\"#m135d6afed7\" x=\"113.666771\" y=\"73.643038\" style=\"fill: #1f77b4; stroke: #1f77b4\"/>\n     <use xlink:href=\"#m135d6afed7\" x=\"145.033031\" y=\"56.481137\" style=\"fill: #1f77b4; stroke: #1f77b4\"/>\n     <use xlink:href=\"#m135d6afed7\" x=\"77.914676\" y=\"67.304865\" style=\"fill: #1f77b4; stroke: #1f77b4\"/>\n     <use xlink:href=\"#m135d6afed7\" x=\"119.219569\" y=\"44.422219\" style=\"fill: #1f77b4; stroke: #1f77b4\"/>\n     <use xlink:href=\"#m135d6afed7\" x=\"136.700972\" y=\"46.792065\" style=\"fill: #1f77b4; stroke: #1f77b4\"/>\n     <use xlink:href=\"#m135d6afed7\" x=\"144.686458\" y=\"62.165211\" style=\"fill: #1f77b4; stroke: #1f77b4\"/>\n     <use xlink:href=\"#m135d6afed7\" x=\"185.532656\" y=\"66.01451\" style=\"fill: #1f77b4; stroke: #1f77b4\"/>\n     <use xlink:href=\"#m135d6afed7\" x=\"128.779286\" y=\"50.540194\" style=\"fill: #1f77b4; stroke: #1f77b4\"/>\n     <use xlink:href=\"#m135d6afed7\" x=\"103.167772\" y=\"61.431954\" style=\"fill: #1f77b4; stroke: #1f77b4\"/>\n     <use xlink:href=\"#m135d6afed7\" x=\"95.231956\" y=\"110.209236\" style=\"fill: #1f77b4; stroke: #1f77b4\"/>\n     <use xlink:href=\"#m135d6afed7\" x=\"149.166683\" y=\"88.663843\" style=\"fill: #1f77b4; stroke: #1f77b4\"/>\n     <use xlink:href=\"#m135d6afed7\" x=\"131.298172\" y=\"84.967155\" style=\"fill: #1f77b4; stroke: #1f77b4\"/>\n     <use xlink:href=\"#m135d6afed7\" x=\"122.654123\" y=\"124.247363\" style=\"fill: #1f77b4; stroke: #1f77b4\"/>\n     <use xlink:href=\"#m135d6afed7\" x=\"140.22056\" y=\"76.522954\" style=\"fill: #1f77b4; stroke: #1f77b4\"/>\n     <use xlink:href=\"#m135d6afed7\" x=\"150.018055\" y=\"47.40072\" style=\"fill: #1f77b4; stroke: #1f77b4\"/>\n     <use xlink:href=\"#m135d6afed7\" x=\"151.959585\" y=\"72.727515\" style=\"fill: #1f77b4; stroke: #1f77b4\"/>\n     <use xlink:href=\"#m135d6afed7\" x=\"125.555685\" y=\"60.414107\" style=\"fill: #1f77b4; stroke: #1f77b4\"/>\n     <use xlink:href=\"#m135d6afed7\" x=\"99.005335\" y=\"79.2272\" style=\"fill: #1f77b4; stroke: #1f77b4\"/>\n     <use xlink:href=\"#m135d6afed7\" x=\"115.807111\" y=\"97.419209\" style=\"fill: #1f77b4; stroke: #1f77b4\"/>\n     <use xlink:href=\"#m135d6afed7\" x=\"91.164449\" y=\"92.280099\" style=\"fill: #1f77b4; stroke: #1f77b4\"/>\n     <use xlink:href=\"#m135d6afed7\" x=\"126.487347\" y=\"77.374353\" style=\"fill: #1f77b4; stroke: #1f77b4\"/>\n     <use xlink:href=\"#m135d6afed7\" x=\"149.227636\" y=\"49.621813\" style=\"fill: #1f77b4; stroke: #1f77b4\"/>\n     <use xlink:href=\"#m135d6afed7\" x=\"123.253706\" y=\"67.216356\" style=\"fill: #1f77b4; stroke: #1f77b4\"/>\n     <use xlink:href=\"#m135d6afed7\" x=\"125.908806\" y=\"78.428604\" style=\"fill: #1f77b4; stroke: #1f77b4\"/>\n     <use xlink:href=\"#m135d6afed7\" x=\"109.305029\" y=\"92.620701\" style=\"fill: #1f77b4; stroke: #1f77b4\"/>\n     <use xlink:href=\"#m135d6afed7\" x=\"119.112747\" y=\"64.328857\" style=\"fill: #1f77b4; stroke: #1f77b4\"/>\n     <use xlink:href=\"#m135d6afed7\" x=\"92.761984\" y=\"108.832218\" style=\"fill: #1f77b4; stroke: #1f77b4\"/>\n     <use xlink:href=\"#m135d6afed7\" x=\"176.35384\" y=\"64.068461\" style=\"fill: #1f77b4; stroke: #1f77b4\"/>\n     <use xlink:href=\"#m135d6afed7\" x=\"92.681105\" y=\"83.836417\" style=\"fill: #1f77b4; stroke: #1f77b4\"/>\n     <use xlink:href=\"#m135d6afed7\" x=\"112.415528\" y=\"96.354251\" style=\"fill: #1f77b4; stroke: #1f77b4\"/>\n     <use xlink:href=\"#m135d6afed7\" x=\"151.288821\" y=\"80.776973\" style=\"fill: #1f77b4; stroke: #1f77b4\"/>\n     <use xlink:href=\"#m135d6afed7\" x=\"154.005578\" y=\"75.648527\" style=\"fill: #1f77b4; stroke: #1f77b4\"/>\n     <use xlink:href=\"#m135d6afed7\" x=\"127.726134\" y=\"78.804549\" style=\"fill: #1f77b4; stroke: #1f77b4\"/>\n     <use xlink:href=\"#m135d6afed7\" x=\"181.724518\" y=\"53.577781\" style=\"fill: #1f77b4; stroke: #1f77b4\"/>\n     <use xlink:href=\"#m135d6afed7\" x=\"156.181905\" y=\"65.427898\" style=\"fill: #1f77b4; stroke: #1f77b4\"/>\n     <use xlink:href=\"#m135d6afed7\" x=\"111.041986\" y=\"82.453603\" style=\"fill: #1f77b4; stroke: #1f77b4\"/>\n     <use xlink:href=\"#m135d6afed7\" x=\"112.584197\" y=\"85.640345\" style=\"fill: #1f77b4; stroke: #1f77b4\"/>\n     <use xlink:href=\"#m135d6afed7\" x=\"156.643744\" y=\"81.590727\" style=\"fill: #1f77b4; stroke: #1f77b4\"/>\n     <use xlink:href=\"#m135d6afed7\" x=\"137.391821\" y=\"48.327857\" style=\"fill: #1f77b4; stroke: #1f77b4\"/>\n     <use xlink:href=\"#m135d6afed7\" x=\"170.627433\" y=\"44.133541\" style=\"fill: #1f77b4; stroke: #1f77b4\"/>\n     <use xlink:href=\"#m135d6afed7\" x=\"164.820437\" y=\"43.811298\" style=\"fill: #1f77b4; stroke: #1f77b4\"/>\n     <use xlink:href=\"#m135d6afed7\" x=\"118.594775\" y=\"99.475397\" style=\"fill: #1f77b4; stroke: #1f77b4\"/>\n     <use xlink:href=\"#m135d6afed7\" x=\"192.344551\" y=\"57.875306\" style=\"fill: #1f77b4; stroke: #1f77b4\"/>\n     <use xlink:href=\"#m135d6afed7\" x=\"87.882969\" y=\"68.920288\" style=\"fill: #1f77b4; stroke: #1f77b4\"/>\n     <use xlink:href=\"#m135d6afed7\" x=\"66.134138\" y=\"96.256007\" style=\"fill: #1f77b4; stroke: #1f77b4\"/>\n     <use xlink:href=\"#m135d6afed7\" x=\"103.654934\" y=\"89.067216\" style=\"fill: #1f77b4; stroke: #1f77b4\"/>\n     <use xlink:href=\"#m135d6afed7\" x=\"151.982118\" y=\"82.636649\" style=\"fill: #1f77b4; stroke: #1f77b4\"/>\n     <use xlink:href=\"#m135d6afed7\" x=\"119.500898\" y=\"97.332003\" style=\"fill: #1f77b4; stroke: #1f77b4\"/>\n     <use xlink:href=\"#m135d6afed7\" x=\"100.491726\" y=\"84.505612\" style=\"fill: #1f77b4; stroke: #1f77b4\"/>\n     <use xlink:href=\"#m135d6afed7\" x=\"159.193193\" y=\"51.155784\" style=\"fill: #1f77b4; stroke: #1f77b4\"/>\n     <use xlink:href=\"#m135d6afed7\" x=\"121.663475\" y=\"76.603881\" style=\"fill: #1f77b4; stroke: #1f77b4\"/>\n     <use xlink:href=\"#m135d6afed7\" x=\"160.888973\" y=\"64.505093\" style=\"fill: #1f77b4; stroke: #1f77b4\"/>\n     <use xlink:href=\"#m135d6afed7\" x=\"132.266295\" y=\"90.20687\" style=\"fill: #1f77b4; stroke: #1f77b4\"/>\n     <use xlink:href=\"#m135d6afed7\" x=\"195.705407\" y=\"56.078796\" style=\"fill: #1f77b4; stroke: #1f77b4\"/>\n     <use xlink:href=\"#m135d6afed7\" x=\"154.54559\" y=\"56.068702\" style=\"fill: #1f77b4; stroke: #1f77b4\"/>\n     <use xlink:href=\"#m135d6afed7\" x=\"108.096448\" y=\"64.397272\" style=\"fill: #1f77b4; stroke: #1f77b4\"/>\n     <use xlink:href=\"#m135d6afed7\" x=\"156.785703\" y=\"60.258665\" style=\"fill: #1f77b4; stroke: #1f77b4\"/>\n     <use xlink:href=\"#m135d6afed7\" x=\"147.463589\" y=\"51.96003\" style=\"fill: #1f77b4; stroke: #1f77b4\"/>\n     <use xlink:href=\"#m135d6afed7\" x=\"126.52916\" y=\"77.898832\" style=\"fill: #1f77b4; stroke: #1f77b4\"/>\n     <use xlink:href=\"#m135d6afed7\" x=\"161.844044\" y=\"70.186227\" style=\"fill: #1f77b4; stroke: #1f77b4\"/>\n     <use xlink:href=\"#m135d6afed7\" x=\"169.483872\" y=\"41.406778\" style=\"fill: #1f77b4; stroke: #1f77b4\"/>\n     <use xlink:href=\"#m135d6afed7\" x=\"140.958794\" y=\"78.767076\" style=\"fill: #1f77b4; stroke: #1f77b4\"/>\n     <use xlink:href=\"#m135d6afed7\" x=\"115.459744\" y=\"75.0181\" style=\"fill: #1f77b4; stroke: #1f77b4\"/>\n     <use xlink:href=\"#m135d6afed7\" x=\"166.918805\" y=\"80.947479\" style=\"fill: #1f77b4; stroke: #1f77b4\"/>\n     <use xlink:href=\"#m135d6afed7\" x=\"136.311817\" y=\"72.987346\" style=\"fill: #1f77b4; stroke: #1f77b4\"/>\n     <use xlink:href=\"#m135d6afed7\" x=\"137.827591\" y=\"70.677717\" style=\"fill: #1f77b4; stroke: #1f77b4\"/>\n     <use xlink:href=\"#m135d6afed7\" x=\"122.743216\" y=\"42.463445\" style=\"fill: #1f77b4; stroke: #1f77b4\"/>\n     <use xlink:href=\"#m135d6afed7\" x=\"143.768882\" y=\"95.238662\" style=\"fill: #1f77b4; stroke: #1f77b4\"/>\n     <use xlink:href=\"#m135d6afed7\" x=\"125.251557\" y=\"70.144028\" style=\"fill: #1f77b4; stroke: #1f77b4\"/>\n     <use xlink:href=\"#m135d6afed7\" x=\"153.266718\" y=\"63.84223\" style=\"fill: #1f77b4; stroke: #1f77b4\"/>\n     <use xlink:href=\"#m135d6afed7\" x=\"112.116863\" y=\"95.400667\" style=\"fill: #1f77b4; stroke: #1f77b4\"/>\n     <use xlink:href=\"#m135d6afed7\" x=\"133.311808\" y=\"81.280559\" style=\"fill: #1f77b4; stroke: #1f77b4\"/>\n     <use xlink:href=\"#m135d6afed7\" x=\"139.521021\" y=\"37.651301\" style=\"fill: #1f77b4; stroke: #1f77b4\"/>\n     <use xlink:href=\"#m135d6afed7\" x=\"155.953964\" y=\"85.247945\" style=\"fill: #1f77b4; stroke: #1f77b4\"/>\n     <use xlink:href=\"#m135d6afed7\" x=\"130.448524\" y=\"69.262468\" style=\"fill: #1f77b4; stroke: #1f77b4\"/>\n     <use xlink:href=\"#m135d6afed7\" x=\"151.075901\" y=\"51.810291\" style=\"fill: #1f77b4; stroke: #1f77b4\"/>\n     <use xlink:href=\"#m135d6afed7\" x=\"144.879111\" y=\"73.372142\" style=\"fill: #1f77b4; stroke: #1f77b4\"/>\n     <use xlink:href=\"#m135d6afed7\" x=\"115.67636\" y=\"77.623582\" style=\"fill: #1f77b4; stroke: #1f77b4\"/>\n     <use xlink:href=\"#m135d6afed7\" x=\"114.879929\" y=\"121.03814\" style=\"fill: #1f77b4; stroke: #1f77b4\"/>\n     <use xlink:href=\"#m135d6afed7\" x=\"190.907757\" y=\"36.904779\" style=\"fill: #1f77b4; stroke: #1f77b4\"/>\n     <use xlink:href=\"#m135d6afed7\" x=\"104.923923\" y=\"74.423238\" style=\"fill: #1f77b4; stroke: #1f77b4\"/>\n     <use xlink:href=\"#m135d6afed7\" x=\"193.793648\" y=\"42.843047\" style=\"fill: #1f77b4; stroke: #1f77b4\"/>\n     <use xlink:href=\"#m135d6afed7\" x=\"123.066887\" y=\"79.610834\" style=\"fill: #1f77b4; stroke: #1f77b4\"/>\n     <use xlink:href=\"#m135d6afed7\" x=\"161.127033\" y=\"52.965413\" style=\"fill: #1f77b4; stroke: #1f77b4\"/>\n     <use xlink:href=\"#m135d6afed7\" x=\"116.101358\" y=\"63.223095\" style=\"fill: #1f77b4; stroke: #1f77b4\"/>\n     <use xlink:href=\"#m135d6afed7\" x=\"120.149397\" y=\"80.576319\" style=\"fill: #1f77b4; stroke: #1f77b4\"/>\n     <use xlink:href=\"#m135d6afed7\" x=\"117.455888\" y=\"95.216777\" style=\"fill: #1f77b4; stroke: #1f77b4\"/>\n     <use xlink:href=\"#m135d6afed7\" x=\"136.441979\" y=\"78.964218\" style=\"fill: #1f77b4; stroke: #1f77b4\"/>\n     <use xlink:href=\"#m135d6afed7\" x=\"176.292529\" y=\"49.2098\" style=\"fill: #1f77b4; stroke: #1f77b4\"/>\n     <use xlink:href=\"#m135d6afed7\" x=\"130.163462\" y=\"61.397266\" style=\"fill: #1f77b4; stroke: #1f77b4\"/>\n     <use xlink:href=\"#m135d6afed7\" x=\"91.525194\" y=\"86.283856\" style=\"fill: #1f77b4; stroke: #1f77b4\"/>\n     <use xlink:href=\"#m135d6afed7\" x=\"144.943452\" y=\"82.052909\" style=\"fill: #1f77b4; stroke: #1f77b4\"/>\n     <use xlink:href=\"#m135d6afed7\" x=\"104.935404\" y=\"88.079969\" style=\"fill: #1f77b4; stroke: #1f77b4\"/>\n     <use xlink:href=\"#m135d6afed7\" x=\"174.052352\" y=\"59.485171\" style=\"fill: #1f77b4; stroke: #1f77b4\"/>\n     <use xlink:href=\"#m135d6afed7\" x=\"168.182372\" y=\"34.535217\" style=\"fill: #1f77b4; stroke: #1f77b4\"/>\n     <use xlink:href=\"#m135d6afed7\" x=\"144.094366\" y=\"83.897464\" style=\"fill: #1f77b4; stroke: #1f77b4\"/>\n     <use xlink:href=\"#m135d6afed7\" x=\"134.399928\" y=\"72.703926\" style=\"fill: #1f77b4; stroke: #1f77b4\"/>\n     <use xlink:href=\"#m135d6afed7\" x=\"150.150437\" y=\"85.776447\" style=\"fill: #1f77b4; stroke: #1f77b4\"/>\n     <use xlink:href=\"#m135d6afed7\" x=\"125.682319\" y=\"111.298191\" style=\"fill: #1f77b4; stroke: #1f77b4\"/>\n     <use xlink:href=\"#m135d6afed7\" x=\"211.782538\" y=\"41.532978\" style=\"fill: #1f77b4; stroke: #1f77b4\"/>\n     <use xlink:href=\"#m135d6afed7\" x=\"137.38728\" y=\"52.490235\" style=\"fill: #1f77b4; stroke: #1f77b4\"/>\n     <use xlink:href=\"#m135d6afed7\" x=\"146.400792\" y=\"81.908709\" style=\"fill: #1f77b4; stroke: #1f77b4\"/>\n     <use xlink:href=\"#m135d6afed7\" x=\"122.477431\" y=\"61.224002\" style=\"fill: #1f77b4; stroke: #1f77b4\"/>\n     <use xlink:href=\"#m135d6afed7\" x=\"146.704638\" y=\"73.929774\" style=\"fill: #1f77b4; stroke: #1f77b4\"/>\n     <use xlink:href=\"#m135d6afed7\" x=\"140.621313\" y=\"79.605988\" style=\"fill: #1f77b4; stroke: #1f77b4\"/>\n     <use xlink:href=\"#m135d6afed7\" x=\"117.212949\" y=\"78.786814\" style=\"fill: #1f77b4; stroke: #1f77b4\"/>\n     <use xlink:href=\"#m135d6afed7\" x=\"116.585529\" y=\"101.187312\" style=\"fill: #1f77b4; stroke: #1f77b4\"/>\n     <use xlink:href=\"#m135d6afed7\" x=\"114.017931\" y=\"99.730692\" style=\"fill: #1f77b4; stroke: #1f77b4\"/>\n     <use xlink:href=\"#m135d6afed7\" x=\"100.636458\" y=\"111.71166\" style=\"fill: #1f77b4; stroke: #1f77b4\"/>\n     <use xlink:href=\"#m135d6afed7\" x=\"159.815846\" y=\"75.249438\" style=\"fill: #1f77b4; stroke: #1f77b4\"/>\n     <use xlink:href=\"#m135d6afed7\" x=\"114.27398\" y=\"88.783528\" style=\"fill: #1f77b4; stroke: #1f77b4\"/>\n     <use xlink:href=\"#m135d6afed7\" x=\"149.681097\" y=\"49.84115\" style=\"fill: #1f77b4; stroke: #1f77b4\"/>\n     <use xlink:href=\"#m135d6afed7\" x=\"138.826061\" y=\"50.866801\" style=\"fill: #1f77b4; stroke: #1f77b4\"/>\n     <use xlink:href=\"#m135d6afed7\" x=\"138.673544\" y=\"77.770988\" style=\"fill: #1f77b4; stroke: #1f77b4\"/>\n     <use xlink:href=\"#m135d6afed7\" x=\"97.003851\" y=\"73.208307\" style=\"fill: #1f77b4; stroke: #1f77b4\"/>\n     <use xlink:href=\"#m135d6afed7\" x=\"126.528266\" y=\"93.876132\" style=\"fill: #1f77b4; stroke: #1f77b4\"/>\n     <use xlink:href=\"#m135d6afed7\" x=\"128.841757\" y=\"48.162057\" style=\"fill: #1f77b4; stroke: #1f77b4\"/>\n     <use xlink:href=\"#m135d6afed7\" x=\"170.444774\" y=\"57.116248\" style=\"fill: #1f77b4; stroke: #1f77b4\"/>\n     <use xlink:href=\"#m135d6afed7\" x=\"102.150006\" y=\"85.051626\" style=\"fill: #1f77b4; stroke: #1f77b4\"/>\n     <use xlink:href=\"#m135d6afed7\" x=\"140.683864\" y=\"71.218382\" style=\"fill: #1f77b4; stroke: #1f77b4\"/>\n     <use xlink:href=\"#m135d6afed7\" x=\"138.079408\" y=\"79.175364\" style=\"fill: #1f77b4; stroke: #1f77b4\"/>\n     <use xlink:href=\"#m135d6afed7\" x=\"126.770677\" y=\"58.634722\" style=\"fill: #1f77b4; stroke: #1f77b4\"/>\n     <use xlink:href=\"#m135d6afed7\" x=\"182.519867\" y=\"21.509841\" style=\"fill: #1f77b4; stroke: #1f77b4\"/>\n     <use xlink:href=\"#m135d6afed7\" x=\"155.346742\" y=\"71.99437\" style=\"fill: #1f77b4; stroke: #1f77b4\"/>\n     <use xlink:href=\"#m135d6afed7\" x=\"115.245115\" y=\"67.872494\" style=\"fill: #1f77b4; stroke: #1f77b4\"/>\n     <use xlink:href=\"#m135d6afed7\" x=\"158.825025\" y=\"69.157554\" style=\"fill: #1f77b4; stroke: #1f77b4\"/>\n     <use xlink:href=\"#m135d6afed7\" x=\"128.230011\" y=\"85.288214\" style=\"fill: #1f77b4; stroke: #1f77b4\"/>\n     <use xlink:href=\"#m135d6afed7\" x=\"141.089901\" y=\"69.7649\" style=\"fill: #1f77b4; stroke: #1f77b4\"/>\n     <use xlink:href=\"#m135d6afed7\" x=\"118.424477\" y=\"76.039148\" style=\"fill: #1f77b4; stroke: #1f77b4\"/>\n     <use xlink:href=\"#m135d6afed7\" x=\"121.59348\" y=\"54.028308\" style=\"fill: #1f77b4; stroke: #1f77b4\"/>\n     <use xlink:href=\"#m135d6afed7\" x=\"90.721875\" y=\"83.823182\" style=\"fill: #1f77b4; stroke: #1f77b4\"/>\n     <use xlink:href=\"#m135d6afed7\" x=\"151.02221\" y=\"60.538929\" style=\"fill: #1f77b4; stroke: #1f77b4\"/>\n     <use xlink:href=\"#m135d6afed7\" x=\"171.340491\" y=\"53.398938\" style=\"fill: #1f77b4; stroke: #1f77b4\"/>\n     <use xlink:href=\"#m135d6afed7\" x=\"131.095559\" y=\"60.654949\" style=\"fill: #1f77b4; stroke: #1f77b4\"/>\n     <use xlink:href=\"#m135d6afed7\" x=\"133.526129\" y=\"77.307523\" style=\"fill: #1f77b4; stroke: #1f77b4\"/>\n     <use xlink:href=\"#m135d6afed7\" x=\"124.213883\" y=\"38.718441\" style=\"fill: #1f77b4; stroke: #1f77b4\"/>\n     <use xlink:href=\"#m135d6afed7\" x=\"171.87571\" y=\"80.826002\" style=\"fill: #1f77b4; stroke: #1f77b4\"/>\n     <use xlink:href=\"#m135d6afed7\" x=\"172.598351\" y=\"41.573672\" style=\"fill: #1f77b4; stroke: #1f77b4\"/>\n     <use xlink:href=\"#m135d6afed7\" x=\"87.104134\" y=\"88.799383\" style=\"fill: #1f77b4; stroke: #1f77b4\"/>\n     <use xlink:href=\"#m135d6afed7\" x=\"145.144724\" y=\"58.600552\" style=\"fill: #1f77b4; stroke: #1f77b4\"/>\n     <use xlink:href=\"#m135d6afed7\" x=\"120.088753\" y=\"72.319961\" style=\"fill: #1f77b4; stroke: #1f77b4\"/>\n     <use xlink:href=\"#m135d6afed7\" x=\"117.904214\" y=\"61.979439\" style=\"fill: #1f77b4; stroke: #1f77b4\"/>\n     <use xlink:href=\"#m135d6afed7\" x=\"166.886283\" y=\"43.598391\" style=\"fill: #1f77b4; stroke: #1f77b4\"/>\n     <use xlink:href=\"#m135d6afed7\" x=\"148.569295\" y=\"76.455655\" style=\"fill: #1f77b4; stroke: #1f77b4\"/>\n     <use xlink:href=\"#m135d6afed7\" x=\"126.011435\" y=\"62.655382\" style=\"fill: #1f77b4; stroke: #1f77b4\"/>\n     <use xlink:href=\"#m135d6afed7\" x=\"157.725837\" y=\"33.973794\" style=\"fill: #1f77b4; stroke: #1f77b4\"/>\n     <use xlink:href=\"#m135d6afed7\" x=\"90.739292\" y=\"99.982841\" style=\"fill: #1f77b4; stroke: #1f77b4\"/>\n     <use xlink:href=\"#m135d6afed7\" x=\"83.464451\" y=\"94.359365\" style=\"fill: #1f77b4; stroke: #1f77b4\"/>\n     <use xlink:href=\"#m135d6afed7\" x=\"180.224476\" y=\"27.544908\" style=\"fill: #1f77b4; stroke: #1f77b4\"/>\n     <use xlink:href=\"#m135d6afed7\" x=\"81.16497\" y=\"108.958982\" style=\"fill: #1f77b4; stroke: #1f77b4\"/>\n     <use xlink:href=\"#m135d6afed7\" x=\"123.388836\" y=\"74.754119\" style=\"fill: #1f77b4; stroke: #1f77b4\"/>\n     <use xlink:href=\"#m135d6afed7\" x=\"214.722014\" y=\"46.646886\" style=\"fill: #1f77b4; stroke: #1f77b4\"/>\n     <use xlink:href=\"#m135d6afed7\" x=\"110.575914\" y=\"68.457139\" style=\"fill: #1f77b4; stroke: #1f77b4\"/>\n     <use xlink:href=\"#m135d6afed7\" x=\"121.011922\" y=\"95.183919\" style=\"fill: #1f77b4; stroke: #1f77b4\"/>\n     <use xlink:href=\"#m135d6afed7\" x=\"143.385154\" y=\"86.9925\" style=\"fill: #1f77b4; stroke: #1f77b4\"/>\n     <use xlink:href=\"#m135d6afed7\" x=\"128.410187\" y=\"93.28823\" style=\"fill: #1f77b4; stroke: #1f77b4\"/>\n     <use xlink:href=\"#m135d6afed7\" x=\"163.150235\" y=\"71.126947\" style=\"fill: #1f77b4; stroke: #1f77b4\"/>\n     <use xlink:href=\"#m135d6afed7\" x=\"187.518259\" y=\"74.763869\" style=\"fill: #1f77b4; stroke: #1f77b4\"/>\n     <use xlink:href=\"#m135d6afed7\" x=\"129.420372\" y=\"81.730225\" style=\"fill: #1f77b4; stroke: #1f77b4\"/>\n     <use xlink:href=\"#m135d6afed7\" x=\"102.866473\" y=\"80.713428\" style=\"fill: #1f77b4; stroke: #1f77b4\"/>\n     <use xlink:href=\"#m135d6afed7\" x=\"173.163052\" y=\"56.123205\" style=\"fill: #1f77b4; stroke: #1f77b4\"/>\n     <use xlink:href=\"#m135d6afed7\" x=\"132.230965\" y=\"51.883203\" style=\"fill: #1f77b4; stroke: #1f77b4\"/>\n     <use xlink:href=\"#m135d6afed7\" x=\"108.541087\" y=\"56.216328\" style=\"fill: #1f77b4; stroke: #1f77b4\"/>\n     <use xlink:href=\"#m135d6afed7\" x=\"143.158038\" y=\"46.925698\" style=\"fill: #1f77b4; stroke: #1f77b4\"/>\n     <use xlink:href=\"#m135d6afed7\" x=\"136.576273\" y=\"82.727709\" style=\"fill: #1f77b4; stroke: #1f77b4\"/>\n     <use xlink:href=\"#m135d6afed7\" x=\"81.933351\" y=\"138.22331\" style=\"fill: #1f77b4; stroke: #1f77b4\"/>\n     <use xlink:href=\"#m135d6afed7\" x=\"170.068372\" y=\"52.871568\" style=\"fill: #1f77b4; stroke: #1f77b4\"/>\n     <use xlink:href=\"#m135d6afed7\" x=\"95.025567\" y=\"92.149542\" style=\"fill: #1f77b4; stroke: #1f77b4\"/>\n     <use xlink:href=\"#m135d6afed7\" x=\"115.279844\" y=\"71.234044\" style=\"fill: #1f77b4; stroke: #1f77b4\"/>\n     <use xlink:href=\"#m135d6afed7\" x=\"105.859024\" y=\"77.245381\" style=\"fill: #1f77b4; stroke: #1f77b4\"/>\n     <use xlink:href=\"#m135d6afed7\" x=\"170.969444\" y=\"55.300812\" style=\"fill: #1f77b4; stroke: #1f77b4\"/>\n     <use xlink:href=\"#m135d6afed7\" x=\"139.705073\" y=\"74.028848\" style=\"fill: #1f77b4; stroke: #1f77b4\"/>\n     <use xlink:href=\"#m135d6afed7\" x=\"145.773917\" y=\"65.963079\" style=\"fill: #1f77b4; stroke: #1f77b4\"/>\n     <use xlink:href=\"#m135d6afed7\" x=\"137.453951\" y=\"93.972185\" style=\"fill: #1f77b4; stroke: #1f77b4\"/>\n     <use xlink:href=\"#m135d6afed7\" x=\"215.17967\" y=\"21.616242\" style=\"fill: #1f77b4; stroke: #1f77b4\"/>\n     <use xlink:href=\"#m135d6afed7\" x=\"108.455024\" y=\"66.877468\" style=\"fill: #1f77b4; stroke: #1f77b4\"/>\n     <use xlink:href=\"#m135d6afed7\" x=\"131.900434\" y=\"46.209126\" style=\"fill: #1f77b4; stroke: #1f77b4\"/>\n     <use xlink:href=\"#m135d6afed7\" x=\"141.843324\" y=\"63.061712\" style=\"fill: #1f77b4; stroke: #1f77b4\"/>\n     <use xlink:href=\"#m135d6afed7\" x=\"176.42151\" y=\"38.918199\" style=\"fill: #1f77b4; stroke: #1f77b4\"/>\n     <use xlink:href=\"#m135d6afed7\" x=\"145.445567\" y=\"67.330952\" style=\"fill: #1f77b4; stroke: #1f77b4\"/>\n     <use xlink:href=\"#m135d6afed7\" x=\"100.839175\" y=\"75.556796\" style=\"fill: #1f77b4; stroke: #1f77b4\"/>\n     <use xlink:href=\"#m135d6afed7\" x=\"167.858191\" y=\"62.888125\" style=\"fill: #1f77b4; stroke: #1f77b4\"/>\n     <use xlink:href=\"#m135d6afed7\" x=\"95.61544\" y=\"93.547881\" style=\"fill: #1f77b4; stroke: #1f77b4\"/>\n     <use xlink:href=\"#m135d6afed7\" x=\"143.689958\" y=\"77.703692\" style=\"fill: #1f77b4; stroke: #1f77b4\"/>\n     <use xlink:href=\"#m135d6afed7\" x=\"131.317769\" y=\"73.936051\" style=\"fill: #1f77b4; stroke: #1f77b4\"/>\n     <use xlink:href=\"#m135d6afed7\" x=\"146.484986\" y=\"58.006269\" style=\"fill: #1f77b4; stroke: #1f77b4\"/>\n     <use xlink:href=\"#m135d6afed7\" x=\"110.430931\" y=\"82.423058\" style=\"fill: #1f77b4; stroke: #1f77b4\"/>\n     <use xlink:href=\"#m135d6afed7\" x=\"148.667845\" y=\"74.98387\" style=\"fill: #1f77b4; stroke: #1f77b4\"/>\n     <use xlink:href=\"#m135d6afed7\" x=\"146.371281\" y=\"71.54955\" style=\"fill: #1f77b4; stroke: #1f77b4\"/>\n     <use xlink:href=\"#m135d6afed7\" x=\"99.923959\" y=\"61.644629\" style=\"fill: #1f77b4; stroke: #1f77b4\"/>\n     <use xlink:href=\"#m135d6afed7\" x=\"129.020752\" y=\"74.644138\" style=\"fill: #1f77b4; stroke: #1f77b4\"/>\n     <use xlink:href=\"#m135d6afed7\" x=\"108.283022\" y=\"93.648401\" style=\"fill: #1f77b4; stroke: #1f77b4\"/>\n     <use xlink:href=\"#m135d6afed7\" x=\"162.681784\" y=\"53.053172\" style=\"fill: #1f77b4; stroke: #1f77b4\"/>\n     <use xlink:href=\"#m135d6afed7\" x=\"143.147287\" y=\"63.389283\" style=\"fill: #1f77b4; stroke: #1f77b4\"/>\n     <use xlink:href=\"#m135d6afed7\" x=\"177.561684\" y=\"53.846573\" style=\"fill: #1f77b4; stroke: #1f77b4\"/>\n     <use xlink:href=\"#m135d6afed7\" x=\"163.632133\" y=\"54.324744\" style=\"fill: #1f77b4; stroke: #1f77b4\"/>\n     <use xlink:href=\"#m135d6afed7\" x=\"141.13471\" y=\"56.32142\" style=\"fill: #1f77b4; stroke: #1f77b4\"/>\n     <use xlink:href=\"#m135d6afed7\" x=\"96.068903\" y=\"106.855383\" style=\"fill: #1f77b4; stroke: #1f77b4\"/>\n     <use xlink:href=\"#m135d6afed7\" x=\"149.767286\" y=\"74.547934\" style=\"fill: #1f77b4; stroke: #1f77b4\"/>\n     <use xlink:href=\"#m135d6afed7\" x=\"170.287307\" y=\"60.201242\" style=\"fill: #1f77b4; stroke: #1f77b4\"/>\n     <use xlink:href=\"#m135d6afed7\" x=\"164.152671\" y=\"63.813628\" style=\"fill: #1f77b4; stroke: #1f77b4\"/>\n     <use xlink:href=\"#m135d6afed7\" x=\"126.280909\" y=\"88.145336\" style=\"fill: #1f77b4; stroke: #1f77b4\"/>\n     <use xlink:href=\"#m135d6afed7\" x=\"124.377035\" y=\"32.10387\" style=\"fill: #1f77b4; stroke: #1f77b4\"/>\n     <use xlink:href=\"#m135d6afed7\" x=\"122.236145\" y=\"94.985291\" style=\"fill: #1f77b4; stroke: #1f77b4\"/>\n     <use xlink:href=\"#m135d6afed7\" x=\"145.170358\" y=\"64.68889\" style=\"fill: #1f77b4; stroke: #1f77b4\"/>\n     <use xlink:href=\"#m135d6afed7\" x=\"142.801101\" y=\"80.510986\" style=\"fill: #1f77b4; stroke: #1f77b4\"/>\n     <use xlink:href=\"#m135d6afed7\" x=\"131.937194\" y=\"82.650659\" style=\"fill: #1f77b4; stroke: #1f77b4\"/>\n     <use xlink:href=\"#m135d6afed7\" x=\"88.329403\" y=\"122.574717\" style=\"fill: #1f77b4; stroke: #1f77b4\"/>\n     <use xlink:href=\"#m135d6afed7\" x=\"133.586578\" y=\"65.600346\" style=\"fill: #1f77b4; stroke: #1f77b4\"/>\n     <use xlink:href=\"#m135d6afed7\" x=\"150.273212\" y=\"89.564651\" style=\"fill: #1f77b4; stroke: #1f77b4\"/>\n     <use xlink:href=\"#m135d6afed7\" x=\"155.486969\" y=\"84.950298\" style=\"fill: #1f77b4; stroke: #1f77b4\"/>\n     <use xlink:href=\"#m135d6afed7\" x=\"110.658759\" y=\"70.367851\" style=\"fill: #1f77b4; stroke: #1f77b4\"/>\n     <use xlink:href=\"#m135d6afed7\" x=\"126.837231\" y=\"64.112484\" style=\"fill: #1f77b4; stroke: #1f77b4\"/>\n     <use xlink:href=\"#m135d6afed7\" x=\"144.353545\" y=\"80.555912\" style=\"fill: #1f77b4; stroke: #1f77b4\"/>\n     <use xlink:href=\"#m135d6afed7\" x=\"149.290571\" y=\"82.602959\" style=\"fill: #1f77b4; stroke: #1f77b4\"/>\n     <use xlink:href=\"#m135d6afed7\" x=\"157.875014\" y=\"63.739121\" style=\"fill: #1f77b4; stroke: #1f77b4\"/>\n     <use xlink:href=\"#m135d6afed7\" x=\"145.28569\" y=\"85.49704\" style=\"fill: #1f77b4; stroke: #1f77b4\"/>\n     <use xlink:href=\"#m135d6afed7\" x=\"130.680275\" y=\"83.697906\" style=\"fill: #1f77b4; stroke: #1f77b4\"/>\n     <use xlink:href=\"#m135d6afed7\" x=\"144.716742\" y=\"98.808729\" style=\"fill: #1f77b4; stroke: #1f77b4\"/>\n     <use xlink:href=\"#m135d6afed7\" x=\"108.105493\" y=\"102.064909\" style=\"fill: #1f77b4; stroke: #1f77b4\"/>\n     <use xlink:href=\"#m135d6afed7\" x=\"108.828611\" y=\"82.497187\" style=\"fill: #1f77b4; stroke: #1f77b4\"/>\n     <use xlink:href=\"#m135d6afed7\" x=\"76.836447\" y=\"100.068392\" style=\"fill: #1f77b4; stroke: #1f77b4\"/>\n     <use xlink:href=\"#m135d6afed7\" x=\"187.763484\" y=\"61.706297\" style=\"fill: #1f77b4; stroke: #1f77b4\"/>\n     <use xlink:href=\"#m135d6afed7\" x=\"107.007881\" y=\"88.294156\" style=\"fill: #1f77b4; stroke: #1f77b4\"/>\n     <use xlink:href=\"#m135d6afed7\" x=\"157.589838\" y=\"72.33435\" style=\"fill: #1f77b4; stroke: #1f77b4\"/>\n     <use xlink:href=\"#m135d6afed7\" x=\"114.049837\" y=\"75.866415\" style=\"fill: #1f77b4; stroke: #1f77b4\"/>\n     <use xlink:href=\"#m135d6afed7\" x=\"156.1684\" y=\"60.965645\" style=\"fill: #1f77b4; stroke: #1f77b4\"/>\n     <use xlink:href=\"#m135d6afed7\" x=\"150.102933\" y=\"91.829135\" style=\"fill: #1f77b4; stroke: #1f77b4\"/>\n     <use xlink:href=\"#m135d6afed7\" x=\"149.921697\" y=\"54.865998\" style=\"fill: #1f77b4; stroke: #1f77b4\"/>\n     <use xlink:href=\"#m135d6afed7\" x=\"122.556606\" y=\"113.576314\" style=\"fill: #1f77b4; stroke: #1f77b4\"/>\n     <use xlink:href=\"#m135d6afed7\" x=\"144.695074\" y=\"82.502201\" style=\"fill: #1f77b4; stroke: #1f77b4\"/>\n     <use xlink:href=\"#m135d6afed7\" x=\"122.466791\" y=\"67.068432\" style=\"fill: #1f77b4; stroke: #1f77b4\"/>\n     <use xlink:href=\"#m135d6afed7\" x=\"146.26675\" y=\"51.905676\" style=\"fill: #1f77b4; stroke: #1f77b4\"/>\n     <use xlink:href=\"#m135d6afed7\" x=\"136.854349\" y=\"57.70073\" style=\"fill: #1f77b4; stroke: #1f77b4\"/>\n     <use xlink:href=\"#m135d6afed7\" x=\"96.096102\" y=\"89.698637\" style=\"fill: #1f77b4; stroke: #1f77b4\"/>\n     <use xlink:href=\"#m135d6afed7\" x=\"137.951893\" y=\"87.260959\" style=\"fill: #1f77b4; stroke: #1f77b4\"/>\n     <use xlink:href=\"#m135d6afed7\" x=\"160.087528\" y=\"63.8889\" style=\"fill: #1f77b4; stroke: #1f77b4\"/>\n     <use xlink:href=\"#m135d6afed7\" x=\"81.894355\" y=\"82.791614\" style=\"fill: #1f77b4; stroke: #1f77b4\"/>\n     <use xlink:href=\"#m135d6afed7\" x=\"161.059718\" y=\"58.921405\" style=\"fill: #1f77b4; stroke: #1f77b4\"/>\n     <use xlink:href=\"#m135d6afed7\" x=\"61.727841\" y=\"100.621601\" style=\"fill: #1f77b4; stroke: #1f77b4\"/>\n     <use xlink:href=\"#m135d6afed7\" x=\"132.576988\" y=\"65.941136\" style=\"fill: #1f77b4; stroke: #1f77b4\"/>\n     <use xlink:href=\"#m135d6afed7\" x=\"149.484122\" y=\"80.066867\" style=\"fill: #1f77b4; stroke: #1f77b4\"/>\n     <use xlink:href=\"#m135d6afed7\" x=\"128.771089\" y=\"77.924449\" style=\"fill: #1f77b4; stroke: #1f77b4\"/>\n     <use xlink:href=\"#m135d6afed7\" x=\"179.742768\" y=\"44.515953\" style=\"fill: #1f77b4; stroke: #1f77b4\"/>\n     <use xlink:href=\"#m135d6afed7\" x=\"144.841263\" y=\"92.284895\" style=\"fill: #1f77b4; stroke: #1f77b4\"/>\n     <use xlink:href=\"#m135d6afed7\" x=\"101.774679\" y=\"108.317444\" style=\"fill: #1f77b4; stroke: #1f77b4\"/>\n     <use xlink:href=\"#m135d6afed7\" x=\"125.078664\" y=\"72.571664\" style=\"fill: #1f77b4; stroke: #1f77b4\"/>\n     <use xlink:href=\"#m135d6afed7\" x=\"136.656871\" y=\"81.416399\" style=\"fill: #1f77b4; stroke: #1f77b4\"/>\n     <use xlink:href=\"#m135d6afed7\" x=\"142.143816\" y=\"77.869456\" style=\"fill: #1f77b4; stroke: #1f77b4\"/>\n     <use xlink:href=\"#m135d6afed7\" x=\"125.731989\" y=\"78.652806\" style=\"fill: #1f77b4; stroke: #1f77b4\"/>\n     <use xlink:href=\"#m135d6afed7\" x=\"66.334196\" y=\"106.501075\" style=\"fill: #1f77b4; stroke: #1f77b4\"/>\n     <use xlink:href=\"#m135d6afed7\" x=\"178.85244\" y=\"64.678911\" style=\"fill: #1f77b4; stroke: #1f77b4\"/>\n     <use xlink:href=\"#m135d6afed7\" x=\"137.460178\" y=\"77.19951\" style=\"fill: #1f77b4; stroke: #1f77b4\"/>\n     <use xlink:href=\"#m135d6afed7\" x=\"181.890479\" y=\"31.3703\" style=\"fill: #1f77b4; stroke: #1f77b4\"/>\n     <use xlink:href=\"#m135d6afed7\" x=\"113.361141\" y=\"80.10815\" style=\"fill: #1f77b4; stroke: #1f77b4\"/>\n     <use xlink:href=\"#m135d6afed7\" x=\"106.318133\" y=\"139.5\" style=\"fill: #1f77b4; stroke: #1f77b4\"/>\n     <use xlink:href=\"#m135d6afed7\" x=\"110.968769\" y=\"95.707689\" style=\"fill: #1f77b4; stroke: #1f77b4\"/>\n     <use xlink:href=\"#m135d6afed7\" x=\"132.249356\" y=\"74.464525\" style=\"fill: #1f77b4; stroke: #1f77b4\"/>\n     <use xlink:href=\"#m135d6afed7\" x=\"156.396633\" y=\"52.692969\" style=\"fill: #1f77b4; stroke: #1f77b4\"/>\n     <use xlink:href=\"#m135d6afed7\" x=\"137.508717\" y=\"41.903383\" style=\"fill: #1f77b4; stroke: #1f77b4\"/>\n     <use xlink:href=\"#m135d6afed7\" x=\"168.451873\" y=\"55.08385\" style=\"fill: #1f77b4; stroke: #1f77b4\"/>\n     <use xlink:href=\"#m135d6afed7\" x=\"118.790685\" y=\"66.186703\" style=\"fill: #1f77b4; stroke: #1f77b4\"/>\n     <use xlink:href=\"#m135d6afed7\" x=\"158.089103\" y=\"105.249939\" style=\"fill: #1f77b4; stroke: #1f77b4\"/>\n     <use xlink:href=\"#m135d6afed7\" x=\"161.700287\" y=\"83.230553\" style=\"fill: #1f77b4; stroke: #1f77b4\"/>\n     <use xlink:href=\"#m135d6afed7\" x=\"123.88307\" y=\"65.498373\" style=\"fill: #1f77b4; stroke: #1f77b4\"/>\n     <use xlink:href=\"#m135d6afed7\" x=\"80.546662\" y=\"126.758901\" style=\"fill: #1f77b4; stroke: #1f77b4\"/>\n     <use xlink:href=\"#m135d6afed7\" x=\"132.641691\" y=\"57.265531\" style=\"fill: #1f77b4; stroke: #1f77b4\"/>\n     <use xlink:href=\"#m135d6afed7\" x=\"122.2265\" y=\"66.815189\" style=\"fill: #1f77b4; stroke: #1f77b4\"/>\n     <use xlink:href=\"#m135d6afed7\" x=\"122.922861\" y=\"76.411804\" style=\"fill: #1f77b4; stroke: #1f77b4\"/>\n     <use xlink:href=\"#m135d6afed7\" x=\"116.600262\" y=\"52.553316\" style=\"fill: #1f77b4; stroke: #1f77b4\"/>\n     <use xlink:href=\"#m135d6afed7\" x=\"115.52056\" y=\"89.815827\" style=\"fill: #1f77b4; stroke: #1f77b4\"/>\n     <use xlink:href=\"#m135d6afed7\" x=\"109.246776\" y=\"59.80278\" style=\"fill: #1f77b4; stroke: #1f77b4\"/>\n     <use xlink:href=\"#m135d6afed7\" x=\"98.600435\" y=\"62.307355\" style=\"fill: #1f77b4; stroke: #1f77b4\"/>\n     <use xlink:href=\"#m135d6afed7\" x=\"107.294141\" y=\"86.801021\" style=\"fill: #1f77b4; stroke: #1f77b4\"/>\n     <use xlink:href=\"#m135d6afed7\" x=\"153.685519\" y=\"42.977805\" style=\"fill: #1f77b4; stroke: #1f77b4\"/>\n     <use xlink:href=\"#m135d6afed7\" x=\"166.839775\" y=\"56.283106\" style=\"fill: #1f77b4; stroke: #1f77b4\"/>\n     <use xlink:href=\"#m135d6afed7\" x=\"131.050522\" y=\"88.452581\" style=\"fill: #1f77b4; stroke: #1f77b4\"/>\n     <use xlink:href=\"#m135d6afed7\" x=\"141.323561\" y=\"111.769595\" style=\"fill: #1f77b4; stroke: #1f77b4\"/>\n     <use xlink:href=\"#m135d6afed7\" x=\"82.336164\" y=\"96.763234\" style=\"fill: #1f77b4; stroke: #1f77b4\"/>\n     <use xlink:href=\"#m135d6afed7\" x=\"107.422281\" y=\"93.556867\" style=\"fill: #1f77b4; stroke: #1f77b4\"/>\n     <use xlink:href=\"#m135d6afed7\" x=\"145.997552\" y=\"86.599347\" style=\"fill: #1f77b4; stroke: #1f77b4\"/>\n     <use xlink:href=\"#m135d6afed7\" x=\"126.083295\" y=\"103.738189\" style=\"fill: #1f77b4; stroke: #1f77b4\"/>\n     <use xlink:href=\"#m135d6afed7\" x=\"129.398755\" y=\"63.646186\" style=\"fill: #1f77b4; stroke: #1f77b4\"/>\n     <use xlink:href=\"#m135d6afed7\" x=\"117.536764\" y=\"73.942223\" style=\"fill: #1f77b4; stroke: #1f77b4\"/>\n     <use xlink:href=\"#m135d6afed7\" x=\"124.51273\" y=\"68.487232\" style=\"fill: #1f77b4; stroke: #1f77b4\"/>\n     <use xlink:href=\"#m135d6afed7\" x=\"146.392451\" y=\"83.544322\" style=\"fill: #1f77b4; stroke: #1f77b4\"/>\n     <use xlink:href=\"#m135d6afed7\" x=\"135.152516\" y=\"71.952252\" style=\"fill: #1f77b4; stroke: #1f77b4\"/>\n     <use xlink:href=\"#m135d6afed7\" x=\"63.156537\" y=\"70.642381\" style=\"fill: #1f77b4; stroke: #1f77b4\"/>\n     <use xlink:href=\"#m135d6afed7\" x=\"150.283293\" y=\"73.636583\" style=\"fill: #1f77b4; stroke: #1f77b4\"/>\n     <use xlink:href=\"#m135d6afed7\" x=\"66.223698\" y=\"76.573233\" style=\"fill: #1f77b4; stroke: #1f77b4\"/>\n     <use xlink:href=\"#m135d6afed7\" x=\"140.508793\" y=\"70.540905\" style=\"fill: #1f77b4; stroke: #1f77b4\"/>\n     <use xlink:href=\"#m135d6afed7\" x=\"185.413395\" y=\"64.745995\" style=\"fill: #1f77b4; stroke: #1f77b4\"/>\n     <use xlink:href=\"#m135d6afed7\" x=\"109.000702\" y=\"65.338546\" style=\"fill: #1f77b4; stroke: #1f77b4\"/>\n     <use xlink:href=\"#m135d6afed7\" x=\"173.738583\" y=\"74.378906\" style=\"fill: #1f77b4; stroke: #1f77b4\"/>\n     <use xlink:href=\"#m135d6afed7\" x=\"123.147153\" y=\"68.480477\" style=\"fill: #1f77b4; stroke: #1f77b4\"/>\n     <use xlink:href=\"#m135d6afed7\" x=\"152.79444\" y=\"67.441856\" style=\"fill: #1f77b4; stroke: #1f77b4\"/>\n     <use xlink:href=\"#m135d6afed7\" x=\"115.203178\" y=\"75.317188\" style=\"fill: #1f77b4; stroke: #1f77b4\"/>\n     <use xlink:href=\"#m135d6afed7\" x=\"157.945\" y=\"61.692556\" style=\"fill: #1f77b4; stroke: #1f77b4\"/>\n     <use xlink:href=\"#m135d6afed7\" x=\"166.128791\" y=\"49.848623\" style=\"fill: #1f77b4; stroke: #1f77b4\"/>\n     <use xlink:href=\"#m135d6afed7\" x=\"159.852568\" y=\"60.871921\" style=\"fill: #1f77b4; stroke: #1f77b4\"/>\n     <use xlink:href=\"#m135d6afed7\" x=\"155.451237\" y=\"40.465387\" style=\"fill: #1f77b4; stroke: #1f77b4\"/>\n     <use xlink:href=\"#m135d6afed7\" x=\"157.595949\" y=\"55.9939\" style=\"fill: #1f77b4; stroke: #1f77b4\"/>\n     <use xlink:href=\"#m135d6afed7\" x=\"127.694997\" y=\"85.927225\" style=\"fill: #1f77b4; stroke: #1f77b4\"/>\n     <use xlink:href=\"#m135d6afed7\" x=\"133.426735\" y=\"75.506484\" style=\"fill: #1f77b4; stroke: #1f77b4\"/>\n     <use xlink:href=\"#m135d6afed7\" x=\"167.976825\" y=\"80.242008\" style=\"fill: #1f77b4; stroke: #1f77b4\"/>\n     <use xlink:href=\"#m135d6afed7\" x=\"141.286235\" y=\"73.85237\" style=\"fill: #1f77b4; stroke: #1f77b4\"/>\n     <use xlink:href=\"#m135d6afed7\" x=\"173.315916\" y=\"43.878942\" style=\"fill: #1f77b4; stroke: #1f77b4\"/>\n     <use xlink:href=\"#m135d6afed7\" x=\"166.391091\" y=\"58.900964\" style=\"fill: #1f77b4; stroke: #1f77b4\"/>\n     <use xlink:href=\"#m135d6afed7\" x=\"159.73343\" y=\"36.016572\" style=\"fill: #1f77b4; stroke: #1f77b4\"/>\n     <use xlink:href=\"#m135d6afed7\" x=\"131.436953\" y=\"93.55074\" style=\"fill: #1f77b4; stroke: #1f77b4\"/>\n     <use xlink:href=\"#m135d6afed7\" x=\"126.549907\" y=\"38.648701\" style=\"fill: #1f77b4; stroke: #1f77b4\"/>\n     <use xlink:href=\"#m135d6afed7\" x=\"111.97252\" y=\"62.086851\" style=\"fill: #1f77b4; stroke: #1f77b4\"/>\n     <use xlink:href=\"#m135d6afed7\" x=\"110.341634\" y=\"81.474366\" style=\"fill: #1f77b4; stroke: #1f77b4\"/>\n     <use xlink:href=\"#m135d6afed7\" x=\"116.522594\" y=\"104.617801\" style=\"fill: #1f77b4; stroke: #1f77b4\"/>\n     <use xlink:href=\"#m135d6afed7\" x=\"89.848606\" y=\"113.098635\" style=\"fill: #1f77b4; stroke: #1f77b4\"/>\n     <use xlink:href=\"#m135d6afed7\" x=\"133.726494\" y=\"64.689804\" style=\"fill: #1f77b4; stroke: #1f77b4\"/>\n     <use xlink:href=\"#m135d6afed7\" x=\"169.479443\" y=\"69.914917\" style=\"fill: #1f77b4; stroke: #1f77b4\"/>\n     <use xlink:href=\"#m135d6afed7\" x=\"128.220389\" y=\"83.526698\" style=\"fill: #1f77b4; stroke: #1f77b4\"/>\n     <use xlink:href=\"#m135d6afed7\" x=\"143.122907\" y=\"79.931011\" style=\"fill: #1f77b4; stroke: #1f77b4\"/>\n     <use xlink:href=\"#m135d6afed7\" x=\"78.560848\" y=\"76.989702\" style=\"fill: #1f77b4; stroke: #1f77b4\"/>\n     <use xlink:href=\"#m135d6afed7\" x=\"138.98862\" y=\"67.278272\" style=\"fill: #1f77b4; stroke: #1f77b4\"/>\n     <use xlink:href=\"#m135d6afed7\" x=\"111.811553\" y=\"61.327258\" style=\"fill: #1f77b4; stroke: #1f77b4\"/>\n     <use xlink:href=\"#m135d6afed7\" x=\"127.248847\" y=\"58.695696\" style=\"fill: #1f77b4; stroke: #1f77b4\"/>\n     <use xlink:href=\"#m135d6afed7\" x=\"173.994043\" y=\"54.257814\" style=\"fill: #1f77b4; stroke: #1f77b4\"/>\n     <use xlink:href=\"#m135d6afed7\" x=\"131.58814\" y=\"48.393376\" style=\"fill: #1f77b4; stroke: #1f77b4\"/>\n     <use xlink:href=\"#m135d6afed7\" x=\"108.777542\" y=\"56.587971\" style=\"fill: #1f77b4; stroke: #1f77b4\"/>\n     <use xlink:href=\"#m135d6afed7\" x=\"118.973027\" y=\"79.528853\" style=\"fill: #1f77b4; stroke: #1f77b4\"/>\n     <use xlink:href=\"#m135d6afed7\" x=\"136.329629\" y=\"76.657927\" style=\"fill: #1f77b4; stroke: #1f77b4\"/>\n     <use xlink:href=\"#m135d6afed7\" x=\"133.462118\" y=\"78.056749\" style=\"fill: #1f77b4; stroke: #1f77b4\"/>\n     <use xlink:href=\"#m135d6afed7\" x=\"177.32166\" y=\"40.51219\" style=\"fill: #1f77b4; stroke: #1f77b4\"/>\n     <use xlink:href=\"#m135d6afed7\" x=\"141.463868\" y=\"81.699221\" style=\"fill: #1f77b4; stroke: #1f77b4\"/>\n     <use xlink:href=\"#m135d6afed7\" x=\"122.131551\" y=\"67.027546\" style=\"fill: #1f77b4; stroke: #1f77b4\"/>\n     <use xlink:href=\"#m135d6afed7\" x=\"157.299084\" y=\"53.91668\" style=\"fill: #1f77b4; stroke: #1f77b4\"/>\n     <use xlink:href=\"#m135d6afed7\" x=\"129.808058\" y=\"64.316689\" style=\"fill: #1f77b4; stroke: #1f77b4\"/>\n     <use xlink:href=\"#m135d6afed7\" x=\"130.017229\" y=\"74.334286\" style=\"fill: #1f77b4; stroke: #1f77b4\"/>\n     <use xlink:href=\"#m135d6afed7\" x=\"150.250866\" y=\"82.334881\" style=\"fill: #1f77b4; stroke: #1f77b4\"/>\n     <use xlink:href=\"#m135d6afed7\" x=\"174.913829\" y=\"64.53305\" style=\"fill: #1f77b4; stroke: #1f77b4\"/>\n     <use xlink:href=\"#m135d6afed7\" x=\"164.060778\" y=\"59.715549\" style=\"fill: #1f77b4; stroke: #1f77b4\"/>\n     <use xlink:href=\"#m135d6afed7\" x=\"173.021098\" y=\"44.564348\" style=\"fill: #1f77b4; stroke: #1f77b4\"/>\n     <use xlink:href=\"#m135d6afed7\" x=\"115.297559\" y=\"81.704579\" style=\"fill: #1f77b4; stroke: #1f77b4\"/>\n     <use xlink:href=\"#m135d6afed7\" x=\"170.469831\" y=\"53.440615\" style=\"fill: #1f77b4; stroke: #1f77b4\"/>\n     <use xlink:href=\"#m135d6afed7\" x=\"106.774611\" y=\"79.576396\" style=\"fill: #1f77b4; stroke: #1f77b4\"/>\n     <use xlink:href=\"#m135d6afed7\" x=\"128.152123\" y=\"54.350932\" style=\"fill: #1f77b4; stroke: #1f77b4\"/>\n     <use xlink:href=\"#m135d6afed7\" x=\"120.365985\" y=\"60.296872\" style=\"fill: #1f77b4; stroke: #1f77b4\"/>\n     <use xlink:href=\"#m135d6afed7\" x=\"160.874471\" y=\"52.120998\" style=\"fill: #1f77b4; stroke: #1f77b4\"/>\n     <use xlink:href=\"#m135d6afed7\" x=\"144.843248\" y=\"67.813471\" style=\"fill: #1f77b4; stroke: #1f77b4\"/>\n     <use xlink:href=\"#m135d6afed7\" x=\"169.804177\" y=\"50.02589\" style=\"fill: #1f77b4; stroke: #1f77b4\"/>\n     <use xlink:href=\"#m135d6afed7\" x=\"180.342096\" y=\"55.889265\" style=\"fill: #1f77b4; stroke: #1f77b4\"/>\n     <use xlink:href=\"#m135d6afed7\" x=\"108.070751\" y=\"87.52328\" style=\"fill: #1f77b4; stroke: #1f77b4\"/>\n     <use xlink:href=\"#m135d6afed7\" x=\"148.798789\" y=\"49.938426\" style=\"fill: #1f77b4; stroke: #1f77b4\"/>\n     <use xlink:href=\"#m135d6afed7\" x=\"136.659647\" y=\"61.247115\" style=\"fill: #1f77b4; stroke: #1f77b4\"/>\n     <use xlink:href=\"#m135d6afed7\" x=\"140.046418\" y=\"64.291417\" style=\"fill: #1f77b4; stroke: #1f77b4\"/>\n     <use xlink:href=\"#m135d6afed7\" x=\"160.114029\" y=\"66.396016\" style=\"fill: #1f77b4; stroke: #1f77b4\"/>\n     <use xlink:href=\"#m135d6afed7\" x=\"144.279439\" y=\"79.085115\" style=\"fill: #1f77b4; stroke: #1f77b4\"/>\n     <use xlink:href=\"#m135d6afed7\" x=\"116.433423\" y=\"85.138744\" style=\"fill: #1f77b4; stroke: #1f77b4\"/>\n     <use xlink:href=\"#m135d6afed7\" x=\"215.364915\" y=\"24.285414\" style=\"fill: #1f77b4; stroke: #1f77b4\"/>\n     <use xlink:href=\"#m135d6afed7\" x=\"122.359165\" y=\"69.814342\" style=\"fill: #1f77b4; stroke: #1f77b4\"/>\n     <use xlink:href=\"#m135d6afed7\" x=\"99.89301\" y=\"56.221959\" style=\"fill: #1f77b4; stroke: #1f77b4\"/>\n     <use xlink:href=\"#m135d6afed7\" x=\"127.041375\" y=\"65.211864\" style=\"fill: #1f77b4; stroke: #1f77b4\"/>\n     <use xlink:href=\"#m135d6afed7\" x=\"108.62699\" y=\"78.412124\" style=\"fill: #1f77b4; stroke: #1f77b4\"/>\n     <use xlink:href=\"#m135d6afed7\" x=\"106.538252\" y=\"105.027612\" style=\"fill: #1f77b4; stroke: #1f77b4\"/>\n     <use xlink:href=\"#m135d6afed7\" x=\"136.862814\" y=\"88.984195\" style=\"fill: #1f77b4; stroke: #1f77b4\"/>\n     <use xlink:href=\"#m135d6afed7\" x=\"154.458354\" y=\"55.909543\" style=\"fill: #1f77b4; stroke: #1f77b4\"/>\n     <use xlink:href=\"#m135d6afed7\" x=\"121.625113\" y=\"63.9344\" style=\"fill: #1f77b4; stroke: #1f77b4\"/>\n     <use xlink:href=\"#m135d6afed7\" x=\"126.86005\" y=\"99.408054\" style=\"fill: #1f77b4; stroke: #1f77b4\"/>\n     <use xlink:href=\"#m135d6afed7\" x=\"150.453292\" y=\"48.821958\" style=\"fill: #1f77b4; stroke: #1f77b4\"/>\n     <use xlink:href=\"#m135d6afed7\" x=\"84.245212\" y=\"107.465385\" style=\"fill: #1f77b4; stroke: #1f77b4\"/>\n     <use xlink:href=\"#m135d6afed7\" x=\"140.837173\" y=\"77.817808\" style=\"fill: #1f77b4; stroke: #1f77b4\"/>\n     <use xlink:href=\"#m135d6afed7\" x=\"156.316963\" y=\"70.520043\" style=\"fill: #1f77b4; stroke: #1f77b4\"/>\n     <use xlink:href=\"#m135d6afed7\" x=\"167.498106\" y=\"70.726199\" style=\"fill: #1f77b4; stroke: #1f77b4\"/>\n     <use xlink:href=\"#m135d6afed7\" x=\"181.428602\" y=\"63.427866\" style=\"fill: #1f77b4; stroke: #1f77b4\"/>\n     <use xlink:href=\"#m135d6afed7\" x=\"98.074779\" y=\"98.597876\" style=\"fill: #1f77b4; stroke: #1f77b4\"/>\n     <use xlink:href=\"#m135d6afed7\" x=\"124.453865\" y=\"60.07777\" style=\"fill: #1f77b4; stroke: #1f77b4\"/>\n     <use xlink:href=\"#m135d6afed7\" x=\"157.059387\" y=\"85.867021\" style=\"fill: #1f77b4; stroke: #1f77b4\"/>\n     <use xlink:href=\"#m135d6afed7\" x=\"119.609456\" y=\"64.11535\" style=\"fill: #1f77b4; stroke: #1f77b4\"/>\n     <use xlink:href=\"#m135d6afed7\" x=\"111.028182\" y=\"61.94617\" style=\"fill: #1f77b4; stroke: #1f77b4\"/>\n     <use xlink:href=\"#m135d6afed7\" x=\"132.383728\" y=\"74.234344\" style=\"fill: #1f77b4; stroke: #1f77b4\"/>\n     <use xlink:href=\"#m135d6afed7\" x=\"159.007926\" y=\"65.079834\" style=\"fill: #1f77b4; stroke: #1f77b4\"/>\n     <use xlink:href=\"#m135d6afed7\" x=\"109.362021\" y=\"73.54307\" style=\"fill: #1f77b4; stroke: #1f77b4\"/>\n     <use xlink:href=\"#m135d6afed7\" x=\"140.927576\" y=\"61.443718\" style=\"fill: #1f77b4; stroke: #1f77b4\"/>\n     <use xlink:href=\"#m135d6afed7\" x=\"120.564915\" y=\"87.74823\" style=\"fill: #1f77b4; stroke: #1f77b4\"/>\n     <use xlink:href=\"#m135d6afed7\" x=\"166.8407\" y=\"43.633073\" style=\"fill: #1f77b4; stroke: #1f77b4\"/>\n     <use xlink:href=\"#m135d6afed7\" x=\"122.432449\" y=\"84.151194\" style=\"fill: #1f77b4; stroke: #1f77b4\"/>\n     <use xlink:href=\"#m135d6afed7\" x=\"131.977938\" y=\"76.635575\" style=\"fill: #1f77b4; stroke: #1f77b4\"/>\n     <use xlink:href=\"#m135d6afed7\" x=\"134.2703\" y=\"64.206932\" style=\"fill: #1f77b4; stroke: #1f77b4\"/>\n     <use xlink:href=\"#m135d6afed7\" x=\"86.943204\" y=\"111.699207\" style=\"fill: #1f77b4; stroke: #1f77b4\"/>\n     <use xlink:href=\"#m135d6afed7\" x=\"111.70097\" y=\"69.617202\" style=\"fill: #1f77b4; stroke: #1f77b4\"/>\n     <use xlink:href=\"#m135d6afed7\" x=\"125.55735\" y=\"64.462324\" style=\"fill: #1f77b4; stroke: #1f77b4\"/>\n     <use xlink:href=\"#m135d6afed7\" x=\"100.858907\" y=\"71.162673\" style=\"fill: #1f77b4; stroke: #1f77b4\"/>\n     <use xlink:href=\"#m135d6afed7\" x=\"94.411859\" y=\"67.508921\" style=\"fill: #1f77b4; stroke: #1f77b4\"/>\n     <use xlink:href=\"#m135d6afed7\" x=\"130.88385\" y=\"90.704395\" style=\"fill: #1f77b4; stroke: #1f77b4\"/>\n     <use xlink:href=\"#m135d6afed7\" x=\"156.460472\" y=\"70.609451\" style=\"fill: #1f77b4; stroke: #1f77b4\"/>\n     <use xlink:href=\"#m135d6afed7\" x=\"76.039065\" y=\"84.781846\" style=\"fill: #1f77b4; stroke: #1f77b4\"/>\n     <use xlink:href=\"#m135d6afed7\" x=\"131.0562\" y=\"83.917261\" style=\"fill: #1f77b4; stroke: #1f77b4\"/>\n     <use xlink:href=\"#m135d6afed7\" x=\"102.83148\" y=\"100.90739\" style=\"fill: #1f77b4; stroke: #1f77b4\"/>\n     <use xlink:href=\"#m135d6afed7\" x=\"168.409186\" y=\"57.363214\" style=\"fill: #1f77b4; stroke: #1f77b4\"/>\n     <use xlink:href=\"#m135d6afed7\" x=\"117.517748\" y=\"89.739333\" style=\"fill: #1f77b4; stroke: #1f77b4\"/>\n     <use xlink:href=\"#m135d6afed7\" x=\"82.952113\" y=\"79.277056\" style=\"fill: #1f77b4; stroke: #1f77b4\"/>\n     <use xlink:href=\"#m135d6afed7\" x=\"109.345394\" y=\"92.780262\" style=\"fill: #1f77b4; stroke: #1f77b4\"/>\n     <use xlink:href=\"#m135d6afed7\" x=\"85.408276\" y=\"90.897232\" style=\"fill: #1f77b4; stroke: #1f77b4\"/>\n     <use xlink:href=\"#m135d6afed7\" x=\"174.680011\" y=\"77.90972\" style=\"fill: #1f77b4; stroke: #1f77b4\"/>\n     <use xlink:href=\"#m135d6afed7\" x=\"163.915317\" y=\"53.777299\" style=\"fill: #1f77b4; stroke: #1f77b4\"/>\n     <use xlink:href=\"#m135d6afed7\" x=\"116.140902\" y=\"76.644499\" style=\"fill: #1f77b4; stroke: #1f77b4\"/>\n     <use xlink:href=\"#m135d6afed7\" x=\"139.454664\" y=\"88.263466\" style=\"fill: #1f77b4; stroke: #1f77b4\"/>\n     <use xlink:href=\"#m135d6afed7\" x=\"176.484546\" y=\"45.760843\" style=\"fill: #1f77b4; stroke: #1f77b4\"/>\n     <use xlink:href=\"#m135d6afed7\" x=\"152.24267\" y=\"83.417025\" style=\"fill: #1f77b4; stroke: #1f77b4\"/>\n     <use xlink:href=\"#m135d6afed7\" x=\"123.875723\" y=\"96.078702\" style=\"fill: #1f77b4; stroke: #1f77b4\"/>\n     <use xlink:href=\"#m135d6afed7\" x=\"112.25157\" y=\"64.255064\" style=\"fill: #1f77b4; stroke: #1f77b4\"/>\n     <use xlink:href=\"#m135d6afed7\" x=\"60.542922\" y=\"84.386706\" style=\"fill: #1f77b4; stroke: #1f77b4\"/>\n     <use xlink:href=\"#m135d6afed7\" x=\"95.972488\" y=\"98.354116\" style=\"fill: #1f77b4; stroke: #1f77b4\"/>\n     <use xlink:href=\"#m135d6afed7\" x=\"132.699304\" y=\"70.870171\" style=\"fill: #1f77b4; stroke: #1f77b4\"/>\n     <use xlink:href=\"#m135d6afed7\" x=\"149.872518\" y=\"56.24695\" style=\"fill: #1f77b4; stroke: #1f77b4\"/>\n     <use xlink:href=\"#m135d6afed7\" x=\"120.561301\" y=\"70.030043\" style=\"fill: #1f77b4; stroke: #1f77b4\"/>\n     <use xlink:href=\"#m135d6afed7\" x=\"162.328571\" y=\"81.385873\" style=\"fill: #1f77b4; stroke: #1f77b4\"/>\n     <use xlink:href=\"#m135d6afed7\" x=\"81.005605\" y=\"90.610334\" style=\"fill: #1f77b4; stroke: #1f77b4\"/>\n     <use xlink:href=\"#m135d6afed7\" x=\"145.244778\" y=\"72.701007\" style=\"fill: #1f77b4; stroke: #1f77b4\"/>\n     <use xlink:href=\"#m135d6afed7\" x=\"137.126403\" y=\"64.648471\" style=\"fill: #1f77b4; stroke: #1f77b4\"/>\n     <use xlink:href=\"#m135d6afed7\" x=\"180.128996\" y=\"50.09449\" style=\"fill: #1f77b4; stroke: #1f77b4\"/>\n     <use xlink:href=\"#m135d6afed7\" x=\"123.461129\" y=\"57.601021\" style=\"fill: #1f77b4; stroke: #1f77b4\"/>\n     <use xlink:href=\"#m135d6afed7\" x=\"160.789413\" y=\"44.021041\" style=\"fill: #1f77b4; stroke: #1f77b4\"/>\n     <use xlink:href=\"#m135d6afed7\" x=\"121.93631\" y=\"57.688564\" style=\"fill: #1f77b4; stroke: #1f77b4\"/>\n     <use xlink:href=\"#m135d6afed7\" x=\"121.239843\" y=\"87.725389\" style=\"fill: #1f77b4; stroke: #1f77b4\"/>\n     <use xlink:href=\"#m135d6afed7\" x=\"165.942281\" y=\"50.827864\" style=\"fill: #1f77b4; stroke: #1f77b4\"/>\n     <use xlink:href=\"#m135d6afed7\" x=\"142.412479\" y=\"79.577761\" style=\"fill: #1f77b4; stroke: #1f77b4\"/>\n     <use xlink:href=\"#m135d6afed7\" x=\"115.919345\" y=\"82.522456\" style=\"fill: #1f77b4; stroke: #1f77b4\"/>\n     <use xlink:href=\"#m135d6afed7\" x=\"111.849331\" y=\"82.07712\" style=\"fill: #1f77b4; stroke: #1f77b4\"/>\n     <use xlink:href=\"#m135d6afed7\" x=\"155.291328\" y=\"81.937721\" style=\"fill: #1f77b4; stroke: #1f77b4\"/>\n     <use xlink:href=\"#m135d6afed7\" x=\"126.139383\" y=\"98.896737\" style=\"fill: #1f77b4; stroke: #1f77b4\"/>\n     <use xlink:href=\"#m135d6afed7\" x=\"138.266771\" y=\"72.870557\" style=\"fill: #1f77b4; stroke: #1f77b4\"/>\n     <use xlink:href=\"#m135d6afed7\" x=\"126.355802\" y=\"73.763723\" style=\"fill: #1f77b4; stroke: #1f77b4\"/>\n     <use xlink:href=\"#m135d6afed7\" x=\"145.288115\" y=\"76.394436\" style=\"fill: #1f77b4; stroke: #1f77b4\"/>\n     <use xlink:href=\"#m135d6afed7\" x=\"135.611044\" y=\"57.904706\" style=\"fill: #1f77b4; stroke: #1f77b4\"/>\n     <use xlink:href=\"#m135d6afed7\" x=\"209.935598\" y=\"19.932392\" style=\"fill: #1f77b4; stroke: #1f77b4\"/>\n     <use xlink:href=\"#m135d6afed7\" x=\"91.394304\" y=\"95.32915\" style=\"fill: #1f77b4; stroke: #1f77b4\"/>\n     <use xlink:href=\"#m135d6afed7\" x=\"104.687411\" y=\"80.534548\" style=\"fill: #1f77b4; stroke: #1f77b4\"/>\n     <use xlink:href=\"#m135d6afed7\" x=\"116.58162\" y=\"75.650791\" style=\"fill: #1f77b4; stroke: #1f77b4\"/>\n     <use xlink:href=\"#m135d6afed7\" x=\"142.990268\" y=\"42.882879\" style=\"fill: #1f77b4; stroke: #1f77b4\"/>\n     <use xlink:href=\"#m135d6afed7\" x=\"138.863171\" y=\"64.674727\" style=\"fill: #1f77b4; stroke: #1f77b4\"/>\n     <use xlink:href=\"#m135d6afed7\" x=\"152.722949\" y=\"73.232784\" style=\"fill: #1f77b4; stroke: #1f77b4\"/>\n     <use xlink:href=\"#m135d6afed7\" x=\"87.414927\" y=\"113.133716\" style=\"fill: #1f77b4; stroke: #1f77b4\"/>\n     <use xlink:href=\"#m135d6afed7\" x=\"81.699434\" y=\"94.18995\" style=\"fill: #1f77b4; stroke: #1f77b4\"/>\n     <use xlink:href=\"#m135d6afed7\" x=\"121.382001\" y=\"74.968261\" style=\"fill: #1f77b4; stroke: #1f77b4\"/>\n     <use xlink:href=\"#m135d6afed7\" x=\"193.703417\" y=\"57.909633\" style=\"fill: #1f77b4; stroke: #1f77b4\"/>\n     <use xlink:href=\"#m135d6afed7\" x=\"91.345687\" y=\"86.068331\" style=\"fill: #1f77b4; stroke: #1f77b4\"/>\n     <use xlink:href=\"#m135d6afed7\" x=\"175.08045\" y=\"58.338373\" style=\"fill: #1f77b4; stroke: #1f77b4\"/>\n     <use xlink:href=\"#m135d6afed7\" x=\"130.644197\" y=\"80.927804\" style=\"fill: #1f77b4; stroke: #1f77b4\"/>\n     <use xlink:href=\"#m135d6afed7\" x=\"79.602046\" y=\"102.248241\" style=\"fill: #1f77b4; stroke: #1f77b4\"/>\n     <use xlink:href=\"#m135d6afed7\" x=\"108.52133\" y=\"106.51652\" style=\"fill: #1f77b4; stroke: #1f77b4\"/>\n     <use xlink:href=\"#m135d6afed7\" x=\"118.104968\" y=\"58.60717\" style=\"fill: #1f77b4; stroke: #1f77b4\"/>\n     <use xlink:href=\"#m135d6afed7\" x=\"92.2768\" y=\"84.883703\" style=\"fill: #1f77b4; stroke: #1f77b4\"/>\n     <use xlink:href=\"#m135d6afed7\" x=\"148.473425\" y=\"57.089868\" style=\"fill: #1f77b4; stroke: #1f77b4\"/>\n     <use xlink:href=\"#m135d6afed7\" x=\"117.137778\" y=\"100.379538\" style=\"fill: #1f77b4; stroke: #1f77b4\"/>\n     <use xlink:href=\"#m135d6afed7\" x=\"121.218954\" y=\"106.173613\" style=\"fill: #1f77b4; stroke: #1f77b4\"/>\n     <use xlink:href=\"#m135d6afed7\" x=\"117.59711\" y=\"122.92407\" style=\"fill: #1f77b4; stroke: #1f77b4\"/>\n     <use xlink:href=\"#m135d6afed7\" x=\"112.959143\" y=\"105.307011\" style=\"fill: #1f77b4; stroke: #1f77b4\"/>\n     <use xlink:href=\"#m135d6afed7\" x=\"109.154405\" y=\"68.70824\" style=\"fill: #1f77b4; stroke: #1f77b4\"/>\n     <use xlink:href=\"#m135d6afed7\" x=\"160.688581\" y=\"76.864609\" style=\"fill: #1f77b4; stroke: #1f77b4\"/>\n     <use xlink:href=\"#m135d6afed7\" x=\"127.730367\" y=\"63.995364\" style=\"fill: #1f77b4; stroke: #1f77b4\"/>\n     <use xlink:href=\"#m135d6afed7\" x=\"161.029358\" y=\"66.514156\" style=\"fill: #1f77b4; stroke: #1f77b4\"/>\n     <use xlink:href=\"#m135d6afed7\" x=\"178.395012\" y=\"57.580536\" style=\"fill: #1f77b4; stroke: #1f77b4\"/>\n     <use xlink:href=\"#m135d6afed7\" x=\"86.197145\" y=\"81.298631\" style=\"fill: #1f77b4; stroke: #1f77b4\"/>\n     <use xlink:href=\"#m135d6afed7\" x=\"90.648405\" y=\"103.788409\" style=\"fill: #1f77b4; stroke: #1f77b4\"/>\n     <use xlink:href=\"#m135d6afed7\" x=\"93.607122\" y=\"95.378205\" style=\"fill: #1f77b4; stroke: #1f77b4\"/>\n     <use xlink:href=\"#m135d6afed7\" x=\"166.810835\" y=\"60.853332\" style=\"fill: #1f77b4; stroke: #1f77b4\"/>\n     <use xlink:href=\"#m135d6afed7\" x=\"97.427378\" y=\"96.216669\" style=\"fill: #1f77b4; stroke: #1f77b4\"/>\n     <use xlink:href=\"#m135d6afed7\" x=\"191.908211\" y=\"35.050886\" style=\"fill: #1f77b4; stroke: #1f77b4\"/>\n     <use xlink:href=\"#m135d6afed7\" x=\"191.723126\" y=\"29.778118\" style=\"fill: #1f77b4; stroke: #1f77b4\"/>\n     <use xlink:href=\"#m135d6afed7\" x=\"107.937868\" y=\"90.753361\" style=\"fill: #1f77b4; stroke: #1f77b4\"/>\n     <use xlink:href=\"#m135d6afed7\" x=\"161.621512\" y=\"71.785536\" style=\"fill: #1f77b4; stroke: #1f77b4\"/>\n     <use xlink:href=\"#m135d6afed7\" x=\"132.955599\" y=\"64.792235\" style=\"fill: #1f77b4; stroke: #1f77b4\"/>\n     <use xlink:href=\"#m135d6afed7\" x=\"140.63456\" y=\"54.519578\" style=\"fill: #1f77b4; stroke: #1f77b4\"/>\n     <use xlink:href=\"#m135d6afed7\" x=\"150.06419\" y=\"77.278086\" style=\"fill: #1f77b4; stroke: #1f77b4\"/>\n     <use xlink:href=\"#m135d6afed7\" x=\"180.677293\" y=\"79.547727\" style=\"fill: #1f77b4; stroke: #1f77b4\"/>\n     <use xlink:href=\"#m135d6afed7\" x=\"155.51704\" y=\"62.663913\" style=\"fill: #1f77b4; stroke: #1f77b4\"/>\n     <use xlink:href=\"#m135d6afed7\" x=\"143.354462\" y=\"59.192215\" style=\"fill: #1f77b4; stroke: #1f77b4\"/>\n     <use xlink:href=\"#m135d6afed7\" x=\"113.670847\" y=\"84.352024\" style=\"fill: #1f77b4; stroke: #1f77b4\"/>\n     <use xlink:href=\"#m135d6afed7\" x=\"115.284249\" y=\"73.458248\" style=\"fill: #1f77b4; stroke: #1f77b4\"/>\n     <use xlink:href=\"#m135d6afed7\" x=\"72.654781\" y=\"106.152245\" style=\"fill: #1f77b4; stroke: #1f77b4\"/>\n     <use xlink:href=\"#m135d6afed7\" x=\"122.41817\" y=\"82.918889\" style=\"fill: #1f77b4; stroke: #1f77b4\"/>\n     <use xlink:href=\"#m135d6afed7\" x=\"151.905362\" y=\"47.715051\" style=\"fill: #1f77b4; stroke: #1f77b4\"/>\n     <use xlink:href=\"#m135d6afed7\" x=\"143.515456\" y=\"80.561131\" style=\"fill: #1f77b4; stroke: #1f77b4\"/>\n     <use xlink:href=\"#m135d6afed7\" x=\"134.017021\" y=\"66.598507\" style=\"fill: #1f77b4; stroke: #1f77b4\"/>\n     <use xlink:href=\"#m135d6afed7\" x=\"147.336356\" y=\"48.141492\" style=\"fill: #1f77b4; stroke: #1f77b4\"/>\n     <use xlink:href=\"#m135d6afed7\" x=\"147.027323\" y=\"70.895862\" style=\"fill: #1f77b4; stroke: #1f77b4\"/>\n     <use xlink:href=\"#m135d6afed7\" x=\"154.731879\" y=\"67.452593\" style=\"fill: #1f77b4; stroke: #1f77b4\"/>\n     <use xlink:href=\"#m135d6afed7\" x=\"144.336016\" y=\"62.392112\" style=\"fill: #1f77b4; stroke: #1f77b4\"/>\n     <use xlink:href=\"#m135d6afed7\" x=\"129.567132\" y=\"66.010959\" style=\"fill: #1f77b4; stroke: #1f77b4\"/>\n     <use xlink:href=\"#m135d6afed7\" x=\"98.039278\" y=\"71.164347\" style=\"fill: #1f77b4; stroke: #1f77b4\"/>\n     <use xlink:href=\"#m135d6afed7\" x=\"196.713632\" y=\"46.603768\" style=\"fill: #1f77b4; stroke: #1f77b4\"/>\n     <use xlink:href=\"#m135d6afed7\" x=\"116.658802\" y=\"74.322079\" style=\"fill: #1f77b4; stroke: #1f77b4\"/>\n     <use xlink:href=\"#m135d6afed7\" x=\"142.310641\" y=\"99.60397\" style=\"fill: #1f77b4; stroke: #1f77b4\"/>\n     <use xlink:href=\"#m135d6afed7\" x=\"134.003493\" y=\"62.829941\" style=\"fill: #1f77b4; stroke: #1f77b4\"/>\n     <use xlink:href=\"#m135d6afed7\" x=\"177.737887\" y=\"35.662909\" style=\"fill: #1f77b4; stroke: #1f77b4\"/>\n     <use xlink:href=\"#m135d6afed7\" x=\"160.045536\" y=\"80.133578\" style=\"fill: #1f77b4; stroke: #1f77b4\"/>\n     <use xlink:href=\"#m135d6afed7\" x=\"155.664355\" y=\"79.559063\" style=\"fill: #1f77b4; stroke: #1f77b4\"/>\n     <use xlink:href=\"#m135d6afed7\" x=\"133.586165\" y=\"61.311545\" style=\"fill: #1f77b4; stroke: #1f77b4\"/>\n     <use xlink:href=\"#m135d6afed7\" x=\"127.840126\" y=\"83.734199\" style=\"fill: #1f77b4; stroke: #1f77b4\"/>\n     <use xlink:href=\"#m135d6afed7\" x=\"135.896628\" y=\"67.592965\" style=\"fill: #1f77b4; stroke: #1f77b4\"/>\n     <use xlink:href=\"#m135d6afed7\" x=\"115.289553\" y=\"102.38192\" style=\"fill: #1f77b4; stroke: #1f77b4\"/>\n     <use xlink:href=\"#m135d6afed7\" x=\"119.12505\" y=\"68.455104\" style=\"fill: #1f77b4; stroke: #1f77b4\"/>\n     <use xlink:href=\"#m135d6afed7\" x=\"140.8195\" y=\"66.171936\" style=\"fill: #1f77b4; stroke: #1f77b4\"/>\n     <use xlink:href=\"#m135d6afed7\" x=\"89.547413\" y=\"75.7552\" style=\"fill: #1f77b4; stroke: #1f77b4\"/>\n     <use xlink:href=\"#m135d6afed7\" x=\"155.340859\" y=\"64.860315\" style=\"fill: #1f77b4; stroke: #1f77b4\"/>\n     <use xlink:href=\"#m135d6afed7\" x=\"123.946881\" y=\"100.500488\" style=\"fill: #1f77b4; stroke: #1f77b4\"/>\n     <use xlink:href=\"#m135d6afed7\" x=\"158.529743\" y=\"48.883312\" style=\"fill: #1f77b4; stroke: #1f77b4\"/>\n     <use xlink:href=\"#m135d6afed7\" x=\"134.539518\" y=\"81.299686\" style=\"fill: #1f77b4; stroke: #1f77b4\"/>\n     <use xlink:href=\"#m135d6afed7\" x=\"101.588039\" y=\"95.356768\" style=\"fill: #1f77b4; stroke: #1f77b4\"/>\n     <use xlink:href=\"#m135d6afed7\" x=\"166.935237\" y=\"63.022556\" style=\"fill: #1f77b4; stroke: #1f77b4\"/>\n     <use xlink:href=\"#m135d6afed7\" x=\"148.224519\" y=\"71.924848\" style=\"fill: #1f77b4; stroke: #1f77b4\"/>\n     <use xlink:href=\"#m135d6afed7\" x=\"172.433261\" y=\"51.74637\" style=\"fill: #1f77b4; stroke: #1f77b4\"/>\n     <use xlink:href=\"#m135d6afed7\" x=\"147.105431\" y=\"62.92896\" style=\"fill: #1f77b4; stroke: #1f77b4\"/>\n     <use xlink:href=\"#m135d6afed7\" x=\"117.806795\" y=\"78.268897\" style=\"fill: #1f77b4; stroke: #1f77b4\"/>\n     <use xlink:href=\"#m135d6afed7\" x=\"158.941908\" y=\"45.154096\" style=\"fill: #1f77b4; stroke: #1f77b4\"/>\n     <use xlink:href=\"#m135d6afed7\" x=\"175.165426\" y=\"38.391413\" style=\"fill: #1f77b4; stroke: #1f77b4\"/>\n     <use xlink:href=\"#m135d6afed7\" x=\"115.751424\" y=\"89.631411\" style=\"fill: #1f77b4; stroke: #1f77b4\"/>\n     <use xlink:href=\"#m135d6afed7\" x=\"173.297135\" y=\"41.077122\" style=\"fill: #1f77b4; stroke: #1f77b4\"/>\n     <use xlink:href=\"#m135d6afed7\" x=\"114.275952\" y=\"84.369652\" style=\"fill: #1f77b4; stroke: #1f77b4\"/>\n     <use xlink:href=\"#m135d6afed7\" x=\"134.590333\" y=\"84.895488\" style=\"fill: #1f77b4; stroke: #1f77b4\"/>\n     <use xlink:href=\"#m135d6afed7\" x=\"153.79162\" y=\"45.99706\" style=\"fill: #1f77b4; stroke: #1f77b4\"/>\n     <use xlink:href=\"#m135d6afed7\" x=\"100.389978\" y=\"91.893613\" style=\"fill: #1f77b4; stroke: #1f77b4\"/>\n     <use xlink:href=\"#m135d6afed7\" x=\"118.239466\" y=\"61.503435\" style=\"fill: #1f77b4; stroke: #1f77b4\"/>\n     <use xlink:href=\"#m135d6afed7\" x=\"132.215378\" y=\"71.499402\" style=\"fill: #1f77b4; stroke: #1f77b4\"/>\n     <use xlink:href=\"#m135d6afed7\" x=\"103.563278\" y=\"88.187274\" style=\"fill: #1f77b4; stroke: #1f77b4\"/>\n     <use xlink:href=\"#m135d6afed7\" x=\"147.143631\" y=\"48.127826\" style=\"fill: #1f77b4; stroke: #1f77b4\"/>\n     <use xlink:href=\"#m135d6afed7\" x=\"78.612404\" y=\"80.692991\" style=\"fill: #1f77b4; stroke: #1f77b4\"/>\n     <use xlink:href=\"#m135d6afed7\" x=\"141.211773\" y=\"78.240985\" style=\"fill: #1f77b4; stroke: #1f77b4\"/>\n     <use xlink:href=\"#m135d6afed7\" x=\"124.564828\" y=\"60.662903\" style=\"fill: #1f77b4; stroke: #1f77b4\"/>\n     <use xlink:href=\"#m135d6afed7\" x=\"164.006857\" y=\"47.824977\" style=\"fill: #1f77b4; stroke: #1f77b4\"/>\n     <use xlink:href=\"#m135d6afed7\" x=\"150.647434\" y=\"83.352552\" style=\"fill: #1f77b4; stroke: #1f77b4\"/>\n     <use xlink:href=\"#m135d6afed7\" x=\"178.499285\" y=\"41.690286\" style=\"fill: #1f77b4; stroke: #1f77b4\"/>\n     <use xlink:href=\"#m135d6afed7\" x=\"116.594507\" y=\"45.087447\" style=\"fill: #1f77b4; stroke: #1f77b4\"/>\n     <use xlink:href=\"#m135d6afed7\" x=\"123.491742\" y=\"74.561353\" style=\"fill: #1f77b4; stroke: #1f77b4\"/>\n     <use xlink:href=\"#m135d6afed7\" x=\"183.324924\" y=\"35.646051\" style=\"fill: #1f77b4; stroke: #1f77b4\"/>\n     <use xlink:href=\"#m135d6afed7\" x=\"133.094401\" y=\"96.944183\" style=\"fill: #1f77b4; stroke: #1f77b4\"/>\n     <use xlink:href=\"#m135d6afed7\" x=\"119.19804\" y=\"54.212568\" style=\"fill: #1f77b4; stroke: #1f77b4\"/>\n     <use xlink:href=\"#m135d6afed7\" x=\"100.541409\" y=\"66.962508\" style=\"fill: #1f77b4; stroke: #1f77b4\"/>\n     <use xlink:href=\"#m135d6afed7\" x=\"121.328596\" y=\"71.27976\" style=\"fill: #1f77b4; stroke: #1f77b4\"/>\n     <use xlink:href=\"#m135d6afed7\" x=\"119.784844\" y=\"69.583599\" style=\"fill: #1f77b4; stroke: #1f77b4\"/>\n     <use xlink:href=\"#m135d6afed7\" x=\"86.6528\" y=\"73.842365\" style=\"fill: #1f77b4; stroke: #1f77b4\"/>\n     <use xlink:href=\"#m135d6afed7\" x=\"132.322075\" y=\"72.328174\" style=\"fill: #1f77b4; stroke: #1f77b4\"/>\n     <use xlink:href=\"#m135d6afed7\" x=\"126.965041\" y=\"72.909579\" style=\"fill: #1f77b4; stroke: #1f77b4\"/>\n     <use xlink:href=\"#m135d6afed7\" x=\"77.453333\" y=\"97.550781\" style=\"fill: #1f77b4; stroke: #1f77b4\"/>\n     <use xlink:href=\"#m135d6afed7\" x=\"145.878113\" y=\"60.325739\" style=\"fill: #1f77b4; stroke: #1f77b4\"/>\n     <use xlink:href=\"#m135d6afed7\" x=\"187.240219\" y=\"42.908216\" style=\"fill: #1f77b4; stroke: #1f77b4\"/>\n     <use xlink:href=\"#m135d6afed7\" x=\"120.372279\" y=\"71.402779\" style=\"fill: #1f77b4; stroke: #1f77b4\"/>\n     <use xlink:href=\"#m135d6afed7\" x=\"113.807384\" y=\"75.361469\" style=\"fill: #1f77b4; stroke: #1f77b4\"/>\n     <use xlink:href=\"#m135d6afed7\" x=\"131.288606\" y=\"76.628725\" style=\"fill: #1f77b4; stroke: #1f77b4\"/>\n     <use xlink:href=\"#m135d6afed7\" x=\"169.42525\" y=\"54.97141\" style=\"fill: #1f77b4; stroke: #1f77b4\"/>\n     <use xlink:href=\"#m135d6afed7\" x=\"136.98656\" y=\"76.67749\" style=\"fill: #1f77b4; stroke: #1f77b4\"/>\n     <use xlink:href=\"#m135d6afed7\" x=\"125.700836\" y=\"80.237007\" style=\"fill: #1f77b4; stroke: #1f77b4\"/>\n     <use xlink:href=\"#m135d6afed7\" x=\"93.612211\" y=\"90.381866\" style=\"fill: #1f77b4; stroke: #1f77b4\"/>\n     <use xlink:href=\"#m135d6afed7\" x=\"93.685323\" y=\"91.449284\" style=\"fill: #1f77b4; stroke: #1f77b4\"/>\n     <use xlink:href=\"#m135d6afed7\" x=\"105.747611\" y=\"65.860172\" style=\"fill: #1f77b4; stroke: #1f77b4\"/>\n     <use xlink:href=\"#m135d6afed7\" x=\"100.786538\" y=\"84.848631\" style=\"fill: #1f77b4; stroke: #1f77b4\"/>\n     <use xlink:href=\"#m135d6afed7\" x=\"143.354092\" y=\"72.115774\" style=\"fill: #1f77b4; stroke: #1f77b4\"/>\n     <use xlink:href=\"#m135d6afed7\" x=\"131.831391\" y=\"67.23371\" style=\"fill: #1f77b4; stroke: #1f77b4\"/>\n     <use xlink:href=\"#m135d6afed7\" x=\"104.977985\" y=\"89.57394\" style=\"fill: #1f77b4; stroke: #1f77b4\"/>\n     <use xlink:href=\"#m135d6afed7\" x=\"147.776538\" y=\"70.736793\" style=\"fill: #1f77b4; stroke: #1f77b4\"/>\n     <use xlink:href=\"#m135d6afed7\" x=\"111.248839\" y=\"128.908538\" style=\"fill: #1f77b4; stroke: #1f77b4\"/>\n     <use xlink:href=\"#m135d6afed7\" x=\"123.800003\" y=\"94.371736\" style=\"fill: #1f77b4; stroke: #1f77b4\"/>\n     <use xlink:href=\"#m135d6afed7\" x=\"136.803282\" y=\"71.705195\" style=\"fill: #1f77b4; stroke: #1f77b4\"/>\n     <use xlink:href=\"#m135d6afed7\" x=\"148.868759\" y=\"62.670052\" style=\"fill: #1f77b4; stroke: #1f77b4\"/>\n     <use xlink:href=\"#m135d6afed7\" x=\"98.883872\" y=\"72.540652\" style=\"fill: #1f77b4; stroke: #1f77b4\"/>\n     <use xlink:href=\"#m135d6afed7\" x=\"136.791493\" y=\"79.395814\" style=\"fill: #1f77b4; stroke: #1f77b4\"/>\n     <use xlink:href=\"#m135d6afed7\" x=\"105.31507\" y=\"83.497962\" style=\"fill: #1f77b4; stroke: #1f77b4\"/>\n     <use xlink:href=\"#m135d6afed7\" x=\"137.279631\" y=\"54.021539\" style=\"fill: #1f77b4; stroke: #1f77b4\"/>\n     <use xlink:href=\"#m135d6afed7\" x=\"121.023476\" y=\"86.195041\" style=\"fill: #1f77b4; stroke: #1f77b4\"/>\n     <use xlink:href=\"#m135d6afed7\" x=\"188.291559\" y=\"78.354998\" style=\"fill: #1f77b4; stroke: #1f77b4\"/>\n     <use xlink:href=\"#m135d6afed7\" x=\"185.900688\" y=\"52.749285\" style=\"fill: #1f77b4; stroke: #1f77b4\"/>\n     <use xlink:href=\"#m135d6afed7\" x=\"114.245813\" y=\"93.499349\" style=\"fill: #1f77b4; stroke: #1f77b4\"/>\n     <use xlink:href=\"#m135d6afed7\" x=\"119.266562\" y=\"61.878925\" style=\"fill: #1f77b4; stroke: #1f77b4\"/>\n     <use xlink:href=\"#m135d6afed7\" x=\"131.797766\" y=\"64.846851\" style=\"fill: #1f77b4; stroke: #1f77b4\"/>\n     <use xlink:href=\"#m135d6afed7\" x=\"128.354221\" y=\"90.836974\" style=\"fill: #1f77b4; stroke: #1f77b4\"/>\n     <use xlink:href=\"#m135d6afed7\" x=\"132.653388\" y=\"70.681858\" style=\"fill: #1f77b4; stroke: #1f77b4\"/>\n     <use xlink:href=\"#m135d6afed7\" x=\"173.100787\" y=\"80.465163\" style=\"fill: #1f77b4; stroke: #1f77b4\"/>\n     <use xlink:href=\"#m135d6afed7\" x=\"147.589319\" y=\"85.280042\" style=\"fill: #1f77b4; stroke: #1f77b4\"/>\n     <use xlink:href=\"#m135d6afed7\" x=\"143.147567\" y=\"57.458496\" style=\"fill: #1f77b4; stroke: #1f77b4\"/>\n     <use xlink:href=\"#m135d6afed7\" x=\"152.335593\" y=\"60.058717\" style=\"fill: #1f77b4; stroke: #1f77b4\"/>\n     <use xlink:href=\"#m135d6afed7\" x=\"187.498607\" y=\"56.936762\" style=\"fill: #1f77b4; stroke: #1f77b4\"/>\n     <use xlink:href=\"#m135d6afed7\" x=\"129.976966\" y=\"94.862045\" style=\"fill: #1f77b4; stroke: #1f77b4\"/>\n     <use xlink:href=\"#m135d6afed7\" x=\"162.841175\" y=\"78.571573\" style=\"fill: #1f77b4; stroke: #1f77b4\"/>\n     <use xlink:href=\"#m135d6afed7\" x=\"147.561669\" y=\"66.71698\" style=\"fill: #1f77b4; stroke: #1f77b4\"/>\n     <use xlink:href=\"#m135d6afed7\" x=\"152.271592\" y=\"56.797844\" style=\"fill: #1f77b4; stroke: #1f77b4\"/>\n     <use xlink:href=\"#m135d6afed7\" x=\"139.12165\" y=\"44.134407\" style=\"fill: #1f77b4; stroke: #1f77b4\"/>\n     <use xlink:href=\"#m135d6afed7\" x=\"130.568967\" y=\"90.506209\" style=\"fill: #1f77b4; stroke: #1f77b4\"/>\n     <use xlink:href=\"#m135d6afed7\" x=\"142.046554\" y=\"58.924369\" style=\"fill: #1f77b4; stroke: #1f77b4\"/>\n     <use xlink:href=\"#m135d6afed7\" x=\"102.804435\" y=\"68.539048\" style=\"fill: #1f77b4; stroke: #1f77b4\"/>\n     <use xlink:href=\"#m135d6afed7\" x=\"103.25069\" y=\"110.271855\" style=\"fill: #1f77b4; stroke: #1f77b4\"/>\n     <use xlink:href=\"#m135d6afed7\" x=\"124.547925\" y=\"54.76489\" style=\"fill: #1f77b4; stroke: #1f77b4\"/>\n     <use xlink:href=\"#m135d6afed7\" x=\"138.581246\" y=\"77.270659\" style=\"fill: #1f77b4; stroke: #1f77b4\"/>\n     <use xlink:href=\"#m135d6afed7\" x=\"94.568993\" y=\"74.197819\" style=\"fill: #1f77b4; stroke: #1f77b4\"/>\n     <use xlink:href=\"#m135d6afed7\" x=\"110.862012\" y=\"39.15235\" style=\"fill: #1f77b4; stroke: #1f77b4\"/>\n     <use xlink:href=\"#m135d6afed7\" x=\"97.47307\" y=\"98.955083\" style=\"fill: #1f77b4; stroke: #1f77b4\"/>\n     <use xlink:href=\"#m135d6afed7\" x=\"186.435645\" y=\"63.381558\" style=\"fill: #1f77b4; stroke: #1f77b4\"/>\n     <use xlink:href=\"#m135d6afed7\" x=\"146.930688\" y=\"58.208353\" style=\"fill: #1f77b4; stroke: #1f77b4\"/>\n     <use xlink:href=\"#m135d6afed7\" x=\"133.719119\" y=\"57.696356\" style=\"fill: #1f77b4; stroke: #1f77b4\"/>\n     <use xlink:href=\"#m135d6afed7\" x=\"145.200386\" y=\"64.616512\" style=\"fill: #1f77b4; stroke: #1f77b4\"/>\n     <use xlink:href=\"#m135d6afed7\" x=\"151.412952\" y=\"82.881359\" style=\"fill: #1f77b4; stroke: #1f77b4\"/>\n     <use xlink:href=\"#m135d6afed7\" x=\"153.314717\" y=\"59.706938\" style=\"fill: #1f77b4; stroke: #1f77b4\"/>\n     <use xlink:href=\"#m135d6afed7\" x=\"151.475828\" y=\"70.70936\" style=\"fill: #1f77b4; stroke: #1f77b4\"/>\n     <use xlink:href=\"#m135d6afed7\" x=\"127.369617\" y=\"83.967004\" style=\"fill: #1f77b4; stroke: #1f77b4\"/>\n     <use xlink:href=\"#m135d6afed7\" x=\"165.417909\" y=\"66.138877\" style=\"fill: #1f77b4; stroke: #1f77b4\"/>\n     <use xlink:href=\"#m135d6afed7\" x=\"146.896166\" y=\"47.123297\" style=\"fill: #1f77b4; stroke: #1f77b4\"/>\n     <use xlink:href=\"#m135d6afed7\" x=\"137.962786\" y=\"79.690536\" style=\"fill: #1f77b4; stroke: #1f77b4\"/>\n     <use xlink:href=\"#m135d6afed7\" x=\"157.899372\" y=\"75.42923\" style=\"fill: #1f77b4; stroke: #1f77b4\"/>\n     <use xlink:href=\"#m135d6afed7\" x=\"144.63064\" y=\"68.291712\" style=\"fill: #1f77b4; stroke: #1f77b4\"/>\n     <use xlink:href=\"#m135d6afed7\" x=\"118.562198\" y=\"81.639992\" style=\"fill: #1f77b4; stroke: #1f77b4\"/>\n     <use xlink:href=\"#m135d6afed7\" x=\"109.279355\" y=\"77.451161\" style=\"fill: #1f77b4; stroke: #1f77b4\"/>\n     <use xlink:href=\"#m135d6afed7\" x=\"110.736824\" y=\"96.532228\" style=\"fill: #1f77b4; stroke: #1f77b4\"/>\n     <use xlink:href=\"#m135d6afed7\" x=\"117.917023\" y=\"91.718474\" style=\"fill: #1f77b4; stroke: #1f77b4\"/>\n     <use xlink:href=\"#m135d6afed7\" x=\"114.590985\" y=\"57.605536\" style=\"fill: #1f77b4; stroke: #1f77b4\"/>\n     <use xlink:href=\"#m135d6afed7\" x=\"144.669708\" y=\"85.485655\" style=\"fill: #1f77b4; stroke: #1f77b4\"/>\n     <use xlink:href=\"#m135d6afed7\" x=\"95.216356\" y=\"109.48734\" style=\"fill: #1f77b4; stroke: #1f77b4\"/>\n     <use xlink:href=\"#m135d6afed7\" x=\"179.958595\" y=\"49.011865\" style=\"fill: #1f77b4; stroke: #1f77b4\"/>\n     <use xlink:href=\"#m135d6afed7\" x=\"129.246309\" y=\"46.962379\" style=\"fill: #1f77b4; stroke: #1f77b4\"/>\n     <use xlink:href=\"#m135d6afed7\" x=\"155.853438\" y=\"51.808911\" style=\"fill: #1f77b4; stroke: #1f77b4\"/>\n     <use xlink:href=\"#m135d6afed7\" x=\"176.204931\" y=\"61.579309\" style=\"fill: #1f77b4; stroke: #1f77b4\"/>\n     <use xlink:href=\"#m135d6afed7\" x=\"164.078097\" y=\"41.097791\" style=\"fill: #1f77b4; stroke: #1f77b4\"/>\n     <use xlink:href=\"#m135d6afed7\" x=\"166.022188\" y=\"43.543041\" style=\"fill: #1f77b4; stroke: #1f77b4\"/>\n     <use xlink:href=\"#m135d6afed7\" x=\"109.900069\" y=\"81.196537\" style=\"fill: #1f77b4; stroke: #1f77b4\"/>\n     <use xlink:href=\"#m135d6afed7\" x=\"176.596929\" y=\"44.924679\" style=\"fill: #1f77b4; stroke: #1f77b4\"/>\n     <use xlink:href=\"#m135d6afed7\" x=\"159.75958\" y=\"74.845258\" style=\"fill: #1f77b4; stroke: #1f77b4\"/>\n     <use xlink:href=\"#m135d6afed7\" x=\"100.834697\" y=\"87.547296\" style=\"fill: #1f77b4; stroke: #1f77b4\"/>\n     <use xlink:href=\"#m135d6afed7\" x=\"168.169022\" y=\"55.936938\" style=\"fill: #1f77b4; stroke: #1f77b4\"/>\n     <use xlink:href=\"#m135d6afed7\" x=\"113.087615\" y=\"66.525596\" style=\"fill: #1f77b4; stroke: #1f77b4\"/>\n     <use xlink:href=\"#m135d6afed7\" x=\"126.038961\" y=\"64.344675\" style=\"fill: #1f77b4; stroke: #1f77b4\"/>\n     <use xlink:href=\"#m135d6afed7\" x=\"136.137824\" y=\"93.321039\" style=\"fill: #1f77b4; stroke: #1f77b4\"/>\n     <use xlink:href=\"#m135d6afed7\" x=\"147.200529\" y=\"60.017305\" style=\"fill: #1f77b4; stroke: #1f77b4\"/>\n     <use xlink:href=\"#m135d6afed7\" x=\"123.975987\" y=\"108.290186\" style=\"fill: #1f77b4; stroke: #1f77b4\"/>\n     <use xlink:href=\"#m135d6afed7\" x=\"139.714747\" y=\"61.707786\" style=\"fill: #1f77b4; stroke: #1f77b4\"/>\n     <use xlink:href=\"#m135d6afed7\" x=\"140.772392\" y=\"78.767953\" style=\"fill: #1f77b4; stroke: #1f77b4\"/>\n     <use xlink:href=\"#m135d6afed7\" x=\"165.427971\" y=\"45.948844\" style=\"fill: #1f77b4; stroke: #1f77b4\"/>\n     <use xlink:href=\"#m135d6afed7\" x=\"155.514318\" y=\"72.733133\" style=\"fill: #1f77b4; stroke: #1f77b4\"/>\n     <use xlink:href=\"#m135d6afed7\" x=\"151.517616\" y=\"75.075399\" style=\"fill: #1f77b4; stroke: #1f77b4\"/>\n     <use xlink:href=\"#m135d6afed7\" x=\"99.893662\" y=\"93.785077\" style=\"fill: #1f77b4; stroke: #1f77b4\"/>\n     <use xlink:href=\"#m135d6afed7\" x=\"178.19264\" y=\"53.419342\" style=\"fill: #1f77b4; stroke: #1f77b4\"/>\n     <use xlink:href=\"#m135d6afed7\" x=\"177.795047\" y=\"62.117408\" style=\"fill: #1f77b4; stroke: #1f77b4\"/>\n     <use xlink:href=\"#m135d6afed7\" x=\"114.555558\" y=\"58.765456\" style=\"fill: #1f77b4; stroke: #1f77b4\"/>\n     <use xlink:href=\"#m135d6afed7\" x=\"154.659117\" y=\"62.77826\" style=\"fill: #1f77b4; stroke: #1f77b4\"/>\n     <use xlink:href=\"#m135d6afed7\" x=\"143.254546\" y=\"71.363399\" style=\"fill: #1f77b4; stroke: #1f77b4\"/>\n     <use xlink:href=\"#m135d6afed7\" x=\"166.281438\" y=\"48.655868\" style=\"fill: #1f77b4; stroke: #1f77b4\"/>\n     <use xlink:href=\"#m135d6afed7\" x=\"99.262709\" y=\"62.267234\" style=\"fill: #1f77b4; stroke: #1f77b4\"/>\n     <use xlink:href=\"#m135d6afed7\" x=\"97.866701\" y=\"88.429899\" style=\"fill: #1f77b4; stroke: #1f77b4\"/>\n     <use xlink:href=\"#m135d6afed7\" x=\"99.411586\" y=\"91.772069\" style=\"fill: #1f77b4; stroke: #1f77b4\"/>\n     <use xlink:href=\"#m135d6afed7\" x=\"174.221517\" y=\"42.031376\" style=\"fill: #1f77b4; stroke: #1f77b4\"/>\n     <use xlink:href=\"#m135d6afed7\" x=\"127.331831\" y=\"108.683787\" style=\"fill: #1f77b4; stroke: #1f77b4\"/>\n     <use xlink:href=\"#m135d6afed7\" x=\"168.606972\" y=\"50.353222\" style=\"fill: #1f77b4; stroke: #1f77b4\"/>\n     <use xlink:href=\"#m135d6afed7\" x=\"135.799711\" y=\"46.864602\" style=\"fill: #1f77b4; stroke: #1f77b4\"/>\n     <use xlink:href=\"#m135d6afed7\" x=\"160.707796\" y=\"83.935822\" style=\"fill: #1f77b4; stroke: #1f77b4\"/>\n     <use xlink:href=\"#m135d6afed7\" x=\"120.524904\" y=\"67.854866\" style=\"fill: #1f77b4; stroke: #1f77b4\"/>\n     <use xlink:href=\"#m135d6afed7\" x=\"100.13544\" y=\"72.0647\" style=\"fill: #1f77b4; stroke: #1f77b4\"/>\n     <use xlink:href=\"#m135d6afed7\" x=\"126.508677\" y=\"81.14503\" style=\"fill: #1f77b4; stroke: #1f77b4\"/>\n     <use xlink:href=\"#m135d6afed7\" x=\"96.789502\" y=\"102.560513\" style=\"fill: #1f77b4; stroke: #1f77b4\"/>\n     <use xlink:href=\"#m135d6afed7\" x=\"113.811623\" y=\"88.93855\" style=\"fill: #1f77b4; stroke: #1f77b4\"/>\n     <use xlink:href=\"#m135d6afed7\" x=\"133.586937\" y=\"61.970644\" style=\"fill: #1f77b4; stroke: #1f77b4\"/>\n     <use xlink:href=\"#m135d6afed7\" x=\"102.610955\" y=\"92.593946\" style=\"fill: #1f77b4; stroke: #1f77b4\"/>\n     <use xlink:href=\"#m135d6afed7\" x=\"140.994854\" y=\"54.170561\" style=\"fill: #1f77b4; stroke: #1f77b4\"/>\n     <use xlink:href=\"#m135d6afed7\" x=\"144.771818\" y=\"50.975444\" style=\"fill: #1f77b4; stroke: #1f77b4\"/>\n     <use xlink:href=\"#m135d6afed7\" x=\"121.99558\" y=\"75.04423\" style=\"fill: #1f77b4; stroke: #1f77b4\"/>\n     <use xlink:href=\"#m135d6afed7\" x=\"104.571216\" y=\"78.051011\" style=\"fill: #1f77b4; stroke: #1f77b4\"/>\n     <use xlink:href=\"#m135d6afed7\" x=\"102.084345\" y=\"82.734613\" style=\"fill: #1f77b4; stroke: #1f77b4\"/>\n     <use xlink:href=\"#m135d6afed7\" x=\"118.315195\" y=\"63.973568\" style=\"fill: #1f77b4; stroke: #1f77b4\"/>\n     <use xlink:href=\"#m135d6afed7\" x=\"138.006043\" y=\"27.172257\" style=\"fill: #1f77b4; stroke: #1f77b4\"/>\n     <use xlink:href=\"#m135d6afed7\" x=\"168.465239\" y=\"83.726565\" style=\"fill: #1f77b4; stroke: #1f77b4\"/>\n     <use xlink:href=\"#m135d6afed7\" x=\"110.647919\" y=\"77.868133\" style=\"fill: #1f77b4; stroke: #1f77b4\"/>\n     <use xlink:href=\"#m135d6afed7\" x=\"125.875966\" y=\"75.243122\" style=\"fill: #1f77b4; stroke: #1f77b4\"/>\n     <use xlink:href=\"#m135d6afed7\" x=\"99.480303\" y=\"90.640428\" style=\"fill: #1f77b4; stroke: #1f77b4\"/>\n     <use xlink:href=\"#m135d6afed7\" x=\"148.24542\" y=\"82.076645\" style=\"fill: #1f77b4; stroke: #1f77b4\"/>\n     <use xlink:href=\"#m135d6afed7\" x=\"136.96913\" y=\"84.324105\" style=\"fill: #1f77b4; stroke: #1f77b4\"/>\n     <use xlink:href=\"#m135d6afed7\" x=\"144.429103\" y=\"61.607252\" style=\"fill: #1f77b4; stroke: #1f77b4\"/>\n     <use xlink:href=\"#m135d6afed7\" x=\"129.093217\" y=\"76.230303\" style=\"fill: #1f77b4; stroke: #1f77b4\"/>\n     <use xlink:href=\"#m135d6afed7\" x=\"156.060173\" y=\"73.068473\" style=\"fill: #1f77b4; stroke: #1f77b4\"/>\n     <use xlink:href=\"#m135d6afed7\" x=\"111.604942\" y=\"97.25279\" style=\"fill: #1f77b4; stroke: #1f77b4\"/>\n     <use xlink:href=\"#m135d6afed7\" x=\"128.070722\" y=\"62.324505\" style=\"fill: #1f77b4; stroke: #1f77b4\"/>\n     <use xlink:href=\"#m135d6afed7\" x=\"117.410454\" y=\"66.38372\" style=\"fill: #1f77b4; stroke: #1f77b4\"/>\n     <use xlink:href=\"#m135d6afed7\" x=\"152.729181\" y=\"70.240584\" style=\"fill: #1f77b4; stroke: #1f77b4\"/>\n     <use xlink:href=\"#m135d6afed7\" x=\"128.421511\" y=\"63.62831\" style=\"fill: #1f77b4; stroke: #1f77b4\"/>\n     <use xlink:href=\"#m135d6afed7\" x=\"141.48964\" y=\"90.342191\" style=\"fill: #1f77b4; stroke: #1f77b4\"/>\n     <use xlink:href=\"#m135d6afed7\" x=\"177.106522\" y=\"44.109116\" style=\"fill: #1f77b4; stroke: #1f77b4\"/>\n     <use xlink:href=\"#m135d6afed7\" x=\"97.554318\" y=\"100.153184\" style=\"fill: #1f77b4; stroke: #1f77b4\"/>\n     <use xlink:href=\"#m135d6afed7\" x=\"144.173722\" y=\"69.534076\" style=\"fill: #1f77b4; stroke: #1f77b4\"/>\n     <use xlink:href=\"#m135d6afed7\" x=\"90.128362\" y=\"67.088848\" style=\"fill: #1f77b4; stroke: #1f77b4\"/>\n     <use xlink:href=\"#m135d6afed7\" x=\"151.737039\" y=\"49.503039\" style=\"fill: #1f77b4; stroke: #1f77b4\"/>\n     <use xlink:href=\"#m135d6afed7\" x=\"129.69365\" y=\"54.115122\" style=\"fill: #1f77b4; stroke: #1f77b4\"/>\n     <use xlink:href=\"#m135d6afed7\" x=\"132.034017\" y=\"54.584937\" style=\"fill: #1f77b4; stroke: #1f77b4\"/>\n     <use xlink:href=\"#m135d6afed7\" x=\"130.608621\" y=\"104.285833\" style=\"fill: #1f77b4; stroke: #1f77b4\"/>\n     <use xlink:href=\"#m135d6afed7\" x=\"130.259288\" y=\"47.790229\" style=\"fill: #1f77b4; stroke: #1f77b4\"/>\n     <use xlink:href=\"#m135d6afed7\" x=\"118.400229\" y=\"86.346362\" style=\"fill: #1f77b4; stroke: #1f77b4\"/>\n     <use xlink:href=\"#m135d6afed7\" x=\"140.359481\" y=\"75.012666\" style=\"fill: #1f77b4; stroke: #1f77b4\"/>\n     <use xlink:href=\"#m135d6afed7\" x=\"115.926148\" y=\"76.177141\" style=\"fill: #1f77b4; stroke: #1f77b4\"/>\n    </g>\n   </g>\n   <g id=\"matplotlib.axis_1\">\n    <g id=\"xtick_1\">\n     <g id=\"line2d_1\">\n      <defs>\n       <path id=\"macbd390fdf\" d=\"M 0 0 \nL 0 3.5 \n\" style=\"stroke: #000000; stroke-width: 0.8\"/>\n      </defs>\n      <g>\n       <use xlink:href=\"#macbd390fdf\" x=\"81.334705\" y=\"145.8\" style=\"stroke: #000000; stroke-width: 0.8\"/>\n      </g>\n     </g>\n     <g id=\"text_1\">\n      <!-- −2 -->\n      <g transform=\"translate(73.963611 160.398438)scale(0.1 -0.1)\">\n       <defs>\n        <path id=\"DejaVuSans-2212\" d=\"M 678 2272 \nL 4684 2272 \nL 4684 1741 \nL 678 1741 \nL 678 2272 \nz\n\" transform=\"scale(0.015625)\"/>\n        <path id=\"DejaVuSans-32\" d=\"M 1228 531 \nL 3431 531 \nL 3431 0 \nL 469 0 \nL 469 531 \nQ 828 903 1448 1529 \nQ 2069 2156 2228 2338 \nQ 2531 2678 2651 2914 \nQ 2772 3150 2772 3378 \nQ 2772 3750 2511 3984 \nQ 2250 4219 1831 4219 \nQ 1534 4219 1204 4116 \nQ 875 4013 500 3803 \nL 500 4441 \nQ 881 4594 1212 4672 \nQ 1544 4750 1819 4750 \nQ 2544 4750 2975 4387 \nQ 3406 4025 3406 3419 \nQ 3406 3131 3298 2873 \nQ 3191 2616 2906 2266 \nQ 2828 2175 2409 1742 \nQ 1991 1309 1228 531 \nz\n\" transform=\"scale(0.015625)\"/>\n       </defs>\n       <use xlink:href=\"#DejaVuSans-2212\"/>\n       <use xlink:href=\"#DejaVuSans-32\" x=\"83.789062\"/>\n      </g>\n     </g>\n    </g>\n    <g id=\"xtick_2\">\n     <g id=\"line2d_2\">\n      <g>\n       <use xlink:href=\"#macbd390fdf\" x=\"135.032094\" y=\"145.8\" style=\"stroke: #000000; stroke-width: 0.8\"/>\n      </g>\n     </g>\n     <g id=\"text_2\">\n      <!-- 0 -->\n      <g transform=\"translate(131.850844 160.398438)scale(0.1 -0.1)\">\n       <defs>\n        <path id=\"DejaVuSans-30\" d=\"M 2034 4250 \nQ 1547 4250 1301 3770 \nQ 1056 3291 1056 2328 \nQ 1056 1369 1301 889 \nQ 1547 409 2034 409 \nQ 2525 409 2770 889 \nQ 3016 1369 3016 2328 \nQ 3016 3291 2770 3770 \nQ 2525 4250 2034 4250 \nz\nM 2034 4750 \nQ 2819 4750 3233 4129 \nQ 3647 3509 3647 2328 \nQ 3647 1150 3233 529 \nQ 2819 -91 2034 -91 \nQ 1250 -91 836 529 \nQ 422 1150 422 2328 \nQ 422 3509 836 4129 \nQ 1250 4750 2034 4750 \nz\n\" transform=\"scale(0.015625)\"/>\n       </defs>\n       <use xlink:href=\"#DejaVuSans-30\"/>\n      </g>\n     </g>\n    </g>\n    <g id=\"xtick_3\">\n     <g id=\"line2d_3\">\n      <g>\n       <use xlink:href=\"#macbd390fdf\" x=\"188.729483\" y=\"145.8\" style=\"stroke: #000000; stroke-width: 0.8\"/>\n      </g>\n     </g>\n     <g id=\"text_3\">\n      <!-- 2 -->\n      <g transform=\"translate(185.548233 160.398438)scale(0.1 -0.1)\">\n       <use xlink:href=\"#DejaVuSans-32\"/>\n      </g>\n     </g>\n    </g>\n   </g>\n   <g id=\"matplotlib.axis_2\">\n    <g id=\"ytick_1\">\n     <g id=\"line2d_4\">\n      <defs>\n       <path id=\"mc8f138988b\" d=\"M 0 0 \nL -3.5 0 \n\" style=\"stroke: #000000; stroke-width: 0.8\"/>\n      </defs>\n      <g>\n       <use xlink:href=\"#mc8f138988b\" x=\"28.942188\" y=\"110.037457\" style=\"stroke: #000000; stroke-width: 0.8\"/>\n      </g>\n     </g>\n     <g id=\"text_4\">\n      <!-- −5 -->\n      <g transform=\"translate(7.2 113.836675)scale(0.1 -0.1)\">\n       <defs>\n        <path id=\"DejaVuSans-35\" d=\"M 691 4666 \nL 3169 4666 \nL 3169 4134 \nL 1269 4134 \nL 1269 2991 \nQ 1406 3038 1543 3061 \nQ 1681 3084 1819 3084 \nQ 2600 3084 3056 2656 \nQ 3513 2228 3513 1497 \nQ 3513 744 3044 326 \nQ 2575 -91 1722 -91 \nQ 1428 -91 1123 -41 \nQ 819 9 494 109 \nL 494 744 \nQ 775 591 1075 516 \nQ 1375 441 1709 441 \nQ 2250 441 2565 725 \nQ 2881 1009 2881 1497 \nQ 2881 1984 2565 2268 \nQ 2250 2553 1709 2553 \nQ 1456 2553 1204 2497 \nQ 953 2441 691 2322 \nL 691 4666 \nz\n\" transform=\"scale(0.015625)\"/>\n       </defs>\n       <use xlink:href=\"#DejaVuSans-2212\"/>\n       <use xlink:href=\"#DejaVuSans-35\" x=\"83.789062\"/>\n      </g>\n     </g>\n    </g>\n    <g id=\"ytick_2\">\n     <g id=\"line2d_5\">\n      <g>\n       <use xlink:href=\"#mc8f138988b\" x=\"28.942188\" y=\"71.866794\" style=\"stroke: #000000; stroke-width: 0.8\"/>\n      </g>\n     </g>\n     <g id=\"text_5\">\n      <!-- 0 -->\n      <g transform=\"translate(15.579688 75.666013)scale(0.1 -0.1)\">\n       <use xlink:href=\"#DejaVuSans-30\"/>\n      </g>\n     </g>\n    </g>\n    <g id=\"ytick_3\">\n     <g id=\"line2d_6\">\n      <g>\n       <use xlink:href=\"#mc8f138988b\" x=\"28.942188\" y=\"33.696132\" style=\"stroke: #000000; stroke-width: 0.8\"/>\n      </g>\n     </g>\n     <g id=\"text_6\">\n      <!-- 5 -->\n      <g transform=\"translate(15.579688 37.49535)scale(0.1 -0.1)\">\n       <use xlink:href=\"#DejaVuSans-35\"/>\n      </g>\n     </g>\n    </g>\n   </g>\n   <g id=\"patch_3\">\n    <path d=\"M 28.942188 145.8 \nL 28.942188 7.2 \n\" style=\"fill: none; stroke: #000000; stroke-width: 0.8; stroke-linejoin: miter; stroke-linecap: square\"/>\n   </g>\n   <g id=\"patch_4\">\n    <path d=\"M 224.242188 145.8 \nL 224.242188 7.2 \n\" style=\"fill: none; stroke: #000000; stroke-width: 0.8; stroke-linejoin: miter; stroke-linecap: square\"/>\n   </g>\n   <g id=\"patch_5\">\n    <path d=\"M 28.942188 145.8 \nL 224.242188 145.8 \n\" style=\"fill: none; stroke: #000000; stroke-width: 0.8; stroke-linejoin: miter; stroke-linecap: square\"/>\n   </g>\n   <g id=\"patch_6\">\n    <path d=\"M 28.942188 7.2 \nL 224.242188 7.2 \n\" style=\"fill: none; stroke: #000000; stroke-width: 0.8; stroke-linejoin: miter; stroke-linecap: square\"/>\n   </g>\n  </g>\n </g>\n <defs>\n  <clipPath id=\"p12a735cf27\">\n   <rect x=\"28.942188\" y=\"7.2\" width=\"195.3\" height=\"138.6\"/>\n  </clipPath>\n </defs>\n</svg>\n"
     },
     "metadata": {},
     "output_type": "display_data"
    }
   ],
   "source": [
    "d2l.set_figsize()\n",
    "d2l.plt.scatter(features[:, 1].detach().numpy(), labels.detach().numpy(), 1);"
   ]
  },
  {
   "cell_type": "markdown",
   "id": "d28e67d3",
   "metadata": {
    "origin_pos": 13
   },
   "source": [
    "## 读取数据集\n",
    "\n",
    "回想一下，训练模型时要对数据集进行遍历，每次抽取一小批量样本，并使用它们来更新我们的模型。\n",
    "由于这个过程是训练机器学习算法的基础，所以有必要定义一个函数，\n",
    "该函数能打乱数据集中的样本并以小批量方式获取数据。\n",
    "\n",
    "在下面的代码中，我们[**定义一个`data_iter`函数，\n",
    "该函数接收批量大小、特征矩阵和标签向量作为输入，生成大小为`batch_size`的小批量**]。\n",
    "每个小批量包含一组特征和标签。\n"
   ]
  },
  {
   "cell_type": "code",
   "execution_count": 35,
   "id": "9505ff1c",
   "metadata": {
    "execution": {
     "iopub.execute_input": "2022-12-07T16:43:06.555825Z",
     "iopub.status.busy": "2022-12-07T16:43:06.555541Z",
     "iopub.status.idle": "2022-12-07T16:43:06.561066Z",
     "shell.execute_reply": "2022-12-07T16:43:06.560334Z"
    },
    "origin_pos": 14,
    "tab": [
     "pytorch"
    ],
    "ExecuteTime": {
     "end_time": "2023-06-28T00:54:06.254857600Z",
     "start_time": "2023-06-28T00:54:06.238702900Z"
    }
   },
   "outputs": [],
   "source": [
    "def data_iter(batch_size, features, labels):\n",
    "    num_examples = len(features)\n",
    "    indices = list(range(num_examples))\n",
    "    # 这些样本是随机读取的，没有特定的顺序\n",
    "    random.shuffle(indices) #将列表打乱\n",
    "    for i in range(0, num_examples, batch_size):\n",
    "        batch_indices = torch.tensor(\n",
    "            indices[i: min(i + batch_size, num_examples)])\n",
    "        yield features[batch_indices], labels[batch_indices]"
   ]
  },
  {
   "cell_type": "markdown",
   "id": "edc07979",
   "metadata": {
    "origin_pos": 16
   },
   "source": [
    "通常，我们利用GPU并行运算的优势，处理合理大小的“小批量”。\n",
    "每个样本都可以并行地进行模型计算，且每个样本损失函数的梯度也可以被并行计算。\n",
    "GPU可以在处理几百个样本时，所花费的时间不比处理一个样本时多太多。\n",
    "\n",
    "我们直观感受一下小批量运算：读取第一个小批量数据样本并打印。\n",
    "每个批量的特征维度显示批量大小和输入特征数。\n",
    "同样的，批量的标签形状与`batch_size`相等。\n"
   ]
  },
  {
   "cell_type": "code",
   "execution_count": 36,
   "id": "3934d3c4",
   "metadata": {
    "execution": {
     "iopub.execute_input": "2022-12-07T16:43:06.565191Z",
     "iopub.status.busy": "2022-12-07T16:43:06.564923Z",
     "iopub.status.idle": "2022-12-07T16:43:06.571970Z",
     "shell.execute_reply": "2022-12-07T16:43:06.571038Z"
    },
    "origin_pos": 17,
    "tab": [
     "pytorch"
    ],
    "ExecuteTime": {
     "end_time": "2023-06-28T00:54:08.393146700Z",
     "start_time": "2023-06-28T00:54:08.362577Z"
    }
   },
   "outputs": [
    {
     "name": "stdout",
     "output_type": "stream",
     "text": [
      "tensor([[ 0.3562, -0.6516],\n",
      "        [-1.5970, -0.0722],\n",
      "        [-0.5736,  0.7566],\n",
      "        [-1.9126,  1.9837],\n",
      "        [ 0.3156, -0.7815],\n",
      "        [ 0.8680,  0.5976],\n",
      "        [-0.9498,  0.3692],\n",
      "        [ 0.6607,  0.7957],\n",
      "        [ 0.2907, -1.6271],\n",
      "        [-0.1786, -0.5498]]) \n",
      " tensor([[-0.2719],\n",
      "        [-3.2849],\n",
      "        [-0.0167],\n",
      "        [-0.8499],\n",
      "        [-0.5239],\n",
      "        [ 2.6272],\n",
      "        [-1.3343],\n",
      "        [ 2.5116],\n",
      "        [-1.8603],\n",
      "        [-1.1856]])\n"
     ]
    }
   ],
   "source": [
    "batch_size = 10\n",
    "\n",
    "for X, y in data_iter(batch_size, features, labels):\n",
    "    print(X, '\\n', y)\n",
    "    break"
   ]
  },
  {
   "cell_type": "markdown",
   "id": "f959e76b",
   "metadata": {
    "origin_pos": 18
   },
   "source": [
    "当我们运行迭代时，我们会连续地获得不同的小批量，直至遍历完整个数据集。\n",
    "上面实现的迭代对教学来说很好，但它的执行效率很低，可能会在实际问题上陷入麻烦。\n",
    "例如，它要求我们将所有数据加载到内存中，并执行大量的随机内存访问。\n",
    "在深度学习框架中实现的内置迭代器效率要高得多，\n",
    "它可以处理存储在文件中的数据和数据流提供的数据。\n",
    "\n",
    "## 初始化模型参数\n",
    "\n",
    "[**在我们开始用小批量随机梯度下降优化我们的模型参数之前**]，\n",
    "(**我们需要先有一些参数**)。\n",
    "在下面的代码中，我们通过从均值为0、标准差为0.01的正态分布中采样随机数来初始化权重，\n",
    "并将偏置初始化为0。\n"
   ]
  },
  {
   "cell_type": "code",
   "execution_count": 37,
   "id": "23a1437e",
   "metadata": {
    "execution": {
     "iopub.execute_input": "2022-12-07T16:43:06.575915Z",
     "iopub.status.busy": "2022-12-07T16:43:06.575647Z",
     "iopub.status.idle": "2022-12-07T16:43:06.580295Z",
     "shell.execute_reply": "2022-12-07T16:43:06.579544Z"
    },
    "origin_pos": 20,
    "tab": [
     "pytorch"
    ],
    "ExecuteTime": {
     "end_time": "2023-06-28T00:54:12.856811900Z",
     "start_time": "2023-06-28T00:54:12.841153400Z"
    }
   },
   "outputs": [
    {
     "data": {
      "text/plain": "(tensor([[0.],\n         [0.]], requires_grad=True),\n tensor([0.], requires_grad=True))"
     },
     "execution_count": 37,
     "metadata": {},
     "output_type": "execute_result"
    }
   ],
   "source": [
    "w = torch.normal(0, 0.01, size=(2,1), requires_grad=True)\n",
    "w = torch.tensor([[0.0],[0]], requires_grad= True)\n",
    "b = torch.zeros(1, requires_grad=True)\n",
    "w, b"
   ]
  },
  {
   "cell_type": "markdown",
   "id": "f6ad34a9",
   "metadata": {
    "origin_pos": 23
   },
   "source": [
    "在初始化参数之后，我们的任务是更新这些参数，直到这些参数足够拟合我们的数据。\n",
    "每次更新都需要计算损失函数关于模型参数的梯度。\n",
    "有了这个梯度，我们就可以向减小损失的方向更新每个参数。\n",
    "因为手动计算梯度很枯燥而且容易出错，所以没有人会手动计算梯度。\n",
    "我们使用 :numref:`sec_autograd`中引入的自动微分来计算梯度。\n",
    "\n",
    "## 定义模型\n",
    "\n",
    "接下来，我们必须[**定义模型，将模型的输入和参数同模型的输出关联起来。**]\n",
    "回想一下，要计算线性模型的输出，\n",
    "我们只需计算输入特征$\\mathbf{X}$和模型权重$\\mathbf{w}$的矩阵-向量乘法后加上偏置$b$。\n",
    "注意，上面的$\\mathbf{Xw}$是一个向量，而$b$是一个标量。\n",
    "回想一下 :numref:`subsec_broadcasting`中描述的广播机制：\n",
    "当我们用一个向量加一个标量时，标量会被加到向量的每个分量上。\n"
   ]
  },
  {
   "cell_type": "code",
   "execution_count": 15,
   "id": "67386d14",
   "metadata": {
    "execution": {
     "iopub.execute_input": "2022-12-07T16:43:06.583374Z",
     "iopub.status.busy": "2022-12-07T16:43:06.583103Z",
     "iopub.status.idle": "2022-12-07T16:43:06.587197Z",
     "shell.execute_reply": "2022-12-07T16:43:06.586376Z"
    },
    "origin_pos": 24,
    "tab": [
     "pytorch"
    ],
    "ExecuteTime": {
     "end_time": "2023-06-27T14:33:13.362379300Z",
     "start_time": "2023-06-27T14:33:13.333819900Z"
    }
   },
   "outputs": [],
   "source": [
    "def linreg(X, w, b):  #@save\n",
    "    \"\"\"线性回归模型\"\"\"\n",
    "    return torch.matmul(X, w) + b"
   ]
  },
  {
   "cell_type": "markdown",
   "id": "7a087a5b",
   "metadata": {
    "origin_pos": 25
   },
   "source": [
    "## [**定义损失函数**]\n",
    "\n",
    "因为需要计算损失函数的梯度，所以我们应该先定义损失函数。\n",
    "这里我们使用 :numref:`sec_linear_regression`中描述的平方损失函数。\n",
    "在实现中，我们需要将真实值`y`的形状转换为和预测值`y_hat`的形状相同。\n"
   ]
  },
  {
   "cell_type": "code",
   "execution_count": 16,
   "id": "b95eb605",
   "metadata": {
    "execution": {
     "iopub.execute_input": "2022-12-07T16:43:06.590200Z",
     "iopub.status.busy": "2022-12-07T16:43:06.589934Z",
     "iopub.status.idle": "2022-12-07T16:43:06.594002Z",
     "shell.execute_reply": "2022-12-07T16:43:06.593170Z"
    },
    "origin_pos": 26,
    "tab": [
     "pytorch"
    ],
    "ExecuteTime": {
     "end_time": "2023-06-27T14:33:46.295263400Z",
     "start_time": "2023-06-27T14:33:46.288286900Z"
    }
   },
   "outputs": [],
   "source": [
    "def squared_loss(y_hat, y):  #@save\n",
    "    \"\"\"均方损失\"\"\"\n",
    "    return (y_hat - y.reshape(y_hat.shape)) ** 2 / 2"
   ]
  },
  {
   "cell_type": "markdown",
   "id": "1919becd",
   "metadata": {
    "origin_pos": 27
   },
   "source": [
    "## (**定义优化算法**)\n",
    "\n",
    "正如我们在 :numref:`sec_linear_regression`中讨论的，线性回归有解析解。\n",
    "尽管线性回归有解析解，但本书中的其他模型却没有。\n",
    "这里我们介绍小批量随机梯度下降。\n",
    "\n",
    "在每一步中，使用从数据集中随机抽取的一个小批量，然后根据参数计算损失的梯度。\n",
    "接下来，朝着减少损失的方向更新我们的参数。\n",
    "下面的函数实现小批量随机梯度下降更新。\n",
    "该函数接受模型参数集合、学习速率和批量大小作为输入。每\n",
    "一步更新的大小由学习速率`lr`决定。\n",
    "因为我们计算的损失是一个批量样本的总和，所以我们用批量大小（`batch_size`）\n",
    "来规范化步长，这样步长大小就不会取决于我们对批量大小的选择。\n"
   ]
  },
  {
   "cell_type": "code",
   "execution_count": 17,
   "id": "a6360e87",
   "metadata": {
    "execution": {
     "iopub.execute_input": "2022-12-07T16:43:06.597167Z",
     "iopub.status.busy": "2022-12-07T16:43:06.596900Z",
     "iopub.status.idle": "2022-12-07T16:43:06.601385Z",
     "shell.execute_reply": "2022-12-07T16:43:06.600532Z"
    },
    "origin_pos": 29,
    "tab": [
     "pytorch"
    ],
    "ExecuteTime": {
     "end_time": "2023-06-27T14:34:54.323179100Z",
     "start_time": "2023-06-27T14:34:54.311528600Z"
    }
   },
   "outputs": [],
   "source": [
    "def sgd(params, lr, batch_size):  #@save\n",
    "    \"\"\"小批量随机梯度下降\"\"\"\n",
    "    with torch.no_grad():\n",
    "        for param in params:\n",
    "            param -= lr * param.grad / batch_size\n",
    "            param.grad.zero_()"
   ]
  },
  {
   "cell_type": "markdown",
   "id": "9e466d4d",
   "metadata": {
    "origin_pos": 32
   },
   "source": [
    "## 训练\n",
    "\n",
    "现在我们已经准备好了模型训练所有需要的要素，可以实现主要的[**训练过程**]部分了。\n",
    "理解这段代码至关重要，因为从事深度学习后，\n",
    "相同的训练过程几乎一遍又一遍地出现。\n",
    "在每次迭代中，我们读取一小批量训练样本，并通过我们的模型来获得一组预测。\n",
    "计算完损失后，我们开始反向传播，存储每个参数的梯度。\n",
    "最后，我们调用优化算法`sgd`来更新模型参数。\n",
    "\n",
    "概括一下，我们将执行以下循环：\n",
    "\n",
    "* 初始化参数\n",
    "* 重复以下训练，直到完成\n",
    "    * 计算梯度$\\mathbf{g} \\leftarrow \\partial_{(\\mathbf{w},b)} \\frac{1}{|\\mathcal{B}|} \\sum_{i \\in \\mathcal{B}} l(\\mathbf{x}^{(i)}, y^{(i)}, \\mathbf{w}, b)$\n",
    "    * 更新参数$(\\mathbf{w}, b) \\leftarrow (\\mathbf{w}, b) - \\eta \\mathbf{g}$\n",
    "\n",
    "在每个*迭代周期*（epoch）中，我们使用`data_iter`函数遍历整个数据集，\n",
    "并将训练数据集中所有样本都使用一次（假设样本数能够被批量大小整除）。\n",
    "这里的迭代周期个数`num_epochs`和学习率`lr`都是超参数，分别设为3和0.03。\n",
    "设置超参数很棘手，需要通过反复试验进行调整。\n",
    "我们现在忽略这些细节，以后会在 :numref:`chap_optimization`中详细介绍。\n"
   ]
  },
  {
   "cell_type": "code",
   "execution_count": 18,
   "id": "102331db",
   "metadata": {
    "execution": {
     "iopub.execute_input": "2022-12-07T16:43:06.604403Z",
     "iopub.status.busy": "2022-12-07T16:43:06.604136Z",
     "iopub.status.idle": "2022-12-07T16:43:06.608339Z",
     "shell.execute_reply": "2022-12-07T16:43:06.607465Z"
    },
    "origin_pos": 33,
    "tab": [
     "pytorch"
    ],
    "ExecuteTime": {
     "end_time": "2023-06-27T14:35:11.263239400Z",
     "start_time": "2023-06-27T14:35:11.249860800Z"
    }
   },
   "outputs": [],
   "source": [
    "lr = 0.03\n",
    "num_epochs = 3\n",
    "net = linreg\n",
    "loss = squared_loss"
   ]
  },
  {
   "cell_type": "code",
   "execution_count": 38,
   "id": "97d6ac25",
   "metadata": {
    "execution": {
     "iopub.execute_input": "2022-12-07T16:43:06.611713Z",
     "iopub.status.busy": "2022-12-07T16:43:06.611103Z",
     "iopub.status.idle": "2022-12-07T16:43:06.718470Z",
     "shell.execute_reply": "2022-12-07T16:43:06.717660Z"
    },
    "origin_pos": 35,
    "tab": [
     "pytorch"
    ],
    "ExecuteTime": {
     "end_time": "2023-06-28T00:54:20.610580600Z",
     "start_time": "2023-06-28T00:54:20.569972100Z"
    }
   },
   "outputs": [
    {
     "name": "stdout",
     "output_type": "stream",
     "text": [
      "epoch 1, loss 0.008072\n",
      "epoch 2, loss 0.000077\n",
      "epoch 3, loss 0.000053\n"
     ]
    }
   ],
   "source": [
    "for epoch in range(num_epochs):\n",
    "    for X, y in data_iter(batch_size, features, labels):\n",
    "        l = loss(net(X, w, b), y)  # X和y的小批量损失\n",
    "        # 因为l形状是(batch_size,1)，而不是一个标量。l中的所有元素被加到一起，\n",
    "        # 并以此计算关于[w,b]的梯度\n",
    "        l.sum().backward()\n",
    "        sgd([w, b], lr, batch_size)  # 使用参数的梯度更新参数\n",
    "    with torch.no_grad():\n",
    "        train_l = loss(net(features, w, b), labels)\n",
    "        print(f'epoch {epoch + 1}, loss {float(train_l.mean()):f}')"
   ]
  },
  {
   "cell_type": "markdown",
   "id": "c49ff328",
   "metadata": {
    "origin_pos": 38
   },
   "source": [
    "因为我们使用的是自己合成的数据集，所以我们知道真正的参数是什么。\n",
    "因此，我们可以通过[**比较真实参数和通过训练学到的参数来评估训练的成功程度**]。\n",
    "事实上，真实参数和通过训练学到的参数确实非常接近。\n"
   ]
  },
  {
   "cell_type": "code",
   "execution_count": 39,
   "id": "20cfe26e",
   "metadata": {
    "execution": {
     "iopub.execute_input": "2022-12-07T16:43:06.722173Z",
     "iopub.status.busy": "2022-12-07T16:43:06.721608Z",
     "iopub.status.idle": "2022-12-07T16:43:06.727216Z",
     "shell.execute_reply": "2022-12-07T16:43:06.726417Z"
    },
    "origin_pos": 39,
    "tab": [
     "pytorch"
    ],
    "ExecuteTime": {
     "end_time": "2023-06-28T00:54:25.673016100Z",
     "start_time": "2023-06-28T00:54:25.658189400Z"
    }
   },
   "outputs": [
    {
     "name": "stdout",
     "output_type": "stream",
     "text": [
      "w的估计误差: tensor([0.0008, 0.0001], grad_fn=<SubBackward0>)\n",
      "b的估计误差: tensor([0.0002], grad_fn=<RsubBackward1>)\n"
     ]
    }
   ],
   "source": [
    "print(f'w的估计误差: {true_w - w.reshape(true_w.shape)}')\n",
    "print(f'b的估计误差: {true_b - b}')"
   ]
  },
  {
   "cell_type": "markdown",
   "id": "256e4aea",
   "metadata": {
    "origin_pos": 40
   },
   "source": [
    "注意，我们不应该想当然地认为我们能够完美地求解参数。\n",
    "在机器学习中，我们通常不太关心恢复真正的参数，而更关心如何高度准确预测参数。\n",
    "幸运的是，即使是在复杂的优化问题上，随机梯度下降通常也能找到非常好的解。\n",
    "其中一个原因是，在深度网络中存在许多参数组合能够实现高度精确的预测。\n",
    "\n",
    "## 小结\n",
    "\n",
    "* 我们学习了深度网络是如何实现和优化的。在这一过程中只使用张量和自动微分，不需要定义层或复杂的优化器。\n",
    "* 这一节只触及到了表面知识。在下面的部分中，我们将基于刚刚介绍的概念描述其他模型，并学习如何更简洁地实现其他模型。\n",
    "\n",
    "## 练习\n",
    "\n",
    "1. 如果我们将权重初始化为零，会发生什么。算法仍然有效吗？\n",
    "    仍然有效\n",
    "2. 假设试图为电压和电流的关系建立一个模型。自动微分可以用来学习模型的参数吗?\n",
    "    依旧可以\n",
    "3. 能基于[普朗克定律](https://en.wikipedia.org/wiki/Planck%27s_law)使用光谱能量密度来确定物体的温度吗？\n",
    "    可以\n",
    "4. 计算二阶导数时可能会遇到什么问题？这些问题可以如何解决？\n",
    "    没有极小值，加一个参数， x1*x2\n",
    "5. 为什么在`squared_loss`函数中需要使用`reshape`函数？\n",
    "    防止形状不太一样\n",
    "6. 尝试使用不同的学习率，观察损失函数值下降的快慢。\n",
    "    显而易见\n",
    "7. 如果样本个数不能被批量大小整除，`data_iter`函数的行为会有什么变化？\n",
    "    出现一点数据偏差\n"
   ]
  },
  {
   "cell_type": "markdown",
   "id": "084dd552",
   "metadata": {
    "origin_pos": 42,
    "tab": [
     "pytorch"
    ]
   },
   "source": [
    "[Discussions](https://discuss.d2l.ai/t/1778)\n"
   ]
  }
 ],
 "metadata": {
  "kernelspec": {
   "display_name": "Python 3 (ipykernel)",
   "language": "python",
   "name": "python3"
  },
  "language_info": {
   "codemirror_mode": {
    "name": "ipython",
    "version": 3
   },
   "file_extension": ".py",
   "mimetype": "text/x-python",
   "name": "python",
   "nbconvert_exporter": "python",
   "pygments_lexer": "ipython3",
   "version": "3.9.16"
  }
 },
 "nbformat": 4,
 "nbformat_minor": 5
}
