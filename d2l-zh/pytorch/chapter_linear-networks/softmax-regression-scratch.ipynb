{
 "cells": [
  {
   "cell_type": "markdown",
   "id": "e7ed488d",
   "metadata": {
    "origin_pos": 0
   },
   "source": [
    "# softmax回归的从零开始实现\n",
    ":label:`sec_softmax_scratch`\n",
    "\n",
    "(**就像我们从零开始实现线性回归一样，**)\n",
    "我们认为softmax回归也是重要的基础，因此(**应该知道实现softmax回归的细节**)。\n",
    "本节我们将使用刚刚在 :numref:`sec_fashion_mnist`中引入的Fashion-MNIST数据集，\n",
    "并设置数据迭代器的批量大小为256。\n"
   ]
  },
  {
   "cell_type": "code",
   "execution_count": 2,
   "id": "6b0392cf",
   "metadata": {
    "execution": {
     "iopub.execute_input": "2022-12-07T16:43:18.925998Z",
     "iopub.status.busy": "2022-12-07T16:43:18.925374Z",
     "iopub.status.idle": "2022-12-07T16:43:21.200988Z",
     "shell.execute_reply": "2022-12-07T16:43:21.200154Z"
    },
    "origin_pos": 2,
    "tab": [
     "pytorch"
    ],
    "ExecuteTime": {
     "end_time": "2023-07-05T07:26:36.528317Z",
     "start_time": "2023-07-05T07:26:34.356426600Z"
    }
   },
   "outputs": [],
   "source": [
    "import torch\n",
    "from IPython import display\n",
    "from d2l import torch as d2l"
   ]
  },
  {
   "cell_type": "code",
   "execution_count": 40,
   "id": "448aac3c",
   "metadata": {
    "execution": {
     "iopub.execute_input": "2022-12-07T16:43:21.206039Z",
     "iopub.status.busy": "2022-12-07T16:43:21.205482Z",
     "iopub.status.idle": "2022-12-07T16:43:21.321101Z",
     "shell.execute_reply": "2022-12-07T16:43:21.320145Z"
    },
    "origin_pos": 5,
    "tab": [
     "pytorch"
    ],
    "ExecuteTime": {
     "end_time": "2023-07-05T08:12:37.409193Z",
     "start_time": "2023-07-05T08:12:36.107368900Z"
    }
   },
   "outputs": [
    {
     "name": "stdout",
     "output_type": "stream",
     "text": [
      "torch.Size([256, 1, 28, 28])\n",
      "tensor([9, 2, 1, 1, 6, 1, 4, 6, 5, 7, 4, 5, 7, 3, 4, 1, 2, 4, 8, 0, 2, 5, 7, 9,\n",
      "        1, 4, 6, 0, 9, 3, 8, 8, 3, 3, 8, 0, 7, 5, 7, 9, 6, 1, 3, 7, 6, 7, 2, 1,\n",
      "        2, 2, 4, 4, 5, 8, 2, 2, 8, 4, 8, 0, 7, 7, 8, 5, 1, 1, 2, 3, 9, 8, 7, 0,\n",
      "        2, 6, 2, 3, 1, 2, 8, 4, 1, 8, 5, 9, 5, 0, 3, 2, 0, 6, 5, 3, 6, 7, 1, 8,\n",
      "        0, 1, 4, 2, 3, 6, 7, 2, 7, 8, 5, 9, 9, 4, 2, 5, 7, 0, 5, 2, 8, 6, 7, 8,\n",
      "        0, 0, 9, 9, 3, 0, 8, 4, 1, 5, 4, 1, 9, 1, 8, 6, 2, 1, 2, 5, 1, 0, 0, 0,\n",
      "        1, 6, 1, 6, 2, 2, 4, 4, 1, 4, 5, 0, 4, 7, 9, 3, 7, 2, 3, 9, 0, 9, 4, 7,\n",
      "        4, 2, 0, 5, 2, 1, 2, 1, 3, 0, 9, 1, 0, 9, 3, 6, 7, 9, 9, 4, 4, 7, 1, 2,\n",
      "        1, 6, 3, 2, 8, 3, 6, 1, 1, 0, 2, 9, 2, 4, 0, 7, 9, 8, 4, 1, 8, 4, 1, 3,\n",
      "        1, 6, 7, 2, 8, 5, 2, 0, 7, 7, 6, 2, 7, 0, 7, 8, 9, 2, 9, 0, 5, 1, 4, 4,\n",
      "        5, 6, 9, 2, 6, 8, 6, 4, 2, 2, 9, 7, 6, 5, 5, 2])\n"
     ]
    }
   ],
   "source": [
    "batch_size = 256\n",
    "train_iter, test_iter = d2l.load_data_fashion_mnist(batch_size)\n",
    "for i, j in test_iter:\n",
    "    print(i.shape)\n",
    "    print(j)\n",
    "    break"
   ]
  },
  {
   "cell_type": "markdown",
   "id": "75502db7",
   "metadata": {
    "origin_pos": 6
   },
   "source": [
    "## 初始化模型参数\n",
    "\n",
    "和之前线性回归的例子一样，这里的每个样本都将用固定长度的向量表示。\n",
    "原始数据集中的每个样本都是$28 \\times 28$的图像。\n",
    "本节[**将展平每个图像，把它们看作长度为784的向量。**]\n",
    "在后面的章节中，我们将讨论能够利用图像空间结构的特征，\n",
    "但现在我们暂时只把每个像素位置看作一个特征。\n",
    "\n",
    "回想一下，在softmax回归中，我们的输出与类别一样多。\n",
    "(**因为我们的数据集有10个类别，所以网络输出维度为10**)。\n",
    "因此，权重将构成一个$784 \\times 10$的矩阵，\n",
    "偏置将构成一个$1 \\times 10$的行向量。\n",
    "与线性回归一样，我们将使用正态分布初始化我们的权重`W`，偏置初始化为0。\n"
   ]
  },
  {
   "cell_type": "code",
   "execution_count": 4,
   "id": "fad887b5",
   "metadata": {
    "execution": {
     "iopub.execute_input": "2022-12-07T16:43:21.325594Z",
     "iopub.status.busy": "2022-12-07T16:43:21.325027Z",
     "iopub.status.idle": "2022-12-07T16:43:21.330080Z",
     "shell.execute_reply": "2022-12-07T16:43:21.329329Z"
    },
    "origin_pos": 8,
    "tab": [
     "pytorch"
    ],
    "ExecuteTime": {
     "end_time": "2023-07-05T07:26:36.636302800Z",
     "start_time": "2023-07-05T07:26:36.622549700Z"
    }
   },
   "outputs": [],
   "source": [
    "num_inputs = 784\n",
    "num_outputs = 10\n",
    "\n",
    "W = torch.normal(0, 0.01, size=(num_inputs, num_outputs), requires_grad=True)\n",
    "b = torch.zeros(num_outputs, requires_grad=True)"
   ]
  },
  {
   "cell_type": "markdown",
   "id": "4635369c",
   "metadata": {
    "origin_pos": 11
   },
   "source": [
    "## 定义softmax操作\n",
    "\n",
    "在实现softmax回归模型之前，我们简要回顾一下`sum`运算符如何沿着张量中的特定维度工作。\n",
    "如 :{numref}:`subseq_lin-alg-reduction`和\n",
    " :{numref}:`subseq_lin-alg-non-reduction`所述，\n",
    " [**给定一个矩阵`X`，我们可以对所有元素求和**]（默认情况下）。\n",
    " 也可以只求同一个轴上的元素，即同一列（轴0）或同一行（轴1）。\n",
    " 如果`X`是一个形状为`(2, 3)`的张量，我们对列进行求和，\n",
    " 则结果将是一个具有形状`(3,)`的向量。\n",
    " 当调用`sum`运算符时，我们可以指定保持在原始张量的轴数，而不折叠求和的维度。\n",
    " 这将产生一个具有形状`(1, 3)`的二维张量。\n"
   ]
  },
  {
   "cell_type": "code",
   "execution_count": 5,
   "id": "ce4f3adf",
   "metadata": {
    "execution": {
     "iopub.execute_input": "2022-12-07T16:43:21.333613Z",
     "iopub.status.busy": "2022-12-07T16:43:21.333123Z",
     "iopub.status.idle": "2022-12-07T16:43:21.342487Z",
     "shell.execute_reply": "2022-12-07T16:43:21.341643Z"
    },
    "origin_pos": 12,
    "tab": [
     "pytorch"
    ],
    "ExecuteTime": {
     "end_time": "2023-07-05T07:26:36.667882100Z",
     "start_time": "2023-07-05T07:26:36.637300Z"
    }
   },
   "outputs": [
    {
     "data": {
      "text/plain": "(tensor([[5., 7., 9.]]),\n tensor([[ 6.],\n         [15.]]))"
     },
     "execution_count": 5,
     "metadata": {},
     "output_type": "execute_result"
    }
   ],
   "source": [
    "X = torch.tensor([[1.0, 2.0, 3.0], [4.0, 5.0, 6.0]])\n",
    "X.sum(0, keepdim=True), X.sum(1, keepdim=True)"
   ]
  },
  {
   "cell_type": "markdown",
   "id": "19a05ec1",
   "metadata": {
    "origin_pos": 14
   },
   "source": [
    "回想一下，[**实现softmax**]由三个步骤组成：\n",
    "\n",
    "1. 对每个项求幂（使用`exp`）；\n",
    "1. 对每一行求和（小批量中每个样本是一行），得到每个样本的规范化常数；\n",
    "1. 将每一行除以其规范化常数，确保结果的和为1。\n",
    "\n",
    "在查看代码之前，我们回顾一下这个表达式：\n",
    "\n",
    "(**\n",
    "$$\n",
    "\\mathrm{softmax}(\\mathbf{X})_{ij} = \\frac{\\exp(\\mathbf{X}_{ij})}{\\sum_k \\exp(\\mathbf{X}_{ik})}.\n",
    "$$\n",
    "**)\n",
    "\n",
    "分母或规范化常数，有时也称为*配分函数*（其对数称为对数-配分函数）。\n",
    "该名称来自[统计物理学](https://en.wikipedia.org/wiki/Partition_function_(statistical_mechanics))中一个模拟粒子群分布的方程。\n"
   ]
  },
  {
   "cell_type": "code",
   "execution_count": 6,
   "id": "cd2958d6",
   "metadata": {
    "execution": {
     "iopub.execute_input": "2022-12-07T16:43:21.346375Z",
     "iopub.status.busy": "2022-12-07T16:43:21.345841Z",
     "iopub.status.idle": "2022-12-07T16:43:21.350263Z",
     "shell.execute_reply": "2022-12-07T16:43:21.349516Z"
    },
    "origin_pos": 16,
    "tab": [
     "pytorch"
    ],
    "ExecuteTime": {
     "end_time": "2023-07-05T07:26:36.683685800Z",
     "start_time": "2023-07-05T07:26:36.670442700Z"
    }
   },
   "outputs": [],
   "source": [
    "def softmax(X):\n",
    "    X_exp = torch.exp(X)\n",
    "    partition = X_exp.sum(1, keepdim=True)\n",
    "    return X_exp / partition  # 这里应用了广播机制"
   ]
  },
  {
   "cell_type": "markdown",
   "id": "04d33da8",
   "metadata": {
    "origin_pos": 17
   },
   "source": [
    "正如上述代码，对于任何随机输入，[**我们将每个元素变成一个非负数。\n",
    "此外，依据概率原理，每行总和为1**]。\n"
   ]
  },
  {
   "cell_type": "code",
   "execution_count": 7,
   "id": "b8e2a105",
   "metadata": {
    "execution": {
     "iopub.execute_input": "2022-12-07T16:43:21.353588Z",
     "iopub.status.busy": "2022-12-07T16:43:21.353136Z",
     "iopub.status.idle": "2022-12-07T16:43:21.359817Z",
     "shell.execute_reply": "2022-12-07T16:43:21.359087Z"
    },
    "origin_pos": 18,
    "tab": [
     "pytorch"
    ],
    "ExecuteTime": {
     "end_time": "2023-07-05T07:26:40.217417800Z",
     "start_time": "2023-07-05T07:26:40.165340Z"
    }
   },
   "outputs": [
    {
     "data": {
      "text/plain": "(tensor([[ 0.4174, -0.5175, -0.2332, -2.7984,  0.1062],\n         [-0.0587, -0.3927, -0.6926, -0.4162,  1.7695]]),\n tensor([[0.3722, 0.1461, 0.1942, 0.0149, 0.2726],\n         [0.1091, 0.0781, 0.0579, 0.0763, 0.6787]]),\n tensor([1.0000, 1.0000]))"
     },
     "execution_count": 7,
     "metadata": {},
     "output_type": "execute_result"
    }
   ],
   "source": [
    "X = torch.normal(0, 1, (2, 5))\n",
    "X_prob = softmax(X)\n",
    "X, X_prob, X_prob.sum(1)"
   ]
  },
  {
   "cell_type": "markdown",
   "id": "509a1ac2",
   "metadata": {
    "origin_pos": 20
   },
   "source": [
    "注意，虽然这在数学上看起来是正确的，但我们在代码实现中有点草率。\n",
    "矩阵中的非常大或非常小的元素可能造成数值上溢或下溢，但我们没有采取措施来防止这点。\n",
    "\n",
    "## 定义模型\n",
    "\n",
    "定义softmax操作后，我们可以[**实现softmax回归模型**]。\n",
    "下面的代码定义了输入如何通过网络映射到输出。\n",
    "注意，将数据传递到模型之前，我们使用`reshape`函数将每张原始图像展平为向量。\n"
   ]
  },
  {
   "cell_type": "code",
   "execution_count": 52,
   "id": "b67c4bd7",
   "metadata": {
    "execution": {
     "iopub.execute_input": "2022-12-07T16:43:21.363643Z",
     "iopub.status.busy": "2022-12-07T16:43:21.363104Z",
     "iopub.status.idle": "2022-12-07T16:43:21.367118Z",
     "shell.execute_reply": "2022-12-07T16:43:21.366320Z"
    },
    "origin_pos": 21,
    "tab": [
     "pytorch"
    ],
    "ExecuteTime": {
     "end_time": "2023-07-05T08:27:32.875816600Z",
     "start_time": "2023-07-05T08:27:32.856900300Z"
    }
   },
   "outputs": [],
   "source": [
    "def net(X):\n",
    "    \"\"\"把256*1*28*28转换成256*768\"\"\"\n",
    "    return softmax(torch.matmul(X.reshape((-1, W.shape[0])), W) + b)"
   ]
  },
  {
   "cell_type": "markdown",
   "id": "22a65de8",
   "metadata": {
    "origin_pos": 22
   },
   "source": [
    "## 定义损失函数\n",
    "\n",
    "接下来，我们实现 :numref:`sec_softmax`中引入的交叉熵损失函数。\n",
    "这可能是深度学习中最常见的损失函数，因为目前分类问题的数量远远超过回归问题的数量。\n",
    "\n",
    "回顾一下，交叉熵采用真实标签的预测概率的负对数似然。\n",
    "这里我们不使用Python的for循环迭代预测（这往往是低效的），\n",
    "而是通过一个运算符选择所有元素。\n",
    "下面，我们[**创建一个数据样本`y_hat`，其中包含2个样本在3个类别的预测概率，\n",
    "以及它们对应的标签`y`。**]\n",
    "有了`y`，我们知道在第一个样本中，第一类是正确的预测；\n",
    "而在第二个样本中，第三类是正确的预测。\n",
    "然后(**使用`y`作为`y_hat`中概率的索引**)，\n",
    "我们选择第一个样本中第一个类的概率和第二个样本中第三个类的概率。\n"
   ]
  },
  {
   "cell_type": "code",
   "execution_count": 13,
   "id": "8c5f8f11",
   "metadata": {
    "execution": {
     "iopub.execute_input": "2022-12-07T16:43:21.371150Z",
     "iopub.status.busy": "2022-12-07T16:43:21.370512Z",
     "iopub.status.idle": "2022-12-07T16:43:21.377105Z",
     "shell.execute_reply": "2022-12-07T16:43:21.376382Z"
    },
    "origin_pos": 23,
    "tab": [
     "pytorch"
    ],
    "ExecuteTime": {
     "end_time": "2023-07-05T07:52:54.676016200Z",
     "start_time": "2023-07-05T07:52:54.647022Z"
    }
   },
   "outputs": [
    {
     "data": {
      "text/plain": "tensor([0.1000, 0.5000])"
     },
     "execution_count": 13,
     "metadata": {},
     "output_type": "execute_result"
    }
   ],
   "source": [
    "y = torch.tensor([0, 2])\n",
    "y_hat = torch.tensor([[0.1, 0.3, 0.6], [0.3, 0.2, 0.5]])\n",
    "y_hat[[0, 1], y]\n"
   ]
  },
  {
   "cell_type": "markdown",
   "id": "24d50f90",
   "metadata": {
    "origin_pos": 25
   },
   "source": [
    "现在我们只需一行代码就可以[**实现交叉熵损失函数**]。\n"
   ]
  },
  {
   "cell_type": "code",
   "execution_count": 14,
   "id": "8d5dc397",
   "metadata": {
    "execution": {
     "iopub.execute_input": "2022-12-07T16:43:21.380583Z",
     "iopub.status.busy": "2022-12-07T16:43:21.379864Z",
     "iopub.status.idle": "2022-12-07T16:43:21.386145Z",
     "shell.execute_reply": "2022-12-07T16:43:21.385315Z"
    },
    "origin_pos": 26,
    "tab": [
     "pytorch"
    ],
    "ExecuteTime": {
     "end_time": "2023-07-05T07:52:56.885013300Z",
     "start_time": "2023-07-05T07:52:56.854482Z"
    }
   },
   "outputs": [
    {
     "data": {
      "text/plain": "tensor([2.3026, 0.6931])"
     },
     "execution_count": 14,
     "metadata": {},
     "output_type": "execute_result"
    }
   ],
   "source": [
    "def cross_entropy(y_hat, y):\n",
    "    return - torch.log(y_hat[range(len(y_hat)), y])\n",
    "\n",
    "cross_entropy(y_hat, y)"
   ]
  },
  {
   "cell_type": "markdown",
   "id": "e2b50c7a",
   "metadata": {
    "origin_pos": 29
   },
   "source": [
    "## 分类精度\n",
    "\n",
    "给定预测概率分布`y_hat`，当我们必须输出硬预测（hard prediction）时，\n",
    "我们通常选择预测概率最高的类。\n",
    "许多应用都要求我们做出选择。如Gmail必须将电子邮件分类为“Primary（主要邮件）”、\n",
    "“Social（社交邮件）”“Updates（更新邮件）”或“Forums（论坛邮件）”。\n",
    "Gmail做分类时可能在内部估计概率，但最终它必须在类中选择一个。\n",
    "\n",
    "当预测与标签分类`y`一致时，即是正确的。\n",
    "分类精度即正确预测数量与总预测数量之比。\n",
    "虽然直接优化精度可能很困难（因为精度的计算不可导），\n",
    "但精度通常是我们最关心的性能衡量标准，我们在训练分类器时几乎总会关注它。\n",
    "\n",
    "为了计算精度，我们执行以下操作。\n",
    "首先，如果`y_hat`是矩阵，那么假定第二个维度存储每个类的预测分数。\n",
    "我们使用`argmax`获得每行中最大元素的索引来获得预测类别。\n",
    "然后我们[**将预测类别与真实`y`元素进行比较**]。\n",
    "由于等式运算符“`==`”对数据类型很敏感，\n",
    "因此我们将`y_hat`的数据类型转换为与`y`的数据类型一致。\n",
    "结果是一个包含0（错）和1（对）的张量。\n",
    "最后，我们求和会得到正确预测的数量。\n"
   ]
  },
  {
   "cell_type": "code",
   "execution_count": 54,
   "id": "19d5bd4d",
   "metadata": {
    "execution": {
     "iopub.execute_input": "2022-12-07T16:43:21.389645Z",
     "iopub.status.busy": "2022-12-07T16:43:21.389135Z",
     "iopub.status.idle": "2022-12-07T16:43:21.394333Z",
     "shell.execute_reply": "2022-12-07T16:43:21.393568Z"
    },
    "origin_pos": 30,
    "tab": [
     "pytorch"
    ],
    "ExecuteTime": {
     "end_time": "2023-07-05T08:30:42.317309700Z",
     "start_time": "2023-07-05T08:30:42.295511800Z"
    }
   },
   "outputs": [],
   "source": [
    "def accuracy(y_hat, y):  #@save\n",
    "    \"\"\"计算预测正确的数量\"\"\"\n",
    "    if len(y_hat.shape) > 1 and y_hat.shape[1] > 1:\n",
    "        y_hat = y_hat.argmax(axis=1)\n",
    "    cmp = y_hat.type(y.dtype) == y\n",
    "    return float(cmp.type(y.dtype).sum())"
   ]
  },
  {
   "cell_type": "markdown",
   "id": "f93cb391",
   "metadata": {
    "origin_pos": 32
   },
   "source": [
    "我们将继续使用之前定义的变量`y_hat`和`y`分别作为预测的概率分布和标签。\n",
    "可以看到，第一个样本的预测类别是2（该行的最大元素为0.6，索引为2），这与实际标签0不一致。\n",
    "第二个样本的预测类别是2（该行的最大元素为0.5，索引为2），这与实际标签2一致。\n",
    "因此，这两个样本的分类精度率为0.5。\n"
   ]
  },
  {
   "cell_type": "code",
   "execution_count": 49,
   "id": "27ab3a8a",
   "metadata": {
    "execution": {
     "iopub.execute_input": "2022-12-07T16:43:21.397815Z",
     "iopub.status.busy": "2022-12-07T16:43:21.397218Z",
     "iopub.status.idle": "2022-12-07T16:43:21.402812Z",
     "shell.execute_reply": "2022-12-07T16:43:21.402078Z"
    },
    "origin_pos": 33,
    "tab": [
     "pytorch"
    ],
    "ExecuteTime": {
     "end_time": "2023-07-05T08:25:36.435985Z",
     "start_time": "2023-07-05T08:25:36.402534700Z"
    }
   },
   "outputs": [
    {
     "name": "stdout",
     "output_type": "stream",
     "text": [
      "tensor([False,  True])\n"
     ]
    },
    {
     "data": {
      "text/plain": "(tensor([0, 2]),\n tensor([[0.1000, 0.3000, 0.6000],\n         [0.3000, 0.2000, 0.5000]]),\n tensor([2, 2]),\n 0.5)"
     },
     "execution_count": 49,
     "metadata": {},
     "output_type": "execute_result"
    }
   ],
   "source": [
    "acc = accuracy(y_hat, y) / len(y)\n",
    "y, y_hat, y_hat.argmax(axis=1), acc"
   ]
  },
  {
   "cell_type": "markdown",
   "id": "5dea62ae",
   "metadata": {
    "origin_pos": 34
   },
   "source": [
    "同样，对于任意数据迭代器`data_iter`可访问的数据集，\n",
    "[**我们可以评估在任意模型`net`的精度**]。\n"
   ]
  },
  {
   "cell_type": "code",
   "execution_count": 50,
   "id": "84314319",
   "metadata": {
    "execution": {
     "iopub.execute_input": "2022-12-07T16:43:21.406852Z",
     "iopub.status.busy": "2022-12-07T16:43:21.406320Z",
     "iopub.status.idle": "2022-12-07T16:43:21.411450Z",
     "shell.execute_reply": "2022-12-07T16:43:21.410562Z"
    },
    "origin_pos": 36,
    "tab": [
     "pytorch"
    ],
    "ExecuteTime": {
     "end_time": "2023-07-05T08:25:38.239916600Z",
     "start_time": "2023-07-05T08:25:38.226694100Z"
    }
   },
   "outputs": [],
   "source": [
    "def evaluate_accuracy(net, data_iter):  #@save\n",
    "    \"\"\"data_iter 256*1*28*28\"\"\"\n",
    "    \"\"\"计算在指定数据集上模型的精度\"\"\"\n",
    "    if isinstance(net, torch.nn.Module):\n",
    "        net.eval()  # 将模型设置为评估模式\n",
    "    metric = Accumulator(2)  # 正确预测数、预测总数\n",
    "    with torch.no_grad():\n",
    "        for X, y in data_iter:\n",
    "            metric.add(accuracy(net(X), y), y.numel())\n",
    "    return metric[0] / metric[1]"
   ]
  },
  {
   "cell_type": "markdown",
   "id": "ed858ec8",
   "metadata": {
    "origin_pos": 38
   },
   "source": [
    "这里定义一个实用程序类`Accumulator`，用于对多个变量进行累加。\n",
    "在上面的`evaluate_accuracy`函数中，\n",
    "我们在(**`Accumulator`实例中创建了2个变量，\n",
    "分别用于存储正确预测的数量和预测的总数量**)。\n",
    "当我们遍历数据集时，两者都将随着时间的推移而累加。\n"
   ]
  },
  {
   "cell_type": "code",
   "execution_count": 23,
   "id": "1e251574",
   "metadata": {
    "execution": {
     "iopub.execute_input": "2022-12-07T16:43:21.414953Z",
     "iopub.status.busy": "2022-12-07T16:43:21.414434Z",
     "iopub.status.idle": "2022-12-07T16:43:21.420039Z",
     "shell.execute_reply": "2022-12-07T16:43:21.419120Z"
    },
    "origin_pos": 39,
    "tab": [
     "pytorch"
    ],
    "ExecuteTime": {
     "end_time": "2023-07-05T08:00:37.829444700Z",
     "start_time": "2023-07-05T08:00:37.819473Z"
    }
   },
   "outputs": [],
   "source": [
    "class Accumulator:  #@save\n",
    "    \"\"\"在n个变量上累加\"\"\"\n",
    "    def __init__(self, n):\n",
    "        self.data = [0.0] * n\n",
    "        \"[0.0 , 0.0]\"\n",
    "\n",
    "    def add(self, *args):\n",
    "        self.data = [a + float(b) for a, b in zip(self.data, args)]\n",
    "\n",
    "    def reset(self):\n",
    "        self.data = [0.0] * len(self.data)\n",
    "\n",
    "    def __getitem__(self, idx):\n",
    "        return self.data[idx]"
   ]
  },
  {
   "cell_type": "markdown",
   "id": "73b0fda7",
   "metadata": {
    "origin_pos": 40
   },
   "source": [
    "由于我们使用随机权重初始化`net`模型，\n",
    "因此该模型的精度应接近于随机猜测。\n",
    "例如在有10个类别情况下的精度为0.1。\n"
   ]
  },
  {
   "cell_type": "code",
   "execution_count": 55,
   "id": "52982c90",
   "metadata": {
    "execution": {
     "iopub.execute_input": "2022-12-07T16:43:21.423645Z",
     "iopub.status.busy": "2022-12-07T16:43:21.422858Z",
     "iopub.status.idle": "2022-12-07T16:43:22.065897Z",
     "shell.execute_reply": "2022-12-07T16:43:22.065005Z"
    },
    "origin_pos": 41,
    "tab": [
     "pytorch"
    ],
    "ExecuteTime": {
     "end_time": "2023-07-05T08:30:46.752162600Z",
     "start_time": "2023-07-05T08:30:45.340468500Z"
    }
   },
   "outputs": [
    {
     "data": {
      "text/plain": "0.102"
     },
     "execution_count": 55,
     "metadata": {},
     "output_type": "execute_result"
    }
   ],
   "source": [
    "evaluate_accuracy(net, test_iter)"
   ]
  },
  {
   "cell_type": "markdown",
   "id": "53b2621b",
   "metadata": {
    "origin_pos": 42
   },
   "source": [
    "## 训练\n",
    "\n",
    "在我们看过 :numref:`sec_linear_scratch`中的线性回归实现，\n",
    "[**softmax回归的训练**]过程代码应该看起来非常眼熟。\n",
    "在这里，我们重构训练过程的实现以使其可重复使用。\n",
    "首先，我们定义一个函数来训练一个迭代周期。\n",
    "请注意，`updater`是更新模型参数的常用函数，它接受批量大小作为参数。\n",
    "它可以是`d2l.sgd`函数，也可以是框架的内置优化函数。\n"
   ]
  },
  {
   "cell_type": "code",
   "execution_count": 56,
   "id": "37cfaf40",
   "metadata": {
    "execution": {
     "iopub.execute_input": "2022-12-07T16:43:22.069697Z",
     "iopub.status.busy": "2022-12-07T16:43:22.069202Z",
     "iopub.status.idle": "2022-12-07T16:43:22.077239Z",
     "shell.execute_reply": "2022-12-07T16:43:22.076387Z"
    },
    "origin_pos": 44,
    "tab": [
     "pytorch"
    ],
    "ExecuteTime": {
     "end_time": "2023-07-05T08:40:17.354852900Z",
     "start_time": "2023-07-05T08:40:17.335375Z"
    }
   },
   "outputs": [],
   "source": [
    "def train_epoch_ch3(net, train_iter, loss, updater):  #@save\n",
    "    \"\"\"训练模型一个迭代周期（定义见第3章）\"\"\"\n",
    "    # 将模型设置为训练模式\n",
    "    if isinstance(net, torch.nn.Module):\n",
    "        net.train()\n",
    "    # 训练损失总和、训练准确度总和、样本数\n",
    "    metric = Accumulator(3)\n",
    "    for X, y in train_iter:\n",
    "        # 计算梯度并更新参数\n",
    "        y_hat = net(X)\n",
    "        l = loss(y_hat, y)\n",
    "        if isinstance(updater, torch.optim.Optimizer):\n",
    "            # 使用PyTorch内置的优化器和损失函数\n",
    "            updater.zero_grad()\n",
    "            l.mean().backward()\n",
    "            updater.step()\n",
    "        else:\n",
    "            # 使用定制的优化器和损失函数\n",
    "            l.sum().backward()\n",
    "            updater(X.shape[0])\n",
    "        metric.add(float(l.sum()), accuracy(y_hat, y), y.numel())\n",
    "    # 返回训练损失和训练精度\n",
    "    return metric[0] / metric[2], metric[1] / metric[2]"
   ]
  },
  {
   "cell_type": "markdown",
   "id": "21830060",
   "metadata": {
    "origin_pos": 47
   },
   "source": [
    "在展示训练函数的实现之前，我们[**定义一个在动画中绘制数据的实用程序类**]`Animator`，\n",
    "它能够简化本书其余部分的代码。\n"
   ]
  },
  {
   "cell_type": "code",
   "execution_count": 57,
   "id": "4e8d4cc4",
   "metadata": {
    "execution": {
     "iopub.execute_input": "2022-12-07T16:43:22.080888Z",
     "iopub.status.busy": "2022-12-07T16:43:22.080459Z",
     "iopub.status.idle": "2022-12-07T16:43:22.092965Z",
     "shell.execute_reply": "2022-12-07T16:43:22.092075Z"
    },
    "origin_pos": 48,
    "tab": [
     "pytorch"
    ],
    "ExecuteTime": {
     "end_time": "2023-07-05T08:40:25.625329600Z",
     "start_time": "2023-07-05T08:40:25.595265100Z"
    }
   },
   "outputs": [],
   "source": [
    "class Animator:  #@save\n",
    "    \"\"\"在动画中绘制数据\"\"\"\n",
    "    def __init__(self, xlabel=None, ylabel=None, legend=None, xlim=None,\n",
    "                 ylim=None, xscale='linear', yscale='linear',\n",
    "                 fmts=('-', 'm--', 'g-.', 'r:'), nrows=1, ncols=1,\n",
    "                 figsize=(3.5, 2.5)):\n",
    "        # 增量地绘制多条线\n",
    "        if legend is None:\n",
    "            legend = []\n",
    "        d2l.use_svg_display()\n",
    "        self.fig, self.axes = d2l.plt.subplots(nrows, ncols, figsize=figsize)\n",
    "        if nrows * ncols == 1:\n",
    "            self.axes = [self.axes, ]\n",
    "        # 使用lambda函数捕获参数\n",
    "        self.config_axes = lambda: d2l.set_axes(\n",
    "            self.axes[0], xlabel, ylabel, xlim, ylim, xscale, yscale, legend)\n",
    "        self.X, self.Y, self.fmts = None, None, fmts\n",
    "\n",
    "    def add(self, x, y):\n",
    "        # 向图表中添加多个数据点\n",
    "        if not hasattr(y, \"__len__\"):\n",
    "            y = [y]\n",
    "        n = len(y)\n",
    "        if not hasattr(x, \"__len__\"):\n",
    "            x = [x] * n\n",
    "        if not self.X:\n",
    "            self.X = [[] for _ in range(n)]\n",
    "        if not self.Y:\n",
    "            self.Y = [[] for _ in range(n)]\n",
    "        for i, (a, b) in enumerate(zip(x, y)):\n",
    "            if a is not None and b is not None:\n",
    "                self.X[i].append(a)\n",
    "                self.Y[i].append(b)\n",
    "        self.axes[0].cla()\n",
    "        for x, y, fmt in zip(self.X, self.Y, self.fmts):\n",
    "            self.axes[0].plot(x, y, fmt)\n",
    "        self.config_axes()\n",
    "        display.display(self.fig)\n",
    "        display.clear_output(wait=True)"
   ]
  },
  {
   "cell_type": "markdown",
   "id": "57678182",
   "metadata": {
    "origin_pos": 49
   },
   "source": [
    "接下来我们实现一个[**训练函数**]，\n",
    "它会在`train_iter`访问到的训练数据集上训练一个模型`net`。\n",
    "该训练函数将会运行多个迭代周期（由`num_epochs`指定）。\n",
    "在每个迭代周期结束时，利用`test_iter`访问到的测试数据集对模型进行评估。\n",
    "我们将利用`Animator`类来可视化训练进度。\n"
   ]
  },
  {
   "cell_type": "code",
   "execution_count": 58,
   "id": "894681f3",
   "metadata": {
    "execution": {
     "iopub.execute_input": "2022-12-07T16:43:22.096983Z",
     "iopub.status.busy": "2022-12-07T16:43:22.096518Z",
     "iopub.status.idle": "2022-12-07T16:43:22.104307Z",
     "shell.execute_reply": "2022-12-07T16:43:22.103230Z"
    },
    "origin_pos": 50,
    "tab": [
     "pytorch"
    ],
    "ExecuteTime": {
     "end_time": "2023-07-05T08:40:55.137699900Z",
     "start_time": "2023-07-05T08:40:55.127494500Z"
    }
   },
   "outputs": [],
   "source": [
    "def train_ch3(net, train_iter, test_iter, loss, num_epochs, updater):  #@save\n",
    "    \"\"\"训练模型（定义见第3章）\"\"\"\n",
    "    animator = Animator(xlabel='epoch', xlim=[1, num_epochs], ylim=[0.3, 0.9],\n",
    "                        legend=['train loss', 'train acc', 'test acc'])\n",
    "    for epoch in range(num_epochs):\n",
    "        train_metrics = train_epoch_ch3(net, train_iter, loss, updater)\n",
    "        test_acc = evaluate_accuracy(net, test_iter)\n",
    "        animator.add(epoch + 1, train_metrics + (test_acc,))\n",
    "    train_loss, train_acc = train_metrics\n",
    "    assert train_loss < 0.5, train_loss\n",
    "    assert train_acc <= 1 and train_acc > 0.7, train_acc\n",
    "    assert test_acc <= 1 and test_acc > 0.7, test_acc"
   ]
  },
  {
   "cell_type": "markdown",
   "id": "982b8281",
   "metadata": {
    "origin_pos": 51
   },
   "source": [
    "作为一个从零开始的实现，我们使用 :numref:`sec_linear_scratch`中定义的\n",
    "[**小批量随机梯度下降来优化模型的损失函数**]，设置学习率为0.1。\n"
   ]
  },
  {
   "cell_type": "code",
   "execution_count": 59,
   "id": "685e09d3",
   "metadata": {
    "execution": {
     "iopub.execute_input": "2022-12-07T16:43:22.108125Z",
     "iopub.status.busy": "2022-12-07T16:43:22.107566Z",
     "iopub.status.idle": "2022-12-07T16:43:22.112212Z",
     "shell.execute_reply": "2022-12-07T16:43:22.111468Z"
    },
    "origin_pos": 52,
    "tab": [
     "pytorch"
    ],
    "ExecuteTime": {
     "end_time": "2023-07-05T08:42:58.779039100Z",
     "start_time": "2023-07-05T08:42:58.769073600Z"
    }
   },
   "outputs": [],
   "source": [
    "lr = 0.1\n",
    "\n",
    "def updater(batch_size):\n",
    "    return d2l.sgd([W, b], lr, batch_size)"
   ]
  },
  {
   "cell_type": "markdown",
   "id": "9e1fe890",
   "metadata": {
    "origin_pos": 54
   },
   "source": [
    "现在，我们[**训练模型10个迭代周期**]。\n",
    "请注意，迭代周期（`num_epochs`）和学习率（`lr`）都是可调节的超参数。\n",
    "通过更改它们的值，我们可以提高模型的分类精度。\n"
   ]
  },
  {
   "cell_type": "code",
   "execution_count": 60,
   "id": "a509fc9c",
   "metadata": {
    "execution": {
     "iopub.execute_input": "2022-12-07T16:43:22.116538Z",
     "iopub.status.busy": "2022-12-07T16:43:22.116051Z",
     "iopub.status.idle": "2022-12-07T16:43:54.213076Z",
     "shell.execute_reply": "2022-12-07T16:43:54.212153Z"
    },
    "origin_pos": 55,
    "tab": [
     "pytorch"
    ]
   },
   "outputs": [
    {
     "data": {
      "text/plain": "<Figure size 350x250 with 1 Axes>",
      "image/svg+xml": "<?xml version=\"1.0\" encoding=\"utf-8\" standalone=\"no\"?>\n<!DOCTYPE svg PUBLIC \"-//W3C//DTD SVG 1.1//EN\"\n  \"http://www.w3.org/Graphics/SVG/1.1/DTD/svg11.dtd\">\n<svg xmlns:xlink=\"http://www.w3.org/1999/xlink\" width=\"238.965625pt\" height=\"183.35625pt\" viewBox=\"0 0 238.965625 183.35625\" xmlns=\"http://www.w3.org/2000/svg\" version=\"1.1\">\n <metadata>\n  <rdf:RDF xmlns:dc=\"http://purl.org/dc/elements/1.1/\" xmlns:cc=\"http://creativecommons.org/ns#\" xmlns:rdf=\"http://www.w3.org/1999/02/22-rdf-syntax-ns#\">\n   <cc:Work>\n    <dc:type rdf:resource=\"http://purl.org/dc/dcmitype/StillImage\"/>\n    <dc:date>2023-07-05T16:44:47.628885</dc:date>\n    <dc:format>image/svg+xml</dc:format>\n    <dc:creator>\n     <cc:Agent>\n      <dc:title>Matplotlib v3.5.1, https://matplotlib.org/</dc:title>\n     </cc:Agent>\n    </dc:creator>\n   </cc:Work>\n  </rdf:RDF>\n </metadata>\n <defs>\n  <style type=\"text/css\">*{stroke-linejoin: round; stroke-linecap: butt}</style>\n </defs>\n <g id=\"figure_1\">\n  <g id=\"patch_1\">\n   <path d=\"M 0 183.35625 \nL 238.965625 183.35625 \nL 238.965625 0 \nL 0 0 \nz\n\" style=\"fill: #ffffff\"/>\n  </g>\n  <g id=\"axes_1\">\n   <g id=\"patch_2\">\n    <path d=\"M 30.103125 145.8 \nL 225.403125 145.8 \nL 225.403125 7.2 \nL 30.103125 7.2 \nz\n\" style=\"fill: #ffffff\"/>\n   </g>\n   <g id=\"matplotlib.axis_1\">\n    <g id=\"xtick_1\">\n     <g id=\"line2d_1\">\n      <path d=\"M 51.803125 145.8 \nL 51.803125 7.2 \n\" clip-path=\"url(#pd2d8a83a3b)\" style=\"fill: none; stroke: #b0b0b0; stroke-width: 0.8; stroke-linecap: square\"/>\n     </g>\n     <g id=\"line2d_2\">\n      <defs>\n       <path id=\"m59741fe99b\" d=\"M 0 0 \nL 0 3.5 \n\" style=\"stroke: #000000; stroke-width: 0.8\"/>\n      </defs>\n      <g>\n       <use xlink:href=\"#m59741fe99b\" x=\"51.803125\" y=\"145.8\" style=\"stroke: #000000; stroke-width: 0.8\"/>\n      </g>\n     </g>\n     <g id=\"text_1\">\n      <!-- 2 -->\n      <g transform=\"translate(48.621875 160.398438)scale(0.1 -0.1)\">\n       <defs>\n        <path id=\"DejaVuSans-32\" d=\"M 1228 531 \nL 3431 531 \nL 3431 0 \nL 469 0 \nL 469 531 \nQ 828 903 1448 1529 \nQ 2069 2156 2228 2338 \nQ 2531 2678 2651 2914 \nQ 2772 3150 2772 3378 \nQ 2772 3750 2511 3984 \nQ 2250 4219 1831 4219 \nQ 1534 4219 1204 4116 \nQ 875 4013 500 3803 \nL 500 4441 \nQ 881 4594 1212 4672 \nQ 1544 4750 1819 4750 \nQ 2544 4750 2975 4387 \nQ 3406 4025 3406 3419 \nQ 3406 3131 3298 2873 \nQ 3191 2616 2906 2266 \nQ 2828 2175 2409 1742 \nQ 1991 1309 1228 531 \nz\n\" transform=\"scale(0.015625)\"/>\n       </defs>\n       <use xlink:href=\"#DejaVuSans-32\"/>\n      </g>\n     </g>\n    </g>\n    <g id=\"xtick_2\">\n     <g id=\"line2d_3\">\n      <path d=\"M 95.203125 145.8 \nL 95.203125 7.2 \n\" clip-path=\"url(#pd2d8a83a3b)\" style=\"fill: none; stroke: #b0b0b0; stroke-width: 0.8; stroke-linecap: square\"/>\n     </g>\n     <g id=\"line2d_4\">\n      <g>\n       <use xlink:href=\"#m59741fe99b\" x=\"95.203125\" y=\"145.8\" style=\"stroke: #000000; stroke-width: 0.8\"/>\n      </g>\n     </g>\n     <g id=\"text_2\">\n      <!-- 4 -->\n      <g transform=\"translate(92.021875 160.398438)scale(0.1 -0.1)\">\n       <defs>\n        <path id=\"DejaVuSans-34\" d=\"M 2419 4116 \nL 825 1625 \nL 2419 1625 \nL 2419 4116 \nz\nM 2253 4666 \nL 3047 4666 \nL 3047 1625 \nL 3713 1625 \nL 3713 1100 \nL 3047 1100 \nL 3047 0 \nL 2419 0 \nL 2419 1100 \nL 313 1100 \nL 313 1709 \nL 2253 4666 \nz\n\" transform=\"scale(0.015625)\"/>\n       </defs>\n       <use xlink:href=\"#DejaVuSans-34\"/>\n      </g>\n     </g>\n    </g>\n    <g id=\"xtick_3\">\n     <g id=\"line2d_5\">\n      <path d=\"M 138.603125 145.8 \nL 138.603125 7.2 \n\" clip-path=\"url(#pd2d8a83a3b)\" style=\"fill: none; stroke: #b0b0b0; stroke-width: 0.8; stroke-linecap: square\"/>\n     </g>\n     <g id=\"line2d_6\">\n      <g>\n       <use xlink:href=\"#m59741fe99b\" x=\"138.603125\" y=\"145.8\" style=\"stroke: #000000; stroke-width: 0.8\"/>\n      </g>\n     </g>\n     <g id=\"text_3\">\n      <!-- 6 -->\n      <g transform=\"translate(135.421875 160.398438)scale(0.1 -0.1)\">\n       <defs>\n        <path id=\"DejaVuSans-36\" d=\"M 2113 2584 \nQ 1688 2584 1439 2293 \nQ 1191 2003 1191 1497 \nQ 1191 994 1439 701 \nQ 1688 409 2113 409 \nQ 2538 409 2786 701 \nQ 3034 994 3034 1497 \nQ 3034 2003 2786 2293 \nQ 2538 2584 2113 2584 \nz\nM 3366 4563 \nL 3366 3988 \nQ 3128 4100 2886 4159 \nQ 2644 4219 2406 4219 \nQ 1781 4219 1451 3797 \nQ 1122 3375 1075 2522 \nQ 1259 2794 1537 2939 \nQ 1816 3084 2150 3084 \nQ 2853 3084 3261 2657 \nQ 3669 2231 3669 1497 \nQ 3669 778 3244 343 \nQ 2819 -91 2113 -91 \nQ 1303 -91 875 529 \nQ 447 1150 447 2328 \nQ 447 3434 972 4092 \nQ 1497 4750 2381 4750 \nQ 2619 4750 2861 4703 \nQ 3103 4656 3366 4563 \nz\n\" transform=\"scale(0.015625)\"/>\n       </defs>\n       <use xlink:href=\"#DejaVuSans-36\"/>\n      </g>\n     </g>\n    </g>\n    <g id=\"xtick_4\">\n     <g id=\"line2d_7\">\n      <path d=\"M 182.003125 145.8 \nL 182.003125 7.2 \n\" clip-path=\"url(#pd2d8a83a3b)\" style=\"fill: none; stroke: #b0b0b0; stroke-width: 0.8; stroke-linecap: square\"/>\n     </g>\n     <g id=\"line2d_8\">\n      <g>\n       <use xlink:href=\"#m59741fe99b\" x=\"182.003125\" y=\"145.8\" style=\"stroke: #000000; stroke-width: 0.8\"/>\n      </g>\n     </g>\n     <g id=\"text_4\">\n      <!-- 8 -->\n      <g transform=\"translate(178.821875 160.398438)scale(0.1 -0.1)\">\n       <defs>\n        <path id=\"DejaVuSans-38\" d=\"M 2034 2216 \nQ 1584 2216 1326 1975 \nQ 1069 1734 1069 1313 \nQ 1069 891 1326 650 \nQ 1584 409 2034 409 \nQ 2484 409 2743 651 \nQ 3003 894 3003 1313 \nQ 3003 1734 2745 1975 \nQ 2488 2216 2034 2216 \nz\nM 1403 2484 \nQ 997 2584 770 2862 \nQ 544 3141 544 3541 \nQ 544 4100 942 4425 \nQ 1341 4750 2034 4750 \nQ 2731 4750 3128 4425 \nQ 3525 4100 3525 3541 \nQ 3525 3141 3298 2862 \nQ 3072 2584 2669 2484 \nQ 3125 2378 3379 2068 \nQ 3634 1759 3634 1313 \nQ 3634 634 3220 271 \nQ 2806 -91 2034 -91 \nQ 1263 -91 848 271 \nQ 434 634 434 1313 \nQ 434 1759 690 2068 \nQ 947 2378 1403 2484 \nz\nM 1172 3481 \nQ 1172 3119 1398 2916 \nQ 1625 2713 2034 2713 \nQ 2441 2713 2670 2916 \nQ 2900 3119 2900 3481 \nQ 2900 3844 2670 4047 \nQ 2441 4250 2034 4250 \nQ 1625 4250 1398 4047 \nQ 1172 3844 1172 3481 \nz\n\" transform=\"scale(0.015625)\"/>\n       </defs>\n       <use xlink:href=\"#DejaVuSans-38\"/>\n      </g>\n     </g>\n    </g>\n    <g id=\"xtick_5\">\n     <g id=\"line2d_9\">\n      <path d=\"M 225.403125 145.8 \nL 225.403125 7.2 \n\" clip-path=\"url(#pd2d8a83a3b)\" style=\"fill: none; stroke: #b0b0b0; stroke-width: 0.8; stroke-linecap: square\"/>\n     </g>\n     <g id=\"line2d_10\">\n      <g>\n       <use xlink:href=\"#m59741fe99b\" x=\"225.403125\" y=\"145.8\" style=\"stroke: #000000; stroke-width: 0.8\"/>\n      </g>\n     </g>\n     <g id=\"text_5\">\n      <!-- 10 -->\n      <g transform=\"translate(219.040625 160.398438)scale(0.1 -0.1)\">\n       <defs>\n        <path id=\"DejaVuSans-31\" d=\"M 794 531 \nL 1825 531 \nL 1825 4091 \nL 703 3866 \nL 703 4441 \nL 1819 4666 \nL 2450 4666 \nL 2450 531 \nL 3481 531 \nL 3481 0 \nL 794 0 \nL 794 531 \nz\n\" transform=\"scale(0.015625)\"/>\n        <path id=\"DejaVuSans-30\" d=\"M 2034 4250 \nQ 1547 4250 1301 3770 \nQ 1056 3291 1056 2328 \nQ 1056 1369 1301 889 \nQ 1547 409 2034 409 \nQ 2525 409 2770 889 \nQ 3016 1369 3016 2328 \nQ 3016 3291 2770 3770 \nQ 2525 4250 2034 4250 \nz\nM 2034 4750 \nQ 2819 4750 3233 4129 \nQ 3647 3509 3647 2328 \nQ 3647 1150 3233 529 \nQ 2819 -91 2034 -91 \nQ 1250 -91 836 529 \nQ 422 1150 422 2328 \nQ 422 3509 836 4129 \nQ 1250 4750 2034 4750 \nz\n\" transform=\"scale(0.015625)\"/>\n       </defs>\n       <use xlink:href=\"#DejaVuSans-31\"/>\n       <use xlink:href=\"#DejaVuSans-30\" x=\"63.623047\"/>\n      </g>\n     </g>\n    </g>\n    <g id=\"text_6\">\n     <!-- epoch -->\n     <g transform=\"translate(112.525 174.076563)scale(0.1 -0.1)\">\n      <defs>\n       <path id=\"DejaVuSans-65\" d=\"M 3597 1894 \nL 3597 1613 \nL 953 1613 \nQ 991 1019 1311 708 \nQ 1631 397 2203 397 \nQ 2534 397 2845 478 \nQ 3156 559 3463 722 \nL 3463 178 \nQ 3153 47 2828 -22 \nQ 2503 -91 2169 -91 \nQ 1331 -91 842 396 \nQ 353 884 353 1716 \nQ 353 2575 817 3079 \nQ 1281 3584 2069 3584 \nQ 2775 3584 3186 3129 \nQ 3597 2675 3597 1894 \nz\nM 3022 2063 \nQ 3016 2534 2758 2815 \nQ 2500 3097 2075 3097 \nQ 1594 3097 1305 2825 \nQ 1016 2553 972 2059 \nL 3022 2063 \nz\n\" transform=\"scale(0.015625)\"/>\n       <path id=\"DejaVuSans-70\" d=\"M 1159 525 \nL 1159 -1331 \nL 581 -1331 \nL 581 3500 \nL 1159 3500 \nL 1159 2969 \nQ 1341 3281 1617 3432 \nQ 1894 3584 2278 3584 \nQ 2916 3584 3314 3078 \nQ 3713 2572 3713 1747 \nQ 3713 922 3314 415 \nQ 2916 -91 2278 -91 \nQ 1894 -91 1617 61 \nQ 1341 213 1159 525 \nz\nM 3116 1747 \nQ 3116 2381 2855 2742 \nQ 2594 3103 2138 3103 \nQ 1681 3103 1420 2742 \nQ 1159 2381 1159 1747 \nQ 1159 1113 1420 752 \nQ 1681 391 2138 391 \nQ 2594 391 2855 752 \nQ 3116 1113 3116 1747 \nz\n\" transform=\"scale(0.015625)\"/>\n       <path id=\"DejaVuSans-6f\" d=\"M 1959 3097 \nQ 1497 3097 1228 2736 \nQ 959 2375 959 1747 \nQ 959 1119 1226 758 \nQ 1494 397 1959 397 \nQ 2419 397 2687 759 \nQ 2956 1122 2956 1747 \nQ 2956 2369 2687 2733 \nQ 2419 3097 1959 3097 \nz\nM 1959 3584 \nQ 2709 3584 3137 3096 \nQ 3566 2609 3566 1747 \nQ 3566 888 3137 398 \nQ 2709 -91 1959 -91 \nQ 1206 -91 779 398 \nQ 353 888 353 1747 \nQ 353 2609 779 3096 \nQ 1206 3584 1959 3584 \nz\n\" transform=\"scale(0.015625)\"/>\n       <path id=\"DejaVuSans-63\" d=\"M 3122 3366 \nL 3122 2828 \nQ 2878 2963 2633 3030 \nQ 2388 3097 2138 3097 \nQ 1578 3097 1268 2742 \nQ 959 2388 959 1747 \nQ 959 1106 1268 751 \nQ 1578 397 2138 397 \nQ 2388 397 2633 464 \nQ 2878 531 3122 666 \nL 3122 134 \nQ 2881 22 2623 -34 \nQ 2366 -91 2075 -91 \nQ 1284 -91 818 406 \nQ 353 903 353 1747 \nQ 353 2603 823 3093 \nQ 1294 3584 2113 3584 \nQ 2378 3584 2631 3529 \nQ 2884 3475 3122 3366 \nz\n\" transform=\"scale(0.015625)\"/>\n       <path id=\"DejaVuSans-68\" d=\"M 3513 2113 \nL 3513 0 \nL 2938 0 \nL 2938 2094 \nQ 2938 2591 2744 2837 \nQ 2550 3084 2163 3084 \nQ 1697 3084 1428 2787 \nQ 1159 2491 1159 1978 \nL 1159 0 \nL 581 0 \nL 581 4863 \nL 1159 4863 \nL 1159 2956 \nQ 1366 3272 1645 3428 \nQ 1925 3584 2291 3584 \nQ 2894 3584 3203 3211 \nQ 3513 2838 3513 2113 \nz\n\" transform=\"scale(0.015625)\"/>\n      </defs>\n      <use xlink:href=\"#DejaVuSans-65\"/>\n      <use xlink:href=\"#DejaVuSans-70\" x=\"61.523438\"/>\n      <use xlink:href=\"#DejaVuSans-6f\" x=\"125\"/>\n      <use xlink:href=\"#DejaVuSans-63\" x=\"186.181641\"/>\n      <use xlink:href=\"#DejaVuSans-68\" x=\"241.162109\"/>\n     </g>\n    </g>\n   </g>\n   <g id=\"matplotlib.axis_2\">\n    <g id=\"ytick_1\">\n     <g id=\"line2d_11\">\n      <path d=\"M 30.103125 122.7 \nL 225.403125 122.7 \n\" clip-path=\"url(#pd2d8a83a3b)\" style=\"fill: none; stroke: #b0b0b0; stroke-width: 0.8; stroke-linecap: square\"/>\n     </g>\n     <g id=\"line2d_12\">\n      <defs>\n       <path id=\"mbec9147c00\" d=\"M 0 0 \nL -3.5 0 \n\" style=\"stroke: #000000; stroke-width: 0.8\"/>\n      </defs>\n      <g>\n       <use xlink:href=\"#mbec9147c00\" x=\"30.103125\" y=\"122.7\" style=\"stroke: #000000; stroke-width: 0.8\"/>\n      </g>\n     </g>\n     <g id=\"text_7\">\n      <!-- 0.4 -->\n      <g transform=\"translate(7.2 126.499219)scale(0.1 -0.1)\">\n       <defs>\n        <path id=\"DejaVuSans-2e\" d=\"M 684 794 \nL 1344 794 \nL 1344 0 \nL 684 0 \nL 684 794 \nz\n\" transform=\"scale(0.015625)\"/>\n       </defs>\n       <use xlink:href=\"#DejaVuSans-30\"/>\n       <use xlink:href=\"#DejaVuSans-2e\" x=\"63.623047\"/>\n       <use xlink:href=\"#DejaVuSans-34\" x=\"95.410156\"/>\n      </g>\n     </g>\n    </g>\n    <g id=\"ytick_2\">\n     <g id=\"line2d_13\">\n      <path d=\"M 30.103125 76.5 \nL 225.403125 76.5 \n\" clip-path=\"url(#pd2d8a83a3b)\" style=\"fill: none; stroke: #b0b0b0; stroke-width: 0.8; stroke-linecap: square\"/>\n     </g>\n     <g id=\"line2d_14\">\n      <g>\n       <use xlink:href=\"#mbec9147c00\" x=\"30.103125\" y=\"76.5\" style=\"stroke: #000000; stroke-width: 0.8\"/>\n      </g>\n     </g>\n     <g id=\"text_8\">\n      <!-- 0.6 -->\n      <g transform=\"translate(7.2 80.299219)scale(0.1 -0.1)\">\n       <use xlink:href=\"#DejaVuSans-30\"/>\n       <use xlink:href=\"#DejaVuSans-2e\" x=\"63.623047\"/>\n       <use xlink:href=\"#DejaVuSans-36\" x=\"95.410156\"/>\n      </g>\n     </g>\n    </g>\n    <g id=\"ytick_3\">\n     <g id=\"line2d_15\">\n      <path d=\"M 30.103125 30.3 \nL 225.403125 30.3 \n\" clip-path=\"url(#pd2d8a83a3b)\" style=\"fill: none; stroke: #b0b0b0; stroke-width: 0.8; stroke-linecap: square\"/>\n     </g>\n     <g id=\"line2d_16\">\n      <g>\n       <use xlink:href=\"#mbec9147c00\" x=\"30.103125\" y=\"30.3\" style=\"stroke: #000000; stroke-width: 0.8\"/>\n      </g>\n     </g>\n     <g id=\"text_9\">\n      <!-- 0.8 -->\n      <g transform=\"translate(7.2 34.099219)scale(0.1 -0.1)\">\n       <use xlink:href=\"#DejaVuSans-30\"/>\n       <use xlink:href=\"#DejaVuSans-2e\" x=\"63.623047\"/>\n       <use xlink:href=\"#DejaVuSans-38\" x=\"95.410156\"/>\n      </g>\n     </g>\n    </g>\n   </g>\n   <g id=\"line2d_17\">\n    <path d=\"M 30.103125 33.249618 \nL 51.803125 83.187247 \nL 73.503125 93.835699 \nL 95.203125 99.172981 \nL 116.903125 102.954738 \nL 138.603125 105.808739 \nL 160.303125 107.789731 \nL 182.003125 109.32391 \nL 203.703125 110.599088 \nL 225.403125 111.751098 \n\" clip-path=\"url(#pd2d8a83a3b)\" style=\"fill: none; stroke: #1f77b4; stroke-width: 1.5; stroke-linecap: square\"/>\n   </g>\n   <g id=\"line2d_18\">\n    <path d=\"M 30.103125 42.312 \nL 51.803125 27.36245 \nL 73.503125 24.35175 \nL 95.203125 23.03505 \nL 116.903125 21.5759 \nL 138.603125 20.8752 \nL 160.303125 20.37085 \nL 182.003125 19.9512 \nL 203.703125 19.3583 \nL 225.403125 19.1581 \n\" clip-path=\"url(#pd2d8a83a3b)\" style=\"fill: none; stroke-dasharray: 5.55,2.4; stroke-dashoffset: 0; stroke: #bf00bf; stroke-width: 1.5\"/>\n   </g>\n   <g id=\"line2d_19\">\n    <path d=\"M 30.103125 41.4111 \nL 51.803125 32.7948 \nL 73.503125 25.7031 \nL 95.203125 25.4259 \nL 116.903125 26.4654 \nL 138.603125 26.7195 \nL 160.303125 23.8089 \nL 182.003125 23.7627 \nL 203.703125 22.4691 \nL 225.403125 27.3201 \n\" clip-path=\"url(#pd2d8a83a3b)\" style=\"fill: none; stroke-dasharray: 9.6,2.4,1.5,2.4; stroke-dashoffset: 0; stroke: #008000; stroke-width: 1.5\"/>\n   </g>\n   <g id=\"patch_3\">\n    <path d=\"M 30.103125 145.8 \nL 30.103125 7.2 \n\" style=\"fill: none; stroke: #000000; stroke-width: 0.8; stroke-linejoin: miter; stroke-linecap: square\"/>\n   </g>\n   <g id=\"patch_4\">\n    <path d=\"M 225.403125 145.8 \nL 225.403125 7.2 \n\" style=\"fill: none; stroke: #000000; stroke-width: 0.8; stroke-linejoin: miter; stroke-linecap: square\"/>\n   </g>\n   <g id=\"patch_5\">\n    <path d=\"M 30.103125 145.8 \nL 225.403125 145.8 \n\" style=\"fill: none; stroke: #000000; stroke-width: 0.8; stroke-linejoin: miter; stroke-linecap: square\"/>\n   </g>\n   <g id=\"patch_6\">\n    <path d=\"M 30.103125 7.2 \nL 225.403125 7.2 \n\" style=\"fill: none; stroke: #000000; stroke-width: 0.8; stroke-linejoin: miter; stroke-linecap: square\"/>\n   </g>\n   <g id=\"legend_1\">\n    <g id=\"patch_7\">\n     <path d=\"M 140.634375 100.017188 \nL 218.403125 100.017188 \nQ 220.403125 100.017188 220.403125 98.017188 \nL 220.403125 54.982812 \nQ 220.403125 52.982812 218.403125 52.982812 \nL 140.634375 52.982812 \nQ 138.634375 52.982812 138.634375 54.982812 \nL 138.634375 98.017188 \nQ 138.634375 100.017188 140.634375 100.017188 \nz\n\" style=\"fill: #ffffff; opacity: 0.8; stroke: #cccccc; stroke-linejoin: miter\"/>\n    </g>\n    <g id=\"line2d_20\">\n     <path d=\"M 142.634375 61.08125 \nL 152.634375 61.08125 \nL 162.634375 61.08125 \n\" style=\"fill: none; stroke: #1f77b4; stroke-width: 1.5; stroke-linecap: square\"/>\n    </g>\n    <g id=\"text_10\">\n     <!-- train loss -->\n     <g transform=\"translate(170.634375 64.58125)scale(0.1 -0.1)\">\n      <defs>\n       <path id=\"DejaVuSans-74\" d=\"M 1172 4494 \nL 1172 3500 \nL 2356 3500 \nL 2356 3053 \nL 1172 3053 \nL 1172 1153 \nQ 1172 725 1289 603 \nQ 1406 481 1766 481 \nL 2356 481 \nL 2356 0 \nL 1766 0 \nQ 1100 0 847 248 \nQ 594 497 594 1153 \nL 594 3053 \nL 172 3053 \nL 172 3500 \nL 594 3500 \nL 594 4494 \nL 1172 4494 \nz\n\" transform=\"scale(0.015625)\"/>\n       <path id=\"DejaVuSans-72\" d=\"M 2631 2963 \nQ 2534 3019 2420 3045 \nQ 2306 3072 2169 3072 \nQ 1681 3072 1420 2755 \nQ 1159 2438 1159 1844 \nL 1159 0 \nL 581 0 \nL 581 3500 \nL 1159 3500 \nL 1159 2956 \nQ 1341 3275 1631 3429 \nQ 1922 3584 2338 3584 \nQ 2397 3584 2469 3576 \nQ 2541 3569 2628 3553 \nL 2631 2963 \nz\n\" transform=\"scale(0.015625)\"/>\n       <path id=\"DejaVuSans-61\" d=\"M 2194 1759 \nQ 1497 1759 1228 1600 \nQ 959 1441 959 1056 \nQ 959 750 1161 570 \nQ 1363 391 1709 391 \nQ 2188 391 2477 730 \nQ 2766 1069 2766 1631 \nL 2766 1759 \nL 2194 1759 \nz\nM 3341 1997 \nL 3341 0 \nL 2766 0 \nL 2766 531 \nQ 2569 213 2275 61 \nQ 1981 -91 1556 -91 \nQ 1019 -91 701 211 \nQ 384 513 384 1019 \nQ 384 1609 779 1909 \nQ 1175 2209 1959 2209 \nL 2766 2209 \nL 2766 2266 \nQ 2766 2663 2505 2880 \nQ 2244 3097 1772 3097 \nQ 1472 3097 1187 3025 \nQ 903 2953 641 2809 \nL 641 3341 \nQ 956 3463 1253 3523 \nQ 1550 3584 1831 3584 \nQ 2591 3584 2966 3190 \nQ 3341 2797 3341 1997 \nz\n\" transform=\"scale(0.015625)\"/>\n       <path id=\"DejaVuSans-69\" d=\"M 603 3500 \nL 1178 3500 \nL 1178 0 \nL 603 0 \nL 603 3500 \nz\nM 603 4863 \nL 1178 4863 \nL 1178 4134 \nL 603 4134 \nL 603 4863 \nz\n\" transform=\"scale(0.015625)\"/>\n       <path id=\"DejaVuSans-6e\" d=\"M 3513 2113 \nL 3513 0 \nL 2938 0 \nL 2938 2094 \nQ 2938 2591 2744 2837 \nQ 2550 3084 2163 3084 \nQ 1697 3084 1428 2787 \nQ 1159 2491 1159 1978 \nL 1159 0 \nL 581 0 \nL 581 3500 \nL 1159 3500 \nL 1159 2956 \nQ 1366 3272 1645 3428 \nQ 1925 3584 2291 3584 \nQ 2894 3584 3203 3211 \nQ 3513 2838 3513 2113 \nz\n\" transform=\"scale(0.015625)\"/>\n       <path id=\"DejaVuSans-20\" transform=\"scale(0.015625)\"/>\n       <path id=\"DejaVuSans-6c\" d=\"M 603 4863 \nL 1178 4863 \nL 1178 0 \nL 603 0 \nL 603 4863 \nz\n\" transform=\"scale(0.015625)\"/>\n       <path id=\"DejaVuSans-73\" d=\"M 2834 3397 \nL 2834 2853 \nQ 2591 2978 2328 3040 \nQ 2066 3103 1784 3103 \nQ 1356 3103 1142 2972 \nQ 928 2841 928 2578 \nQ 928 2378 1081 2264 \nQ 1234 2150 1697 2047 \nL 1894 2003 \nQ 2506 1872 2764 1633 \nQ 3022 1394 3022 966 \nQ 3022 478 2636 193 \nQ 2250 -91 1575 -91 \nQ 1294 -91 989 -36 \nQ 684 19 347 128 \nL 347 722 \nQ 666 556 975 473 \nQ 1284 391 1588 391 \nQ 1994 391 2212 530 \nQ 2431 669 2431 922 \nQ 2431 1156 2273 1281 \nQ 2116 1406 1581 1522 \nL 1381 1569 \nQ 847 1681 609 1914 \nQ 372 2147 372 2553 \nQ 372 3047 722 3315 \nQ 1072 3584 1716 3584 \nQ 2034 3584 2315 3537 \nQ 2597 3491 2834 3397 \nz\n\" transform=\"scale(0.015625)\"/>\n      </defs>\n      <use xlink:href=\"#DejaVuSans-74\"/>\n      <use xlink:href=\"#DejaVuSans-72\" x=\"39.208984\"/>\n      <use xlink:href=\"#DejaVuSans-61\" x=\"80.322266\"/>\n      <use xlink:href=\"#DejaVuSans-69\" x=\"141.601562\"/>\n      <use xlink:href=\"#DejaVuSans-6e\" x=\"169.384766\"/>\n      <use xlink:href=\"#DejaVuSans-20\" x=\"232.763672\"/>\n      <use xlink:href=\"#DejaVuSans-6c\" x=\"264.550781\"/>\n      <use xlink:href=\"#DejaVuSans-6f\" x=\"292.333984\"/>\n      <use xlink:href=\"#DejaVuSans-73\" x=\"353.515625\"/>\n      <use xlink:href=\"#DejaVuSans-73\" x=\"405.615234\"/>\n     </g>\n    </g>\n    <g id=\"line2d_21\">\n     <path d=\"M 142.634375 75.759375 \nL 152.634375 75.759375 \nL 162.634375 75.759375 \n\" style=\"fill: none; stroke-dasharray: 5.55,2.4; stroke-dashoffset: 0; stroke: #bf00bf; stroke-width: 1.5\"/>\n    </g>\n    <g id=\"text_11\">\n     <!-- train acc -->\n     <g transform=\"translate(170.634375 79.259375)scale(0.1 -0.1)\">\n      <use xlink:href=\"#DejaVuSans-74\"/>\n      <use xlink:href=\"#DejaVuSans-72\" x=\"39.208984\"/>\n      <use xlink:href=\"#DejaVuSans-61\" x=\"80.322266\"/>\n      <use xlink:href=\"#DejaVuSans-69\" x=\"141.601562\"/>\n      <use xlink:href=\"#DejaVuSans-6e\" x=\"169.384766\"/>\n      <use xlink:href=\"#DejaVuSans-20\" x=\"232.763672\"/>\n      <use xlink:href=\"#DejaVuSans-61\" x=\"264.550781\"/>\n      <use xlink:href=\"#DejaVuSans-63\" x=\"325.830078\"/>\n      <use xlink:href=\"#DejaVuSans-63\" x=\"380.810547\"/>\n     </g>\n    </g>\n    <g id=\"line2d_22\">\n     <path d=\"M 142.634375 90.4375 \nL 152.634375 90.4375 \nL 162.634375 90.4375 \n\" style=\"fill: none; stroke-dasharray: 9.6,2.4,1.5,2.4; stroke-dashoffset: 0; stroke: #008000; stroke-width: 1.5\"/>\n    </g>\n    <g id=\"text_12\">\n     <!-- test acc -->\n     <g transform=\"translate(170.634375 93.9375)scale(0.1 -0.1)\">\n      <use xlink:href=\"#DejaVuSans-74\"/>\n      <use xlink:href=\"#DejaVuSans-65\" x=\"39.208984\"/>\n      <use xlink:href=\"#DejaVuSans-73\" x=\"100.732422\"/>\n      <use xlink:href=\"#DejaVuSans-74\" x=\"152.832031\"/>\n      <use xlink:href=\"#DejaVuSans-20\" x=\"192.041016\"/>\n      <use xlink:href=\"#DejaVuSans-61\" x=\"223.828125\"/>\n      <use xlink:href=\"#DejaVuSans-63\" x=\"285.107422\"/>\n      <use xlink:href=\"#DejaVuSans-63\" x=\"340.087891\"/>\n     </g>\n    </g>\n   </g>\n  </g>\n </g>\n <defs>\n  <clipPath id=\"pd2d8a83a3b\">\n   <rect x=\"30.103125\" y=\"7.2\" width=\"195.3\" height=\"138.6\"/>\n  </clipPath>\n </defs>\n</svg>\n"
     },
     "metadata": {},
     "output_type": "display_data"
    }
   ],
   "source": [
    "num_epochs = 10\n",
    "train_ch3(net, train_iter, test_iter, cross_entropy, num_epochs, updater)"
   ]
  },
  {
   "cell_type": "markdown",
   "id": "764baf14",
   "metadata": {
    "origin_pos": 56
   },
   "source": [
    "## 预测\n",
    "\n",
    "现在训练已经完成，我们的模型已经准备好[**对图像进行分类预测**]。\n",
    "给定一系列图像，我们将比较它们的实际标签（文本输出的第一行）和模型预测（文本输出的第二行）。\n"
   ]
  },
  {
   "cell_type": "code",
   "execution_count": 61,
   "id": "519caa80",
   "metadata": {
    "execution": {
     "iopub.execute_input": "2022-12-07T16:43:54.218766Z",
     "iopub.status.busy": "2022-12-07T16:43:54.218442Z",
     "iopub.status.idle": "2022-12-07T16:43:54.645996Z",
     "shell.execute_reply": "2022-12-07T16:43:54.644462Z"
    },
    "origin_pos": 57,
    "tab": [
     "pytorch"
    ],
    "ExecuteTime": {
     "end_time": "2023-07-05T08:50:42.426174100Z",
     "start_time": "2023-07-05T08:50:40.872960200Z"
    }
   },
   "outputs": [
    {
     "data": {
      "text/plain": "<Figure size 1200x150 with 8 Axes>",
      "image/svg+xml": "<?xml version=\"1.0\" encoding=\"utf-8\" standalone=\"no\"?>\n<!DOCTYPE svg PUBLIC \"-//W3C//DTD SVG 1.1//EN\"\n  \"http://www.w3.org/Graphics/SVG/1.1/DTD/svg11.dtd\">\n<svg xmlns:xlink=\"http://www.w3.org/1999/xlink\" width=\"687.5pt\" height=\"117.689543pt\" viewBox=\"0 0 687.5 117.689543\" xmlns=\"http://www.w3.org/2000/svg\" version=\"1.1\">\n <metadata>\n  <rdf:RDF xmlns:dc=\"http://purl.org/dc/elements/1.1/\" xmlns:cc=\"http://creativecommons.org/ns#\" xmlns:rdf=\"http://www.w3.org/1999/02/22-rdf-syntax-ns#\">\n   <cc:Work>\n    <dc:type rdf:resource=\"http://purl.org/dc/dcmitype/StillImage\"/>\n    <dc:date>2023-07-05T16:50:42.377202</dc:date>\n    <dc:format>image/svg+xml</dc:format>\n    <dc:creator>\n     <cc:Agent>\n      <dc:title>Matplotlib v3.5.1, https://matplotlib.org/</dc:title>\n     </cc:Agent>\n    </dc:creator>\n   </cc:Work>\n  </rdf:RDF>\n </metadata>\n <defs>\n  <style type=\"text/css\">*{stroke-linejoin: round; stroke-linecap: butt}</style>\n </defs>\n <g id=\"figure_1\">\n  <g id=\"patch_1\">\n   <path d=\"M 0 117.689543 \nL 687.5 117.689543 \nL 687.5 0 \nL 0 0 \nz\n\" style=\"fill: #ffffff\"/>\n  </g>\n  <g id=\"axes_1\">\n   <g id=\"patch_2\">\n    <path d=\"M 10.7 106.989543 \nL 81.934043 106.989543 \nL 81.934043 35.7555 \nL 10.7 35.7555 \nz\n\" style=\"fill: #ffffff\"/>\n   </g>\n   <g clip-path=\"url(#pe10cf93cb4)\">\n    <image xlink:href=\"data:image/png;base64,\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\" id=\"imageca48837348\" transform=\"scale(1 -1)translate(0 -71.28)\" x=\"10.7\" y=\"-35.709543\" width=\"71.28\" height=\"71.28\"/>\n   </g>\n   <g id=\"patch_3\">\n    <path d=\"M 10.7 106.989543 \nL 10.7 35.7555 \n\" style=\"fill: none; stroke: #000000; stroke-width: 0.8; stroke-linejoin: miter; stroke-linecap: square\"/>\n   </g>\n   <g id=\"patch_4\">\n    <path d=\"M 81.934043 106.989543 \nL 81.934043 35.7555 \n\" style=\"fill: none; stroke: #000000; stroke-width: 0.8; stroke-linejoin: miter; stroke-linecap: square\"/>\n   </g>\n   <g id=\"patch_5\">\n    <path d=\"M 10.7 106.989543 \nL 81.934043 106.989543 \n\" style=\"fill: none; stroke: #000000; stroke-width: 0.8; stroke-linejoin: miter; stroke-linecap: square\"/>\n   </g>\n   <g id=\"patch_6\">\n    <path d=\"M 10.7 35.7555 \nL 81.934043 35.7555 \n\" style=\"fill: none; stroke: #000000; stroke-width: 0.8; stroke-linejoin: miter; stroke-linecap: square\"/>\n   </g>\n   <g id=\"text_1\">\n    <!-- ankle boot -->\n    <g transform=\"translate(14.593896 16.318125)scale(0.12 -0.12)\">\n     <defs>\n      <path id=\"DejaVuSans-61\" d=\"M 2194 1759 \nQ 1497 1759 1228 1600 \nQ 959 1441 959 1056 \nQ 959 750 1161 570 \nQ 1363 391 1709 391 \nQ 2188 391 2477 730 \nQ 2766 1069 2766 1631 \nL 2766 1759 \nL 2194 1759 \nz\nM 3341 1997 \nL 3341 0 \nL 2766 0 \nL 2766 531 \nQ 2569 213 2275 61 \nQ 1981 -91 1556 -91 \nQ 1019 -91 701 211 \nQ 384 513 384 1019 \nQ 384 1609 779 1909 \nQ 1175 2209 1959 2209 \nL 2766 2209 \nL 2766 2266 \nQ 2766 2663 2505 2880 \nQ 2244 3097 1772 3097 \nQ 1472 3097 1187 3025 \nQ 903 2953 641 2809 \nL 641 3341 \nQ 956 3463 1253 3523 \nQ 1550 3584 1831 3584 \nQ 2591 3584 2966 3190 \nQ 3341 2797 3341 1997 \nz\n\" transform=\"scale(0.015625)\"/>\n      <path id=\"DejaVuSans-6e\" d=\"M 3513 2113 \nL 3513 0 \nL 2938 0 \nL 2938 2094 \nQ 2938 2591 2744 2837 \nQ 2550 3084 2163 3084 \nQ 1697 3084 1428 2787 \nQ 1159 2491 1159 1978 \nL 1159 0 \nL 581 0 \nL 581 3500 \nL 1159 3500 \nL 1159 2956 \nQ 1366 3272 1645 3428 \nQ 1925 3584 2291 3584 \nQ 2894 3584 3203 3211 \nQ 3513 2838 3513 2113 \nz\n\" transform=\"scale(0.015625)\"/>\n      <path id=\"DejaVuSans-6b\" d=\"M 581 4863 \nL 1159 4863 \nL 1159 1991 \nL 2875 3500 \nL 3609 3500 \nL 1753 1863 \nL 3688 0 \nL 2938 0 \nL 1159 1709 \nL 1159 0 \nL 581 0 \nL 581 4863 \nz\n\" transform=\"scale(0.015625)\"/>\n      <path id=\"DejaVuSans-6c\" d=\"M 603 4863 \nL 1178 4863 \nL 1178 0 \nL 603 0 \nL 603 4863 \nz\n\" transform=\"scale(0.015625)\"/>\n      <path id=\"DejaVuSans-65\" d=\"M 3597 1894 \nL 3597 1613 \nL 953 1613 \nQ 991 1019 1311 708 \nQ 1631 397 2203 397 \nQ 2534 397 2845 478 \nQ 3156 559 3463 722 \nL 3463 178 \nQ 3153 47 2828 -22 \nQ 2503 -91 2169 -91 \nQ 1331 -91 842 396 \nQ 353 884 353 1716 \nQ 353 2575 817 3079 \nQ 1281 3584 2069 3584 \nQ 2775 3584 3186 3129 \nQ 3597 2675 3597 1894 \nz\nM 3022 2063 \nQ 3016 2534 2758 2815 \nQ 2500 3097 2075 3097 \nQ 1594 3097 1305 2825 \nQ 1016 2553 972 2059 \nL 3022 2063 \nz\n\" transform=\"scale(0.015625)\"/>\n      <path id=\"DejaVuSans-20\" transform=\"scale(0.015625)\"/>\n      <path id=\"DejaVuSans-62\" d=\"M 3116 1747 \nQ 3116 2381 2855 2742 \nQ 2594 3103 2138 3103 \nQ 1681 3103 1420 2742 \nQ 1159 2381 1159 1747 \nQ 1159 1113 1420 752 \nQ 1681 391 2138 391 \nQ 2594 391 2855 752 \nQ 3116 1113 3116 1747 \nz\nM 1159 2969 \nQ 1341 3281 1617 3432 \nQ 1894 3584 2278 3584 \nQ 2916 3584 3314 3078 \nQ 3713 2572 3713 1747 \nQ 3713 922 3314 415 \nQ 2916 -91 2278 -91 \nQ 1894 -91 1617 61 \nQ 1341 213 1159 525 \nL 1159 0 \nL 581 0 \nL 581 4863 \nL 1159 4863 \nL 1159 2969 \nz\n\" transform=\"scale(0.015625)\"/>\n      <path id=\"DejaVuSans-6f\" d=\"M 1959 3097 \nQ 1497 3097 1228 2736 \nQ 959 2375 959 1747 \nQ 959 1119 1226 758 \nQ 1494 397 1959 397 \nQ 2419 397 2687 759 \nQ 2956 1122 2956 1747 \nQ 2956 2369 2687 2733 \nQ 2419 3097 1959 3097 \nz\nM 1959 3584 \nQ 2709 3584 3137 3096 \nQ 3566 2609 3566 1747 \nQ 3566 888 3137 398 \nQ 2709 -91 1959 -91 \nQ 1206 -91 779 398 \nQ 353 888 353 1747 \nQ 353 2609 779 3096 \nQ 1206 3584 1959 3584 \nz\n\" transform=\"scale(0.015625)\"/>\n      <path id=\"DejaVuSans-74\" d=\"M 1172 4494 \nL 1172 3500 \nL 2356 3500 \nL 2356 3053 \nL 1172 3053 \nL 1172 1153 \nQ 1172 725 1289 603 \nQ 1406 481 1766 481 \nL 2356 481 \nL 2356 0 \nL 1766 0 \nQ 1100 0 847 248 \nQ 594 497 594 1153 \nL 594 3053 \nL 172 3053 \nL 172 3500 \nL 594 3500 \nL 594 4494 \nL 1172 4494 \nz\n\" transform=\"scale(0.015625)\"/>\n     </defs>\n     <use xlink:href=\"#DejaVuSans-61\"/>\n     <use xlink:href=\"#DejaVuSans-6e\" x=\"61.279297\"/>\n     <use xlink:href=\"#DejaVuSans-6b\" x=\"124.658203\"/>\n     <use xlink:href=\"#DejaVuSans-6c\" x=\"182.568359\"/>\n     <use xlink:href=\"#DejaVuSans-65\" x=\"210.351562\"/>\n     <use xlink:href=\"#DejaVuSans-20\" x=\"271.875\"/>\n     <use xlink:href=\"#DejaVuSans-62\" x=\"303.662109\"/>\n     <use xlink:href=\"#DejaVuSans-6f\" x=\"367.138672\"/>\n     <use xlink:href=\"#DejaVuSans-6f\" x=\"428.320312\"/>\n     <use xlink:href=\"#DejaVuSans-74\" x=\"489.501953\"/>\n    </g>\n    <!-- ankle boot -->\n    <g transform=\"translate(14.593896 29.7555)scale(0.12 -0.12)\">\n     <use xlink:href=\"#DejaVuSans-61\"/>\n     <use xlink:href=\"#DejaVuSans-6e\" x=\"61.279297\"/>\n     <use xlink:href=\"#DejaVuSans-6b\" x=\"124.658203\"/>\n     <use xlink:href=\"#DejaVuSans-6c\" x=\"182.568359\"/>\n     <use xlink:href=\"#DejaVuSans-65\" x=\"210.351562\"/>\n     <use xlink:href=\"#DejaVuSans-20\" x=\"271.875\"/>\n     <use xlink:href=\"#DejaVuSans-62\" x=\"303.662109\"/>\n     <use xlink:href=\"#DejaVuSans-6f\" x=\"367.138672\"/>\n     <use xlink:href=\"#DejaVuSans-6f\" x=\"428.320312\"/>\n     <use xlink:href=\"#DejaVuSans-74\" x=\"489.501953\"/>\n    </g>\n   </g>\n  </g>\n  <g id=\"axes_2\">\n   <g id=\"patch_7\">\n    <path d=\"M 96.180851 106.989543 \nL 167.414894 106.989543 \nL 167.414894 35.7555 \nL 96.180851 35.7555 \nz\n\" style=\"fill: #ffffff\"/>\n   </g>\n   <g clip-path=\"url(#pdf8cef2df2)\">\n    <image xlink:href=\"data:image/png;base64,\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\" id=\"image1107019c8a\" transform=\"scale(1 -1)translate(0 -71.28)\" x=\"96.180851\" y=\"-35.709543\" width=\"71.28\" height=\"71.28\"/>\n   </g>\n   <g id=\"patch_8\">\n    <path d=\"M 96.180851 106.989543 \nL 96.180851 35.7555 \n\" style=\"fill: none; stroke: #000000; stroke-width: 0.8; stroke-linejoin: miter; stroke-linecap: square\"/>\n   </g>\n   <g id=\"patch_9\">\n    <path d=\"M 167.414894 106.989543 \nL 167.414894 35.7555 \n\" style=\"fill: none; stroke: #000000; stroke-width: 0.8; stroke-linejoin: miter; stroke-linecap: square\"/>\n   </g>\n   <g id=\"patch_10\">\n    <path d=\"M 96.180851 106.989543 \nL 167.414894 106.989543 \n\" style=\"fill: none; stroke: #000000; stroke-width: 0.8; stroke-linejoin: miter; stroke-linecap: square\"/>\n   </g>\n   <g id=\"patch_11\">\n    <path d=\"M 96.180851 35.7555 \nL 167.414894 35.7555 \n\" style=\"fill: none; stroke: #000000; stroke-width: 0.8; stroke-linejoin: miter; stroke-linecap: square\"/>\n   </g>\n   <g id=\"text_2\">\n    <!-- pullover -->\n    <g transform=\"translate(107.471622 16.318125)scale(0.12 -0.12)\">\n     <defs>\n      <path id=\"DejaVuSans-70\" d=\"M 1159 525 \nL 1159 -1331 \nL 581 -1331 \nL 581 3500 \nL 1159 3500 \nL 1159 2969 \nQ 1341 3281 1617 3432 \nQ 1894 3584 2278 3584 \nQ 2916 3584 3314 3078 \nQ 3713 2572 3713 1747 \nQ 3713 922 3314 415 \nQ 2916 -91 2278 -91 \nQ 1894 -91 1617 61 \nQ 1341 213 1159 525 \nz\nM 3116 1747 \nQ 3116 2381 2855 2742 \nQ 2594 3103 2138 3103 \nQ 1681 3103 1420 2742 \nQ 1159 2381 1159 1747 \nQ 1159 1113 1420 752 \nQ 1681 391 2138 391 \nQ 2594 391 2855 752 \nQ 3116 1113 3116 1747 \nz\n\" transform=\"scale(0.015625)\"/>\n      <path id=\"DejaVuSans-75\" d=\"M 544 1381 \nL 544 3500 \nL 1119 3500 \nL 1119 1403 \nQ 1119 906 1312 657 \nQ 1506 409 1894 409 \nQ 2359 409 2629 706 \nQ 2900 1003 2900 1516 \nL 2900 3500 \nL 3475 3500 \nL 3475 0 \nL 2900 0 \nL 2900 538 \nQ 2691 219 2414 64 \nQ 2138 -91 1772 -91 \nQ 1169 -91 856 284 \nQ 544 659 544 1381 \nz\nM 1991 3584 \nL 1991 3584 \nz\n\" transform=\"scale(0.015625)\"/>\n      <path id=\"DejaVuSans-76\" d=\"M 191 3500 \nL 800 3500 \nL 1894 563 \nL 2988 3500 \nL 3597 3500 \nL 2284 0 \nL 1503 0 \nL 191 3500 \nz\n\" transform=\"scale(0.015625)\"/>\n      <path id=\"DejaVuSans-72\" d=\"M 2631 2963 \nQ 2534 3019 2420 3045 \nQ 2306 3072 2169 3072 \nQ 1681 3072 1420 2755 \nQ 1159 2438 1159 1844 \nL 1159 0 \nL 581 0 \nL 581 3500 \nL 1159 3500 \nL 1159 2956 \nQ 1341 3275 1631 3429 \nQ 1922 3584 2338 3584 \nQ 2397 3584 2469 3576 \nQ 2541 3569 2628 3553 \nL 2631 2963 \nz\n\" transform=\"scale(0.015625)\"/>\n     </defs>\n     <use xlink:href=\"#DejaVuSans-70\"/>\n     <use xlink:href=\"#DejaVuSans-75\" x=\"63.476562\"/>\n     <use xlink:href=\"#DejaVuSans-6c\" x=\"126.855469\"/>\n     <use xlink:href=\"#DejaVuSans-6c\" x=\"154.638672\"/>\n     <use xlink:href=\"#DejaVuSans-6f\" x=\"182.421875\"/>\n     <use xlink:href=\"#DejaVuSans-76\" x=\"243.603516\"/>\n     <use xlink:href=\"#DejaVuSans-65\" x=\"302.783203\"/>\n     <use xlink:href=\"#DejaVuSans-72\" x=\"364.306641\"/>\n    </g>\n    <!-- pullover -->\n    <g transform=\"translate(107.471622 29.7555)scale(0.12 -0.12)\">\n     <use xlink:href=\"#DejaVuSans-70\"/>\n     <use xlink:href=\"#DejaVuSans-75\" x=\"63.476562\"/>\n     <use xlink:href=\"#DejaVuSans-6c\" x=\"126.855469\"/>\n     <use xlink:href=\"#DejaVuSans-6c\" x=\"154.638672\"/>\n     <use xlink:href=\"#DejaVuSans-6f\" x=\"182.421875\"/>\n     <use xlink:href=\"#DejaVuSans-76\" x=\"243.603516\"/>\n     <use xlink:href=\"#DejaVuSans-65\" x=\"302.783203\"/>\n     <use xlink:href=\"#DejaVuSans-72\" x=\"364.306641\"/>\n    </g>\n   </g>\n  </g>\n  <g id=\"axes_3\">\n   <g id=\"patch_12\">\n    <path d=\"M 181.661702 106.989543 \nL 252.895745 106.989543 \nL 252.895745 35.7555 \nL 181.661702 35.7555 \nz\n\" style=\"fill: #ffffff\"/>\n   </g>\n   <g clip-path=\"url(#p276ecae146)\">\n    <image xlink:href=\"data:image/png;base64,\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\" id=\"image392ff7d03c\" transform=\"scale(1 -1)translate(0 -71.28)\" x=\"181.661702\" y=\"-35.709543\" width=\"71.28\" height=\"71.28\"/>\n   </g>\n   <g id=\"patch_13\">\n    <path d=\"M 181.661702 106.989543 \nL 181.661702 35.7555 \n\" style=\"fill: none; stroke: #000000; stroke-width: 0.8; stroke-linejoin: miter; stroke-linecap: square\"/>\n   </g>\n   <g id=\"patch_14\">\n    <path d=\"M 252.895745 106.989543 \nL 252.895745 35.7555 \n\" style=\"fill: none; stroke: #000000; stroke-width: 0.8; stroke-linejoin: miter; stroke-linecap: square\"/>\n   </g>\n   <g id=\"patch_15\">\n    <path d=\"M 181.661702 106.989543 \nL 252.895745 106.989543 \n\" style=\"fill: none; stroke: #000000; stroke-width: 0.8; stroke-linejoin: miter; stroke-linecap: square\"/>\n   </g>\n   <g id=\"patch_16\">\n    <path d=\"M 181.661702 35.7555 \nL 252.895745 35.7555 \n\" style=\"fill: none; stroke: #000000; stroke-width: 0.8; stroke-linejoin: miter; stroke-linecap: square\"/>\n   </g>\n   <g id=\"text_3\">\n    <!-- trouser -->\n    <g transform=\"translate(195.837161 16.318125)scale(0.12 -0.12)\">\n     <defs>\n      <path id=\"DejaVuSans-73\" d=\"M 2834 3397 \nL 2834 2853 \nQ 2591 2978 2328 3040 \nQ 2066 3103 1784 3103 \nQ 1356 3103 1142 2972 \nQ 928 2841 928 2578 \nQ 928 2378 1081 2264 \nQ 1234 2150 1697 2047 \nL 1894 2003 \nQ 2506 1872 2764 1633 \nQ 3022 1394 3022 966 \nQ 3022 478 2636 193 \nQ 2250 -91 1575 -91 \nQ 1294 -91 989 -36 \nQ 684 19 347 128 \nL 347 722 \nQ 666 556 975 473 \nQ 1284 391 1588 391 \nQ 1994 391 2212 530 \nQ 2431 669 2431 922 \nQ 2431 1156 2273 1281 \nQ 2116 1406 1581 1522 \nL 1381 1569 \nQ 847 1681 609 1914 \nQ 372 2147 372 2553 \nQ 372 3047 722 3315 \nQ 1072 3584 1716 3584 \nQ 2034 3584 2315 3537 \nQ 2597 3491 2834 3397 \nz\n\" transform=\"scale(0.015625)\"/>\n     </defs>\n     <use xlink:href=\"#DejaVuSans-74\"/>\n     <use xlink:href=\"#DejaVuSans-72\" x=\"39.208984\"/>\n     <use xlink:href=\"#DejaVuSans-6f\" x=\"78.072266\"/>\n     <use xlink:href=\"#DejaVuSans-75\" x=\"139.253906\"/>\n     <use xlink:href=\"#DejaVuSans-73\" x=\"202.632812\"/>\n     <use xlink:href=\"#DejaVuSans-65\" x=\"254.732422\"/>\n     <use xlink:href=\"#DejaVuSans-72\" x=\"316.255859\"/>\n    </g>\n    <!-- trouser -->\n    <g transform=\"translate(195.837161 29.7555)scale(0.12 -0.12)\">\n     <use xlink:href=\"#DejaVuSans-74\"/>\n     <use xlink:href=\"#DejaVuSans-72\" x=\"39.208984\"/>\n     <use xlink:href=\"#DejaVuSans-6f\" x=\"78.072266\"/>\n     <use xlink:href=\"#DejaVuSans-75\" x=\"139.253906\"/>\n     <use xlink:href=\"#DejaVuSans-73\" x=\"202.632812\"/>\n     <use xlink:href=\"#DejaVuSans-65\" x=\"254.732422\"/>\n     <use xlink:href=\"#DejaVuSans-72\" x=\"316.255859\"/>\n    </g>\n   </g>\n  </g>\n  <g id=\"axes_4\">\n   <g id=\"patch_17\">\n    <path d=\"M 267.142553 106.989543 \nL 338.376596 106.989543 \nL 338.376596 35.7555 \nL 267.142553 35.7555 \nz\n\" style=\"fill: #ffffff\"/>\n   </g>\n   <g clip-path=\"url(#pa8b113dddd)\">\n    <image xlink:href=\"data:image/png;base64,\niVBORw0KGgoAAAANSUhEUgAAAGMAAABjCAYAAACPO76VAAAGDUlEQVR4nO2dzW/cRBTAPV57d+PdxIVkG0iyaYnYAoW2Ii0SqKDSqqISJ4QaDlxQLxyQ+Af4E3rgWnFAAm4IhAQ3KiE4BCQoQiklKE0oLSCaKF+bTbIfXq9tbvPmjXDYRt2dJ/F+pzd9m7HdN++98fiNLc6Li4lFBGdiHLV33s9KufrVw0g3dvm7rvtd+uBkqq5y6SdoJGb/K2yjR2cQbAxCsDEI4Zg+AZVbb06i9sKxK1K+5L+AdHcvd9/vu6c/lvKZ/CrSvXb6LSnbs3Pdd9oD2DMIwcYgBKkwFeVwez2qSzlrd/bd70roS/kvdx3pdg7lpezP7vsQ9wX2DEKwMQjBxiAEqZxx7uwcam/GILsitrolM/wgaldyN6AfC/ezMwnj0bfMwp5BCDYGIUiFqeeGbqH2VgyrtgOZdvcdHRxGzbwIpdxI8CW3St2Hv17DnkEINgYh2BiEIJUzvq1VUHuqBCusYZLRfp2+PBL5A6jtiii1n3iAcwbzL7AxCEEqTJWyO6i91hmS8oi7q/06b6UR57RQlMCYa1tauHPI1GOwZ1CCjUEINgYhSOUM32mi9k4MecGz9eWQ9JwRuXiM5QVMgzeiAtIdOIjzlEnYMwjBxiCE+TAlhBRrnYE9ftg9mQDfVdcTV8o3W2NIF0b6nb052DMIwcYgBBuDEOZzhrInIojx6Xzx9zEpf3r0I6T7pnBBynG9jnSxNrVdCCBPvDf/PNLZ88V7POHewZ5BCDYGIcyHKYXPrp1C7ZEfYNr56swbSGe/PCLl4iffI936cVy0e6MxIeXyFXzJiR3s72R7AHsGIdgYhGBjEIJUznA38dJE8AAslVTnS0iXfQzGkT453T6B88CPa7A9LSzjfFJYvofiuB7DnkEINgYhSIUpfadYbhPuzpslgXRhMb2Q4JnKHdS+vQW1twPbEdJlaxCmTJcmsGcQgo1BCDYGIYznDOHAKXQ8HLVFDHnCxqHeao+GVhqvj+LlkXdWXpFyoY2PYTcgZ2iH6DvsGYRgYxCCjUEI4znD9qG4OfJwVUdYVE4vxrE+U3WtNMrOJmq329BPlMfjLxiFxRRn/r/Pt5ewZxCCjUEI42EqPgwvgrTb2thQIpPTwMshyR77KupJFrU9D1ZxgyFcKJerml4EAdgzCMHGIAQbgxDGc0Zr1JNygtOCJZTprB1iZZRLj/VTDt7/lygdR9q2jt0JyC++rRVBx/1dIGHPIAQbgxDGw1SSgRCSuNrbCoQSNrQQFhfSQ0gpg4sO1DtwUcAdZZTaBeFqBW4Bh6n/LWwMQrAxCGE8Z4SeMh5sfdUW4nvHQyorU4RSkujFaa3Xa7ifFlymo01t1Rcb2zmca6Kgv0XR7BmEYGMQwnyYUqaadgOPDeVlOJa3jO+4q1Pwd6vTOPbY2hhLmnCZtlbHINTZqxam+g17BiHYGIRgYxDCeM5wG5ALYq0gwVuBvOAE6au0esF0NW7hf1D+VP9Gh7rbOdG2MPcb9gxCsDEIYTxMVR+H8eBW8YpqfVxpa0+enn30tpSfevou0hUFrqk6MLYt5S17EOlEBL8Vg9qGtEZjjzO//7BnEIKNQQg2BiGM54zEhnlnZxyvkh6ZXJayLfDU9qVhKIwtOdtIN9vCL4V8srQi5crhn5Huw0D5MmZTmxL3GfYMQrAxCGE+TCkz1rNHFpFuZgQeEl1v4o/wRsqS7i/NMtLltKXZSgE+/XDC+xPp/EM1aGTTtxn0A/YMQrAxCMHGIITxnBGWYeuvo+0vdpV3mOt5oOxuQB/ap3tqEa5eOFNckPJ8MI50sZK0WtOP4ONf3bD6CXsGIdgYhDAepsQmTCdPDv6BdL+24EWP1Q6+q14SD6X2uVgfRe1T3u9SvtMaQTr1zn7tON5+NnY19RA9gT2DEGwMQrAxCGE8Z+TXYTzMFH9DuuttePL29e4TSHfOuynlL+tHkW6phl8uuTQE+UX/lNDWCjz58w2/O5I9gxBsDEKI8+Ki0VcEOGWYvi6+jVdf3W24O87s8dwnV9MuQW8qN+hRFhc2eKtQq+V/Pod0cau/D5vYMwjBxiAEG4MQ/wCWoWOqZ6Eb/QAAAABJRU5ErkJggg==\" id=\"imageea6ae3bf80\" transform=\"scale(1 -1)translate(0 -71.28)\" x=\"267.142553\" y=\"-35.709543\" width=\"71.28\" height=\"71.28\"/>\n   </g>\n   <g id=\"patch_18\">\n    <path d=\"M 267.142553 106.989543 \nL 267.142553 35.7555 \n\" style=\"fill: none; stroke: #000000; stroke-width: 0.8; stroke-linejoin: miter; stroke-linecap: square\"/>\n   </g>\n   <g id=\"patch_19\">\n    <path d=\"M 338.376596 106.989543 \nL 338.376596 35.7555 \n\" style=\"fill: none; stroke: #000000; stroke-width: 0.8; stroke-linejoin: miter; stroke-linecap: square\"/>\n   </g>\n   <g id=\"patch_20\">\n    <path d=\"M 267.142553 106.989543 \nL 338.376596 106.989543 \n\" style=\"fill: none; stroke: #000000; stroke-width: 0.8; stroke-linejoin: miter; stroke-linecap: square\"/>\n   </g>\n   <g id=\"patch_21\">\n    <path d=\"M 267.142553 35.7555 \nL 338.376596 35.7555 \n\" style=\"fill: none; stroke: #000000; stroke-width: 0.8; stroke-linejoin: miter; stroke-linecap: square\"/>\n   </g>\n   <g id=\"text_4\">\n    <!-- trouser -->\n    <g transform=\"translate(281.318012 16.318125)scale(0.12 -0.12)\">\n     <use xlink:href=\"#DejaVuSans-74\"/>\n     <use xlink:href=\"#DejaVuSans-72\" x=\"39.208984\"/>\n     <use xlink:href=\"#DejaVuSans-6f\" x=\"78.072266\"/>\n     <use xlink:href=\"#DejaVuSans-75\" x=\"139.253906\"/>\n     <use xlink:href=\"#DejaVuSans-73\" x=\"202.632812\"/>\n     <use xlink:href=\"#DejaVuSans-65\" x=\"254.732422\"/>\n     <use xlink:href=\"#DejaVuSans-72\" x=\"316.255859\"/>\n    </g>\n    <!-- trouser -->\n    <g transform=\"translate(281.318012 29.7555)scale(0.12 -0.12)\">\n     <use xlink:href=\"#DejaVuSans-74\"/>\n     <use xlink:href=\"#DejaVuSans-72\" x=\"39.208984\"/>\n     <use xlink:href=\"#DejaVuSans-6f\" x=\"78.072266\"/>\n     <use xlink:href=\"#DejaVuSans-75\" x=\"139.253906\"/>\n     <use xlink:href=\"#DejaVuSans-73\" x=\"202.632812\"/>\n     <use xlink:href=\"#DejaVuSans-65\" x=\"254.732422\"/>\n     <use xlink:href=\"#DejaVuSans-72\" x=\"316.255859\"/>\n    </g>\n   </g>\n  </g>\n  <g id=\"axes_5\">\n   <g id=\"patch_22\">\n    <path d=\"M 352.623404 106.989543 \nL 423.857447 106.989543 \nL 423.857447 35.7555 \nL 352.623404 35.7555 \nz\n\" style=\"fill: #ffffff\"/>\n   </g>\n   <g clip-path=\"url(#pa649a84519)\">\n    <image xlink:href=\"data:image/png;base64,\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\" id=\"image1d22f5a3ab\" transform=\"scale(1 -1)translate(0 -71.28)\" x=\"352.623404\" y=\"-35.709543\" width=\"71.28\" height=\"71.28\"/>\n   </g>\n   <g id=\"patch_23\">\n    <path d=\"M 352.623404 106.989543 \nL 352.623404 35.7555 \n\" style=\"fill: none; stroke: #000000; stroke-width: 0.8; stroke-linejoin: miter; stroke-linecap: square\"/>\n   </g>\n   <g id=\"patch_24\">\n    <path d=\"M 423.857447 106.989543 \nL 423.857447 35.7555 \n\" style=\"fill: none; stroke: #000000; stroke-width: 0.8; stroke-linejoin: miter; stroke-linecap: square\"/>\n   </g>\n   <g id=\"patch_25\">\n    <path d=\"M 352.623404 106.989543 \nL 423.857447 106.989543 \n\" style=\"fill: none; stroke: #000000; stroke-width: 0.8; stroke-linejoin: miter; stroke-linecap: square\"/>\n   </g>\n   <g id=\"patch_26\">\n    <path d=\"M 352.623404 35.7555 \nL 423.857447 35.7555 \n\" style=\"fill: none; stroke: #000000; stroke-width: 0.8; stroke-linejoin: miter; stroke-linecap: square\"/>\n   </g>\n   <g id=\"text_5\">\n    <!-- shirt -->\n    <g transform=\"translate(374.826676 16.318125)scale(0.12 -0.12)\">\n     <defs>\n      <path id=\"DejaVuSans-68\" d=\"M 3513 2113 \nL 3513 0 \nL 2938 0 \nL 2938 2094 \nQ 2938 2591 2744 2837 \nQ 2550 3084 2163 3084 \nQ 1697 3084 1428 2787 \nQ 1159 2491 1159 1978 \nL 1159 0 \nL 581 0 \nL 581 4863 \nL 1159 4863 \nL 1159 2956 \nQ 1366 3272 1645 3428 \nQ 1925 3584 2291 3584 \nQ 2894 3584 3203 3211 \nQ 3513 2838 3513 2113 \nz\n\" transform=\"scale(0.015625)\"/>\n      <path id=\"DejaVuSans-69\" d=\"M 603 3500 \nL 1178 3500 \nL 1178 0 \nL 603 0 \nL 603 3500 \nz\nM 603 4863 \nL 1178 4863 \nL 1178 4134 \nL 603 4134 \nL 603 4863 \nz\n\" transform=\"scale(0.015625)\"/>\n     </defs>\n     <use xlink:href=\"#DejaVuSans-73\"/>\n     <use xlink:href=\"#DejaVuSans-68\" x=\"52.099609\"/>\n     <use xlink:href=\"#DejaVuSans-69\" x=\"115.478516\"/>\n     <use xlink:href=\"#DejaVuSans-72\" x=\"143.261719\"/>\n     <use xlink:href=\"#DejaVuSans-74\" x=\"184.375\"/>\n    </g>\n    <!-- shirt -->\n    <g transform=\"translate(374.826676 29.7555)scale(0.12 -0.12)\">\n     <use xlink:href=\"#DejaVuSans-73\"/>\n     <use xlink:href=\"#DejaVuSans-68\" x=\"52.099609\"/>\n     <use xlink:href=\"#DejaVuSans-69\" x=\"115.478516\"/>\n     <use xlink:href=\"#DejaVuSans-72\" x=\"143.261719\"/>\n     <use xlink:href=\"#DejaVuSans-74\" x=\"184.375\"/>\n    </g>\n   </g>\n  </g>\n  <g id=\"axes_6\">\n   <g id=\"patch_27\">\n    <path d=\"M 438.104255 106.989543 \nL 509.338298 106.989543 \nL 509.338298 35.7555 \nL 438.104255 35.7555 \nz\n\" style=\"fill: #ffffff\"/>\n   </g>\n   <g clip-path=\"url(#p96a62f97cf)\">\n    <image xlink:href=\"data:image/png;base64,\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\" id=\"imageedbe837b36\" transform=\"scale(1 -1)translate(0 -71.28)\" x=\"438.104255\" y=\"-35.709543\" width=\"71.28\" height=\"71.28\"/>\n   </g>\n   <g id=\"patch_28\">\n    <path d=\"M 438.104255 106.989543 \nL 438.104255 35.7555 \n\" style=\"fill: none; stroke: #000000; stroke-width: 0.8; stroke-linejoin: miter; stroke-linecap: square\"/>\n   </g>\n   <g id=\"patch_29\">\n    <path d=\"M 509.338298 106.989543 \nL 509.338298 35.7555 \n\" style=\"fill: none; stroke: #000000; stroke-width: 0.8; stroke-linejoin: miter; stroke-linecap: square\"/>\n   </g>\n   <g id=\"patch_30\">\n    <path d=\"M 438.104255 106.989543 \nL 509.338298 106.989543 \n\" style=\"fill: none; stroke: #000000; stroke-width: 0.8; stroke-linejoin: miter; stroke-linecap: square\"/>\n   </g>\n   <g id=\"patch_31\">\n    <path d=\"M 438.104255 35.7555 \nL 509.338298 35.7555 \n\" style=\"fill: none; stroke: #000000; stroke-width: 0.8; stroke-linejoin: miter; stroke-linecap: square\"/>\n   </g>\n   <g id=\"text_6\">\n    <!-- trouser -->\n    <g transform=\"translate(452.279714 16.318125)scale(0.12 -0.12)\">\n     <use xlink:href=\"#DejaVuSans-74\"/>\n     <use xlink:href=\"#DejaVuSans-72\" x=\"39.208984\"/>\n     <use xlink:href=\"#DejaVuSans-6f\" x=\"78.072266\"/>\n     <use xlink:href=\"#DejaVuSans-75\" x=\"139.253906\"/>\n     <use xlink:href=\"#DejaVuSans-73\" x=\"202.632812\"/>\n     <use xlink:href=\"#DejaVuSans-65\" x=\"254.732422\"/>\n     <use xlink:href=\"#DejaVuSans-72\" x=\"316.255859\"/>\n    </g>\n    <!-- trouser -->\n    <g transform=\"translate(452.279714 29.7555)scale(0.12 -0.12)\">\n     <use xlink:href=\"#DejaVuSans-74\"/>\n     <use xlink:href=\"#DejaVuSans-72\" x=\"39.208984\"/>\n     <use xlink:href=\"#DejaVuSans-6f\" x=\"78.072266\"/>\n     <use xlink:href=\"#DejaVuSans-75\" x=\"139.253906\"/>\n     <use xlink:href=\"#DejaVuSans-73\" x=\"202.632812\"/>\n     <use xlink:href=\"#DejaVuSans-65\" x=\"254.732422\"/>\n     <use xlink:href=\"#DejaVuSans-72\" x=\"316.255859\"/>\n    </g>\n   </g>\n  </g>\n  <g id=\"axes_7\">\n   <g id=\"patch_32\">\n    <path d=\"M 523.585106 106.989543 \nL 594.819149 106.989543 \nL 594.819149 35.7555 \nL 523.585106 35.7555 \nz\n\" style=\"fill: #ffffff\"/>\n   </g>\n   <g clip-path=\"url(#p2a0a2bfb91)\">\n    <image xlink:href=\"data:image/png;base64,\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\" id=\"image5af6660f83\" transform=\"scale(1 -1)translate(0 -71.28)\" x=\"523.585106\" y=\"-35.709543\" width=\"71.28\" height=\"71.28\"/>\n   </g>\n   <g id=\"patch_33\">\n    <path d=\"M 523.585106 106.989543 \nL 523.585106 35.7555 \n\" style=\"fill: none; stroke: #000000; stroke-width: 0.8; stroke-linejoin: miter; stroke-linecap: square\"/>\n   </g>\n   <g id=\"patch_34\">\n    <path d=\"M 594.819149 106.989543 \nL 594.819149 35.7555 \n\" style=\"fill: none; stroke: #000000; stroke-width: 0.8; stroke-linejoin: miter; stroke-linecap: square\"/>\n   </g>\n   <g id=\"patch_35\">\n    <path d=\"M 523.585106 106.989543 \nL 594.819149 106.989543 \n\" style=\"fill: none; stroke: #000000; stroke-width: 0.8; stroke-linejoin: miter; stroke-linecap: square\"/>\n   </g>\n   <g id=\"patch_36\">\n    <path d=\"M 523.585106 35.7555 \nL 594.819149 35.7555 \n\" style=\"fill: none; stroke: #000000; stroke-width: 0.8; stroke-linejoin: miter; stroke-linecap: square\"/>\n   </g>\n   <g id=\"text_7\">\n    <!-- coat -->\n    <g transform=\"translate(546.202753 16.318125)scale(0.12 -0.12)\">\n     <defs>\n      <path id=\"DejaVuSans-63\" d=\"M 3122 3366 \nL 3122 2828 \nQ 2878 2963 2633 3030 \nQ 2388 3097 2138 3097 \nQ 1578 3097 1268 2742 \nQ 959 2388 959 1747 \nQ 959 1106 1268 751 \nQ 1578 397 2138 397 \nQ 2388 397 2633 464 \nQ 2878 531 3122 666 \nL 3122 134 \nQ 2881 22 2623 -34 \nQ 2366 -91 2075 -91 \nQ 1284 -91 818 406 \nQ 353 903 353 1747 \nQ 353 2603 823 3093 \nQ 1294 3584 2113 3584 \nQ 2378 3584 2631 3529 \nQ 2884 3475 3122 3366 \nz\n\" transform=\"scale(0.015625)\"/>\n     </defs>\n     <use xlink:href=\"#DejaVuSans-63\"/>\n     <use xlink:href=\"#DejaVuSans-6f\" x=\"54.980469\"/>\n     <use xlink:href=\"#DejaVuSans-61\" x=\"116.162109\"/>\n     <use xlink:href=\"#DejaVuSans-74\" x=\"177.441406\"/>\n    </g>\n    <!-- coat -->\n    <g transform=\"translate(546.202753 29.7555)scale(0.12 -0.12)\">\n     <use xlink:href=\"#DejaVuSans-63\"/>\n     <use xlink:href=\"#DejaVuSans-6f\" x=\"54.980469\"/>\n     <use xlink:href=\"#DejaVuSans-61\" x=\"116.162109\"/>\n     <use xlink:href=\"#DejaVuSans-74\" x=\"177.441406\"/>\n    </g>\n   </g>\n  </g>\n  <g id=\"axes_8\">\n   <g id=\"patch_37\">\n    <path d=\"M 609.065957 106.989543 \nL 680.3 106.989543 \nL 680.3 35.7555 \nL 609.065957 35.7555 \nz\n\" style=\"fill: #ffffff\"/>\n   </g>\n   <g clip-path=\"url(#p53c9421f2d)\">\n    <image xlink:href=\"data:image/png;base64,\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\" id=\"imagec8d2ab9b01\" transform=\"scale(1 -1)translate(0 -71.28)\" x=\"609.065957\" y=\"-35.709543\" width=\"71.28\" height=\"71.28\"/>\n   </g>\n   <g id=\"patch_38\">\n    <path d=\"M 609.065957 106.989543 \nL 609.065957 35.7555 \n\" style=\"fill: none; stroke: #000000; stroke-width: 0.8; stroke-linejoin: miter; stroke-linecap: square\"/>\n   </g>\n   <g id=\"patch_39\">\n    <path d=\"M 680.3 106.989543 \nL 680.3 35.7555 \n\" style=\"fill: none; stroke: #000000; stroke-width: 0.8; stroke-linejoin: miter; stroke-linecap: square\"/>\n   </g>\n   <g id=\"patch_40\">\n    <path d=\"M 609.065957 106.989543 \nL 680.3 106.989543 \n\" style=\"fill: none; stroke: #000000; stroke-width: 0.8; stroke-linejoin: miter; stroke-linecap: square\"/>\n   </g>\n   <g id=\"patch_41\">\n    <path d=\"M 609.065957 35.7555 \nL 680.3 35.7555 \n\" style=\"fill: none; stroke: #000000; stroke-width: 0.8; stroke-linejoin: miter; stroke-linecap: square\"/>\n   </g>\n   <g id=\"text_8\">\n    <!-- shirt -->\n    <g transform=\"translate(631.269229 16.318125)scale(0.12 -0.12)\">\n     <use xlink:href=\"#DejaVuSans-73\"/>\n     <use xlink:href=\"#DejaVuSans-68\" x=\"52.099609\"/>\n     <use xlink:href=\"#DejaVuSans-69\" x=\"115.478516\"/>\n     <use xlink:href=\"#DejaVuSans-72\" x=\"143.261719\"/>\n     <use xlink:href=\"#DejaVuSans-74\" x=\"184.375\"/>\n    </g>\n    <!-- shirt -->\n    <g transform=\"translate(631.269229 29.7555)scale(0.12 -0.12)\">\n     <use xlink:href=\"#DejaVuSans-73\"/>\n     <use xlink:href=\"#DejaVuSans-68\" x=\"52.099609\"/>\n     <use xlink:href=\"#DejaVuSans-69\" x=\"115.478516\"/>\n     <use xlink:href=\"#DejaVuSans-72\" x=\"143.261719\"/>\n     <use xlink:href=\"#DejaVuSans-74\" x=\"184.375\"/>\n    </g>\n   </g>\n  </g>\n </g>\n <defs>\n  <clipPath id=\"pe10cf93cb4\">\n   <rect x=\"10.7\" y=\"35.7555\" width=\"71.234043\" height=\"71.234043\"/>\n  </clipPath>\n  <clipPath id=\"pdf8cef2df2\">\n   <rect x=\"96.180851\" y=\"35.7555\" width=\"71.234043\" height=\"71.234043\"/>\n  </clipPath>\n  <clipPath id=\"p276ecae146\">\n   <rect x=\"181.661702\" y=\"35.7555\" width=\"71.234043\" height=\"71.234043\"/>\n  </clipPath>\n  <clipPath id=\"pa8b113dddd\">\n   <rect x=\"267.142553\" y=\"35.7555\" width=\"71.234043\" height=\"71.234043\"/>\n  </clipPath>\n  <clipPath id=\"pa649a84519\">\n   <rect x=\"352.623404\" y=\"35.7555\" width=\"71.234043\" height=\"71.234043\"/>\n  </clipPath>\n  <clipPath id=\"p96a62f97cf\">\n   <rect x=\"438.104255\" y=\"35.7555\" width=\"71.234043\" height=\"71.234043\"/>\n  </clipPath>\n  <clipPath id=\"p2a0a2bfb91\">\n   <rect x=\"523.585106\" y=\"35.7555\" width=\"71.234043\" height=\"71.234043\"/>\n  </clipPath>\n  <clipPath id=\"p53c9421f2d\">\n   <rect x=\"609.065957\" y=\"35.7555\" width=\"71.234043\" height=\"71.234043\"/>\n  </clipPath>\n </defs>\n</svg>\n"
     },
     "metadata": {},
     "output_type": "display_data"
    }
   ],
   "source": [
    "def predict_ch3(net, test_iter, n=8):  #@save\n",
    "    \"\"\"预测标签（定义见第3章）\"\"\"\n",
    "    for X, y in test_iter:\n",
    "        break\n",
    "    trues = d2l.get_fashion_mnist_labels(y)\n",
    "    preds = d2l.get_fashion_mnist_labels(net(X).argmax(axis=1))\n",
    "    titles = [true +'\\n' + pred for true, pred in zip(trues, preds)]\n",
    "    d2l.show_images(\n",
    "        X[0:n].reshape((n, 28, 28)), 1, n, titles=titles[0:n])\n",
    "\n",
    "predict_ch3(net, test_iter)"
   ]
  },
  {
   "cell_type": "markdown",
   "id": "1967992b",
   "metadata": {
    "origin_pos": 58
   },
   "source": [
    "## 小结\n",
    "\n",
    "* 借助softmax回归，我们可以训练多分类的模型。\n",
    "* 训练softmax回归循环模型与训练线性回归模型非常相似：先读取数据，再定义模型和损失函数，然后使用优化算法训练模型。大多数常见的深度学习模型都有类似的训练过程。\n",
    "\n",
    "## 练习\n",
    "\n",
    "1. 本节直接实现了基于数学定义softmax运算的`softmax`函数。这可能会导致什么问题？提示：尝试计算$\\exp(50)$的大小。\n",
    "1. 本节中的函数`cross_entropy`是根据交叉熵损失函数的定义实现的。它可能有什么问题？提示：考虑对数的定义域。\n",
    "1. 请想一个解决方案来解决上述两个问题。\n",
    "1. 返回概率最大的分类标签总是最优解吗？例如，医疗诊断场景下可以这样做吗？\n",
    "1. 假设我们使用softmax回归来预测下一个单词，可选取的单词数目过多可能会带来哪些问题?\n"
   ]
  },
  {
   "cell_type": "markdown",
   "id": "a81f592b",
   "metadata": {
    "origin_pos": 60,
    "tab": [
     "pytorch"
    ]
   },
   "source": [
    "[Discussions](https://discuss.d2l.ai/t/1789)\n"
   ]
  }
 ],
 "metadata": {
  "language_info": {
   "name": "python"
  },
  "kernelspec": {
   "name": "python3",
   "language": "python",
   "display_name": "Python 3 (ipykernel)"
  }
 },
 "nbformat": 4,
 "nbformat_minor": 5
}
